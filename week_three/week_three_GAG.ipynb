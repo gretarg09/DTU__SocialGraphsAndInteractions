{
 "cells": [
  {
   "cell_type": "markdown",
   "metadata": {},
   "source": [
    "# Week three"
   ]
  },
  {
   "cell_type": "markdown",
   "metadata": {},
   "source": [
    "## Part 1: Small world networks\n",
    "\n",
    "- ** What's the problem with random networks as a model for real-world networks according to the argument on p. 11-12 in the .pdf (near the end of section 3.5 for those of you reading the web-version)? **\n",
    "    - The poission form significantly underestimate the number of high degree nodes. The spread in the degrees of rela networks is much wider than expected in a random network. The degree distribution of random networks lack clear outliers and in a large random network the degree of most nodes is in the narrow vicinity of <k>\n",
    "\n",
    "- ** List the four regimes that characterize random networks as a function of ⟨k⟩⟨k⟩. *\n",
    "    - *Subcritical Regime* p < 1/N. In the subcritical regime the network consists of numerous tiny components, whose size follows the exponential distribution. Hence these components have comparable sizes, lacking a clear winner that we could designate as a giant component\n",
    "    - *Critical point: * p = 1/N. The critical point separates the regime where there is not yet a giant component (<k> < 1) from the regime where ther is one (<k> > 1) .At the critical point most nodes are located in numerous small components, whose size distribution follows 3.36. The power law form indicates that components of rather different sizes coexist. Thes numerous small components are mainly trees, while the giant component may contain loops. \n",
    "    - *Supercritical point* p > 1/N .This regime is most relevance to real systems, as for the first time we have a giant component that looks like a network. In the supercritical regime numerous isolated components coexist with the giant component, their size distribution following 3.35. These small components are tress, while the giant component contains loops and cycles. The supercritical regime lasts until all nodes are absorbed by the giant component. \n",
    "    - *Connected regime :* p > ln N / N. For sufficiently large p the giant component absorbs all nodes and components, hence N_G = N. In the absence of isolated nodes the network becomes connected. Here the average degree is <k> = lnN.  The random network model predicts that the emergence  of a network is not a smooth, gradual process. The isolated nodes and tiny components observed for small <k> collapse into a giant component through a phase transition.\n",
    "    - *Notes:* Once <k> exceeds a critical value, N_G/N increases, signaling the rapid emergence of a large cluster t>hat we call the giant component. We have giant component if and only if each node has on average more than one link <k>. P_c = 1/N therefore the larger a network, the smaller p is sufficient for the giant component. \n",
    "   \n",
    "\n",
    "- **According to the book, why is it a problem for random networks (in terms of being a model for real-world networks) that the degree-dependent clustering C(k) decreases as a function of k in real-world networks?** \n",
    "    - Because in a random network the local clustering coefficient is independent on the node´s degree and <C> only depends on the system size as 1/N . "
   ]
  },
  {
   "cell_type": "markdown",
   "metadata": {},
   "source": [
    "### Exercise Ws edition "
   ]
  },
  {
   "cell_type": "code",
   "execution_count": 73,
   "metadata": {
    "collapsed": false
   },
   "outputs": [
    {
     "name": "stdout",
     "output_type": "stream",
     "text": [
      "The average shortest path with rewiring probability of 0 is 62.875751503\n",
      "The average shortest path with rewiring probability of 0.1 is 7.6599759519\n",
      "The average shortest path with rewiring probability of 0.5 is 5.02698997996\n",
      "The average shortest path with rewiring probability of 1 is 4.76836873747\n",
      "The average shortest path with rewiring probability of 2 is 4.76836873747\n"
     ]
    }
   ],
   "source": [
    "# let´s create the graph\n",
    "import networkx as nx\n",
    "import matplotlib.pyplot as plt\n",
    "from __future__ import division\n",
    "\n",
    "n = 500\n",
    "k = 4\n",
    "\n",
    "G_nx1 = nx.watts_strogatz_graph(n,k,0)\n",
    "G_nx2 = nx.watts_strogatz_graph(n,k,0.1)\n",
    "G_nx3 = nx.watts_strogatz_graph(n,k,0.5)\n",
    "G_nx4 = nx.watts_strogatz_graph(n,k,1)\n",
    "G_nx5 = nx.watts_strogatz_graph(n,k,2)\n",
    "\n",
    "G_random = nx.erdos_renyi_graph(500,1)\n",
    "\n",
    "print(\"The average shortest path with rewiring probability of {} is {}\".format(0,nx.average_shortest_path_length(G_nx1)))\n",
    "print(\"The average shortest path with rewiring probability of {} is {}\".format(0.1,nx.average_shortest_path_length(G_nx2)))\n",
    "print(\"The average shortest path with rewiring probability of {} is {}\".format(0.5,nx.average_shortest_path_length(G_nx3)))\n",
    "print(\"The average shortest path with rewiring probability of {} is {}\".format(1,nx.average_shortest_path_length(G_nx4)))\n",
    "print(\"The average shortest path with rewiring probability of {} is {}\".format(2,nx.average_shortest_path_length(G_nx4)))\n"
   ]
  },
  {
   "cell_type": "code",
   "execution_count": null,
   "metadata": {
    "collapsed": true
   },
   "outputs": [],
   "source": []
  },
  {
   "cell_type": "markdown",
   "metadata": {},
   "source": []
  },
  {
   "cell_type": "markdown",
   "metadata": {},
   "source": [
    "**Describe what happens to the network when p=1.**\n",
    "    - One of the characteristic of a random network model is that it contains low average path lenght, meaning that there tends to be a path between a pair of nodes that involves only a few edges. This is called the small world problem and the average distance in such a network can be described by the following formula <d> = ln(N)/ln(k), where k is the average degree of the network and N is the number of nodes in the network. In a Watts storgatz p stands for the probability that an edge is rewired, meaning that the edge is disconnected from one of its nodes and randomly connected to another node anywhere in the network. Each edge is chosen to be rewired independent with probability p. \n",
    "    \n",
    "    So when the probability is low then most connections are still in the original form, therefore they connect to the original local connections, they connect nodes that are nearby in the lattice. But some of the rewired edges might turn into long distance connections that connects nodes that are far away from each other, therefore lowering the average path length. These paths are called shortcuts and they lower the overall average path lenght of the network, so when P increases more and more rewiring happens. When P = 1 then all of the edges are rewired and we end up with a random network. Like we have mentioned earlier one of the characteristic of randum network is that the average path length can be described with this formula <d> = ln(N)/ln<k>. Calculating this for our network of N = 500 and k = 4 gives the average distance of 4.483. Like you can see here above the average shortest path decreases with increasing p and when p = 1 then the average distance is quite close to the theoretical value for a random network.\n",
    "    \n",
    "    info taken from this website [here](http://mathinsight.org/small_world_network)"
   ]
  },
  {
   "cell_type": "markdown",
   "metadata": {},
   "source": [
    "### The behavior investigation\n",
    "\n",
    "Let's investigate this behavior in detail. Generate 50 networks with N=500N=500, ⟨k⟩=4, for each of p={0,0.01,0.03,0.05,0.1,0.2}p={0,0.01,0.03,0.05,0.1,0.2}. Calculate the average of ⟨d⟩as well as the standard deviation over the 50 networks, to create a plot that shows how the path length decreases very quickly with only a little fraction of re-wiring. Use the standard deviation to add errorbars to the plot. My version of the plot is below (since a picture's worth 1000 words)."
   ]
  },
  {
   "cell_type": "code",
   "execution_count": 79,
   "metadata": {
    "collapsed": false
   },
   "outputs": [],
   "source": [
    "import collections\n",
    "import networkx as nx\n",
    "import matplotlib.pyplot as plt\n",
    "import numpy as np\n",
    "\n",
    "N = 500\n",
    "k = 4\n",
    "p_values = [0,0.01,0.03,0.05,0.1,0.2]\n",
    "\n",
    "networks = collections.defaultdict(list)\n",
    "avgs = collections.defaultdict(float)\n",
    "stds = collections.defaultdict(float)\n",
    "\n",
    "# creating a list that contains 50 networks for each p\n",
    "# calculating the average distance for each network\n",
    "# calculatin the std of the average distance \n",
    "for i,p in enumerate(p_values):\n",
    "    # Use list comprehension to create 50 instances of the network\n",
    "    networks[i] = [nx.watts_strogatz_graph(n,k,p) for j in range(50)]\n",
    "    average_d = [nx.average_shortest_path_length(network) for network in networks[i]]\n",
    "    avgs[i] = np.mean(average_d) \n",
    "    stds[i] = np.std(average_d)"
   ]
  },
  {
   "cell_type": "code",
   "execution_count": 101,
   "metadata": {
    "collapsed": false
   },
   "outputs": [
    {
     "data": {
      "image/png": "[encoded data removed]",
      "text/plain": [
       "<matplotlib.figure.Figure at 0x139b80210>"
      ]
     },
     "metadata": {},
     "output_type": "display_data"
    }
   ],
   "source": [
    "plt.figure()\n",
    "plt.plot(p_values, avgs.values(),color=\"black\")\n",
    "plt.errorbar(p_values, avgs.values(), xerr=0, yerr=stds.values(), fmt=\"o\", color=\"orange\")\n",
    "plt.ylabel('ave (<d>)')\n",
    "plt.xlabel('p')\n",
    "plt.margins(0.05,0.10)\n",
    "plt.show()"
   ]
  },
  {
   "cell_type": "code",
   "execution_count": null,
   "metadata": {
    "collapsed": true
   },
   "outputs": [],
   "source": []
  },
  {
   "cell_type": "code",
   "execution_count": 88,
   "metadata": {
    "collapsed": false
   },
   "outputs": [
    {
     "data": {
      "text/plain": [
       "[7.1054273576010019e-15,\n",
       " 6.1847215088314256,\n",
       " 1.2240545878422089,\n",
       " 0.5758223495521706,\n",
       " 0.26078195646092678,\n",
       " 0.11959097197376481]"
      ]
     },
     "execution_count": 88,
     "metadata": {},
     "output_type": "execute_result"
    }
   ],
   "source": [
    "stds.values()"
   ]
  },
  {
   "cell_type": "code",
   "execution_count": 89,
   "metadata": {
    "collapsed": false
   },
   "outputs": [
    {
     "data": {
      "text/plain": [
       "[62.875751503006022,\n",
       " 23.76124184368738,\n",
       " 13.417167454909821,\n",
       " 10.050843286573148,\n",
       " 7.7097567935871743,\n",
       " 6.0895017234468947]"
      ]
     },
     "execution_count": 89,
     "metadata": {},
     "output_type": "execute_result"
    }
   ],
   "source": [
    "avgs.values()"
   ]
  },
  {
   "cell_type": "code",
   "execution_count": null,
   "metadata": {
    "collapsed": true
   },
   "outputs": [],
   "source": []
  },
  {
   "cell_type": "code",
   "execution_count": null,
   "metadata": {
    "collapsed": true
   },
   "outputs": [],
   "source": []
  }
 ],
 "metadata": {
  "anaconda-cloud": {},
  "kernelspec": {
   "display_name": "Python [conda root]",
   "language": "python",
   "name": "conda-root-py"
  },
  "language_info": {
   "codemirror_mode": {
    "name": "ipython",
    "version": 2
   },
   "file_extension": ".py",
   "mimetype": "text/x-python",
   "name": "python",
   "nbconvert_exporter": "python",
   "pygments_lexer": "ipython2",
   "version": "2.7.12"
  }
 },
 "nbformat": 4,
 "nbformat_minor": 1
}
