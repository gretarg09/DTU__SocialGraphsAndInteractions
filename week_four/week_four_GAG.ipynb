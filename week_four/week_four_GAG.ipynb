{
 "cells": [
  {
   "cell_type": "markdown",
   "metadata": {},
   "source": [
    "# Part 0: Regular expression "
   ]
  },
  {
   "cell_type": "code",
   "execution_count": 3,
   "metadata": {
    "collapsed": false
   },
   "outputs": [
    {
     "name": "stdout",
     "output_type": "stream",
     "text": [
      "['1234']\n",
      "['9999']\n"
     ]
    }
   ],
   "source": [
    "import urllib2  # the lib that handles the url stuff\n",
    "import re\n",
    "\n",
    "# Get the text from the url\n",
    "data = urllib2.urlopen('https://raw.githubusercontent.com/suneman/socialgraphs2017/master/files/test.txt')\n",
    "\n",
    "# use regular expression to find all 4 digit numbers\n",
    "re_string = r\"\\b\\d{4}\\b\"\n",
    "for line in data: # files are iterable\n",
    "    if re.findall(re_string,line) != []:\n",
    "        print re.findall(re_string,line)\n",
    "    "
   ]
  },
  {
   "cell_type": "markdown",
   "metadata": {},
   "source": [
    "### Provide an example of regex, to match words starting with \"super\". "
   ]
  },
  {
   "cell_type": "code",
   "execution_count": 18,
   "metadata": {
    "collapsed": false
   },
   "outputs": [
    {
     "name": "stdout",
     "output_type": "stream",
     "text": [
      "['superpolaroid']\n",
      "['supertaxidermy']\n",
      "['superbeer']\n"
     ]
    }
   ],
   "source": [
    "import urllib2  # the lib that handles the url stuff\n",
    "import re\n",
    "\n",
    "# Get the text from the url\n",
    "data = urllib2.urlopen('https://raw.githubusercontent.com/suneman/socialgraphs2017/master/files/test.txt')\n",
    "\n",
    "re_string = r\"\\bsuper[a-zA-z]*\"\n",
    "for line in data: # files are iterable\n",
    "    if re.findall(re_string,line) != []:\n",
    "        print re.findall(re_string,line)\n",
    "    "
   ]
  },
  {
   "cell_type": "markdown",
   "metadata": {
    "collapsed": false
   },
   "source": [
    "### Extract wiki links"
   ]
  },
  {
   "cell_type": "code",
   "execution_count": 19,
   "metadata": {
    "collapsed": false
   },
   "outputs": [
    {
     "name": "stdout",
     "output_type": "stream",
     "text": [
      "['drinking vinegar']\n",
      "['gentrify']\n",
      "['hashtag']\n",
      "['Bicycle', 'Pitchfork']\n"
     ]
    }
   ],
   "source": [
    "import urllib2  # the lib that handles the url stuff\n",
    "import re\n",
    "\n",
    "# Get the text from the url\n",
    "data = urllib2.urlopen('https://raw.githubusercontent.com/suneman/socialgraphs2017/master/files/test.txt')\n",
    "\n",
    "re_string = r\"\\[\\[([^\\[\\]|]*)[^\\[\\]]*\\]\\]\"\n",
    "for line in data: # files are iterable\n",
    "    if re.findall(re_string,line) != []:\n",
    "        print re.findall(re_string,line)\n",
    "    \n",
    "\n",
    "\n",
    "\n"
   ]
  },
  {
   "cell_type": "markdown",
   "metadata": {
    "collapsed": true
   },
   "source": [
    "# Part A: Download Philosopher-pages from Wikipedia"
   ]
  },
  {
   "cell_type": "code",
   "execution_count": 268,
   "metadata": {
    "collapsed": false
   },
   "outputs": [],
   "source": [
    "import urllib2\n",
    "\n",
    "philosophers = {\n",
    "    \"aestheticians\":{\n",
    "        \"title\":\"title=List_of_aestheticians\",\n",
    "        \"names\":\"\"\n",
    "    },\n",
    "    \"epistemologists\":{\n",
    "        \"title\":\"title=List_of_epistemologists\",\n",
    "        \"names\":\"\"\n",
    "    },\n",
    "    \"ethicists\":{\n",
    "        \"title\":\"title=List_of_ethicists\",\n",
    "        \"names\":\"\"\n",
    "    },\n",
    "    \"logicians\":{\n",
    "        \"title\":\"title=List_of_logicians\",\n",
    "        \"names\":\"\"        \n",
    "    },\n",
    "    \"metaphysicians\":{\n",
    "        \"title\":\"title=List_of_metaphysicians\",\n",
    "        \"names\":\"\"\n",
    "    },\n",
    "    \"social and political philosophers\":{\n",
    "        \"title\":\"title=Index_of_sociopolitical_thinkers\",\n",
    "        \"names\":\"\"\n",
    "    }\n",
    "}\n",
    "\n",
    "#'https://en.wikipedia.org/w/index.php?title=List_of_aestheticians&action=edit'\n",
    "\n",
    "# set the parameters (explained in detail here https://www.mediawiki.org/wiki/API:Tutorial)\n",
    "baseurl = \"https://en.wikipedia.org/w/index.php?\"\n",
    "title = \"\"\n",
    "action = \"action=edit\"\n",
    "\n",
    "for i in philosophers:\n",
    "    # construct the query\n",
    "    query = \"{}{}&{}\".format(\n",
    "    baseurl,\n",
    "    philosophers[i][\"title\"],\n",
    "    action)\n",
    "    # use urllib and regex to get the list of philosophers\n",
    "    wikiresponse = urllib2.urlopen(query)\n",
    "    wikisource = wikiresponse.read()\n",
    "    philosophers[i][\"names\"] = re.findall(r'\\*.*?\\[\\[(.*?)[\\]\\|]', wikisource)\n",
    "\n",
    "# Because the last 4 elements of the ethicists list are not philosophers\n",
    "# they are left out\n",
    "philosophers[\"ethicists\"][\"names\"] = philosophers[\"ethicists\"][\"names\"][:-4]"
   ]
  },
  {
   "cell_type": "code",
   "execution_count": 271,
   "metadata": {
    "collapsed": false
   },
   "outputs": [
    {
     "name": "stdout",
     "output_type": "stream",
     "text": [
      "The number of philosophers in social and political philosophers is 338\n",
      "The number of philosophers in aestheticians is 124\n",
      "The number of philosophers in logicians is 276\n",
      "The number of philosophers in epistemologists is 100\n",
      "The number of philosophers in metaphysicians is 97\n",
      "The number of philosophers in ethicists is 272\n",
      "\n",
      "The largest branch of philosophy is social and political philosophers\n",
      "\n",
      " Yes, There are 120 philosophers that are in more than one link\n",
      "\n",
      "The most common ones are:\n",
      "  Thomas Aquinas\n",
      "  Aristotle\n",
      "\n",
      "Thomas Aquinas:6 number of times\n",
      "Aristotle:6 number of times\n",
      "Plato:5 number of times\n",
      "Bertrand Russell:5 number of times\n",
      "Immanuel Kant:5 number of times\n",
      "David Hume:4 number of times\n",
      "Baruch Spinoza:3 number of times\n",
      "Gottfried Leibniz:3 number of times\n",
      "Georg Wilhelm Friedrich Hegel:3 number of times\n",
      "Nelson Goodman:3 number of times\n",
      "Robert Nozick:3 number of times\n",
      "Ludwig Wittgenstein:3 number of times\n",
      "Francis Bacon:3 number of times\n",
      "Søren Kierkegaard:3 number of times\n",
      "John Locke:3 number of times\n",
      "Judith Butler:3 number of times\n",
      "John Stuart Mill:3 number of times\n",
      "Ruth Barcan Marcus:3 number of times\n",
      "Arthur Schopenhauer:3 number of times\n",
      "Ayn Rand:3 number of times\n",
      "Mario Bunge:3 number of times\n",
      "Susan Haack:3 number of times\n",
      "Christian Wolff (philosopher):2 number of times\n",
      "Martin Heidegger:2 number of times\n",
      "Joxe Azurmendi:2 number of times\n",
      "Socrates:2 number of times\n",
      "Mencius:2 number of times\n",
      "George Berkeley:2 number of times\n",
      "Mozi:2 number of times\n",
      "Giambattista Vico:2 number of times\n",
      "Berit Brogaard:2 number of times\n",
      "Peter of Spain (author):2 number of times\n",
      "Walter Benjamin:2 number of times\n",
      "Graham Priest:2 number of times\n",
      "Thomas Nagel:2 number of times\n",
      "Sally Haslanger:2 number of times\n",
      "Herbert Spencer:2 number of times\n",
      "Georges Bataille:2 number of times\n",
      "B. R. Ambedkar:2 number of times\n",
      "Mao Zedong:2 number of times\n",
      "Michael Oakeshott:2 number of times\n",
      "Gottlob Frege:2 number of times\n",
      "Karl-Otto Apel:2 number of times\n",
      "Mortimer Adler:2 number of times\n",
      "Niccolò Machiavelli:2 number of times\n",
      "Friedrich Nietzsche:2 number of times\n",
      "Catherine Elgin:2 number of times\n",
      "Peter Kropotkin:2 number of times\n",
      "Joseph Raz:2 number of times\n",
      "Kit Fine:2 number of times\n",
      "Gualtiero Piccinini:2 number of times\n",
      "John Hospers:2 number of times\n",
      "Jessica Wilson:2 number of times\n",
      "Francis Hutcheson (philosopher):2 number of times\n",
      "Max Stirner:2 number of times\n",
      "Saul Kripke:2 number of times\n",
      "G. E. Moore:2 number of times\n",
      "Ronald Dworkin:2 number of times\n",
      "Penelope Maddy:2 number of times\n",
      "John Searle:2 number of times\n",
      "William of Ockham:2 number of times\n",
      "Martin Luther King, Jr.:2 number of times\n",
      "Paul of Venice:2 number of times\n",
      "Philip Pettit:2 number of times\n",
      "Judith Jarvis Thomson:2 number of times\n",
      "Alain Badiou:2 number of times\n",
      "Ludwig von Mises:2 number of times\n",
      "John Hawthorne:2 number of times\n",
      "Hans-Hermann Hoppe:2 number of times\n",
      "Jeremy Bentham:2 number of times\n",
      "Martha Nussbaum:2 number of times\n",
      "David Chalmers:2 number of times\n",
      "Peter Geach:2 number of times\n",
      "Emma Goldman:2 number of times\n",
      "Sun Yat-sen:2 number of times\n",
      "David Kolb:2 number of times\n",
      "René Descartes:2 number of times\n",
      "Walter Terence Stace:2 number of times\n",
      "P. F. Strawson:2 number of times\n",
      "Alfred North Whitehead:2 number of times\n",
      "Nader El-Bizri:2 number of times\n",
      "Robert S. Hartman:2 number of times\n",
      "George Boole:2 number of times\n",
      "Michel Foucault:2 number of times\n",
      "John Rawls:2 number of times\n",
      "Thiruvalluvar:2 number of times\n",
      "Alvin Plantinga:2 number of times\n",
      "Jürgen Habermas:2 number of times\n",
      "Murray Bookchin:2 number of times\n",
      "J. J. C. Smart:2 number of times\n",
      "Thomas Hill Green:2 number of times\n",
      "Democritus:2 number of times\n",
      "Friedrich Schiller:2 number of times\n",
      "Constantin Rădulescu-Motru:2 number of times\n",
      "Maurice Blanchot:2 number of times\n",
      "T. M. Scanlon:2 number of times\n",
      "Lorenzo Peña:2 number of times\n",
      "Jean-Jacques Rousseau:2 number of times\n",
      "Jean-François Lyotard:2 number of times\n",
      "Abraham Joshua Heschel:2 number of times\n",
      "Michel Onfray:2 number of times\n",
      "Karl Popper:2 number of times\n",
      "Hugo Grotius:2 number of times\n",
      "L.A. Paul:2 number of times\n",
      "Hilary Putnam:2 number of times\n",
      "Gilbert Harman:2 number of times\n",
      "William Alston:2 number of times\n",
      "Trenton Merricks:2 number of times\n",
      "Paul Benacerraf:2 number of times\n",
      "Augustine of Hippo:2 number of times\n",
      "Thomas Hobbes:2 number of times\n",
      "Peter Unger:2 number of times\n",
      "Confucius:2 number of times\n",
      "Karl Wilhelm Friedrich von Schlegel:2 number of times\n",
      "John Ruskin:2 number of times\n",
      "Noam Chomsky:2 number of times\n",
      "John Finnis:2 number of times\n",
      "Edward Said:2 number of times\n",
      "Murray Rothbard:2 number of times\n",
      "Henry Sidgwick:2 number of times\n"
     ]
    }
   ],
   "source": [
    "all_philo = []\n",
    "largestBranch = \"\"\n",
    "temp = 0 # temp variable used to find the largest brand\n",
    "for i in philosophers:\n",
    "    all_philo = all_philo + philosophers[i][\"names\"]\n",
    "    print \"The number of philosophers in {} is {}\".format(\n",
    "        i,\n",
    "        len(philosophers[i][\"names\"]))\n",
    "    if len(philosophers[i][\"names\"]) > temp:\n",
    "        temp = len(philosophers[i][\"names\"])\n",
    "        largestBranch = i\n",
    "        \n",
    "print \"\\nThe largest branch of philosophy is {}\".format(largestBranch)\n",
    "\n",
    "# check if there are some philosophers that are in more than one list\n",
    "import collections\n",
    "\n",
    "philoCounted = collections.Counter(all_philo)\n",
    "nrOfDublicates =len([philo for philo,value in philoCounted.items() if value > 1])\n",
    "\n",
    "print \"\\n Yes, There are {} philosophers that are in more than one link\".format(nrOfDublicates)\n",
    "\n",
    "# Find the most common ones\n",
    "most_common = [philo for philo,value in philoCounted.items() if value == philoCounted.most_common(1)[0][1] ]\n",
    "print(\"\\nThe most common ones are:\")\n",
    "\n",
    "for i in most_common:\n",
    "    print \"  {}\".format(i)\n",
    "\n",
    "# print out everyone that appears in more than one list \n",
    "print(\"\")\n",
    "philoCounted = sorted(philoCounted.items(), key=lambda pair: pair[1], reverse=True)\n",
    "for i,value in philoCounted:\n",
    "    if value > 1:\n",
    "        print \"{}:{} number of times\".format(i,value)"
   ]
  },
  {
   "cell_type": "markdown",
   "metadata": {
    "collapsed": false
   },
   "source": [
    "### Download all the pages"
   ]
  },
  {
   "cell_type": "code",
   "execution_count": 281,
   "metadata": {
    "collapsed": false
   },
   "outputs": [],
   "source": [
    "# set the parameters (explained in detail here https://www.mediawiki.org/wiki/API:Tutorial)\n",
    "baseurl = \"https://en.wikipedia.org/w/index.php?\"\n",
    "actions = \"action=query\"\n",
    "title = \"titles=\"\n",
    "content = \"prop=revisions&rvprop=content\"\n",
    "dataformat = \"format=json\"\n",
    "\n",
    "query = \"{}{}&{}{}&{}&{}\".format(baseurl,actions,title,all_philo[0],content,dataformat)"
   ]
  },
  {
   "cell_type": "code",
   "execution_count": 282,
   "metadata": {
    "collapsed": false
   },
   "outputs": [
    {
     "data": {
      "text/plain": [
       "'https://en.wikipedia.org/w/index.php?action=query&titles=Alonzo_Church&prop=revisions&rvprop=content&format=json'"
      ]
     },
     "execution_count": 282,
     "metadata": {},
     "output_type": "execute_result"
    }
   ],
   "source": [
    "query"
   ]
  },
  {
   "cell_type": "code",
   "execution_count": 283,
   "metadata": {
    "collapsed": false
   },
   "outputs": [
    {
     "ename": "HTTPError",
     "evalue": "HTTP Error 404: Not Found",
     "output_type": "error",
     "traceback": [
      "\u001b[0;31m---------------------------------------------------------------------------\u001b[0m",
      "\u001b[0;31mHTTPError\u001b[0m                                 Traceback (most recent call last)",
      "\u001b[0;32m<ipython-input-283-d4854b397df2>\u001b[0m in \u001b[0;36m<module>\u001b[0;34m()\u001b[0m\n\u001b[1;32m      2\u001b[0m \u001b[0mall_philo\u001b[0m \u001b[0;34m=\u001b[0m \u001b[0;34m[\u001b[0m\u001b[0mname\u001b[0m\u001b[0;34m.\u001b[0m\u001b[0mreplace\u001b[0m\u001b[0;34m(\u001b[0m\u001b[0;34m\" \"\u001b[0m\u001b[0;34m,\u001b[0m\u001b[0;34m\"_\"\u001b[0m\u001b[0;34m)\u001b[0m \u001b[0;32mfor\u001b[0m \u001b[0mname\u001b[0m \u001b[0;32min\u001b[0m \u001b[0mset\u001b[0m\u001b[0;34m(\u001b[0m\u001b[0mall_philo\u001b[0m\u001b[0;34m)\u001b[0m\u001b[0;34m]\u001b[0m\u001b[0;34m\u001b[0m\u001b[0m\n\u001b[1;32m      3\u001b[0m \u001b[0;34m\u001b[0m\u001b[0m\n\u001b[0;32m----> 4\u001b[0;31m \u001b[0mwikiresponse\u001b[0m \u001b[0;34m=\u001b[0m \u001b[0murllib2\u001b[0m\u001b[0;34m.\u001b[0m\u001b[0murlopen\u001b[0m\u001b[0;34m(\u001b[0m\u001b[0mquery\u001b[0m\u001b[0;34m)\u001b[0m\u001b[0;34m\u001b[0m\u001b[0m\n\u001b[0m\u001b[1;32m      5\u001b[0m \u001b[0mwikisource\u001b[0m \u001b[0;34m=\u001b[0m \u001b[0mwikiresponse\u001b[0m\u001b[0;34m.\u001b[0m\u001b[0mread\u001b[0m\u001b[0;34m(\u001b[0m\u001b[0;34m)\u001b[0m\u001b[0;34m\u001b[0m\u001b[0m\n\u001b[1;32m      6\u001b[0m \u001b[0;34m\u001b[0m\u001b[0m\n",
      "\u001b[0;32m/Users/GretarAtli/anaconda/lib/python2.7/urllib2.pyc\u001b[0m in \u001b[0;36murlopen\u001b[0;34m(url, data, timeout, cafile, capath, cadefault, context)\u001b[0m\n\u001b[1;32m    152\u001b[0m     \u001b[0;32melse\u001b[0m\u001b[0;34m:\u001b[0m\u001b[0;34m\u001b[0m\u001b[0m\n\u001b[1;32m    153\u001b[0m         \u001b[0mopener\u001b[0m \u001b[0;34m=\u001b[0m \u001b[0m_opener\u001b[0m\u001b[0;34m\u001b[0m\u001b[0m\n\u001b[0;32m--> 154\u001b[0;31m     \u001b[0;32mreturn\u001b[0m \u001b[0mopener\u001b[0m\u001b[0;34m.\u001b[0m\u001b[0mopen\u001b[0m\u001b[0;34m(\u001b[0m\u001b[0murl\u001b[0m\u001b[0;34m,\u001b[0m \u001b[0mdata\u001b[0m\u001b[0;34m,\u001b[0m \u001b[0mtimeout\u001b[0m\u001b[0;34m)\u001b[0m\u001b[0;34m\u001b[0m\u001b[0m\n\u001b[0m\u001b[1;32m    155\u001b[0m \u001b[0;34m\u001b[0m\u001b[0m\n\u001b[1;32m    156\u001b[0m \u001b[0;32mdef\u001b[0m \u001b[0minstall_opener\u001b[0m\u001b[0;34m(\u001b[0m\u001b[0mopener\u001b[0m\u001b[0;34m)\u001b[0m\u001b[0;34m:\u001b[0m\u001b[0;34m\u001b[0m\u001b[0m\n",
      "\u001b[0;32m/Users/GretarAtli/anaconda/lib/python2.7/urllib2.pyc\u001b[0m in \u001b[0;36mopen\u001b[0;34m(self, fullurl, data, timeout)\u001b[0m\n\u001b[1;32m    433\u001b[0m         \u001b[0;32mfor\u001b[0m \u001b[0mprocessor\u001b[0m \u001b[0;32min\u001b[0m \u001b[0mself\u001b[0m\u001b[0;34m.\u001b[0m\u001b[0mprocess_response\u001b[0m\u001b[0;34m.\u001b[0m\u001b[0mget\u001b[0m\u001b[0;34m(\u001b[0m\u001b[0mprotocol\u001b[0m\u001b[0;34m,\u001b[0m \u001b[0;34m[\u001b[0m\u001b[0;34m]\u001b[0m\u001b[0;34m)\u001b[0m\u001b[0;34m:\u001b[0m\u001b[0;34m\u001b[0m\u001b[0m\n\u001b[1;32m    434\u001b[0m             \u001b[0mmeth\u001b[0m \u001b[0;34m=\u001b[0m \u001b[0mgetattr\u001b[0m\u001b[0;34m(\u001b[0m\u001b[0mprocessor\u001b[0m\u001b[0;34m,\u001b[0m \u001b[0mmeth_name\u001b[0m\u001b[0;34m)\u001b[0m\u001b[0;34m\u001b[0m\u001b[0m\n\u001b[0;32m--> 435\u001b[0;31m             \u001b[0mresponse\u001b[0m \u001b[0;34m=\u001b[0m \u001b[0mmeth\u001b[0m\u001b[0;34m(\u001b[0m\u001b[0mreq\u001b[0m\u001b[0;34m,\u001b[0m \u001b[0mresponse\u001b[0m\u001b[0;34m)\u001b[0m\u001b[0;34m\u001b[0m\u001b[0m\n\u001b[0m\u001b[1;32m    436\u001b[0m \u001b[0;34m\u001b[0m\u001b[0m\n\u001b[1;32m    437\u001b[0m         \u001b[0;32mreturn\u001b[0m \u001b[0mresponse\u001b[0m\u001b[0;34m\u001b[0m\u001b[0m\n",
      "\u001b[0;32m/Users/GretarAtli/anaconda/lib/python2.7/urllib2.pyc\u001b[0m in \u001b[0;36mhttp_response\u001b[0;34m(self, request, response)\u001b[0m\n\u001b[1;32m    546\u001b[0m         \u001b[0;32mif\u001b[0m \u001b[0;32mnot\u001b[0m \u001b[0;34m(\u001b[0m\u001b[0;36m200\u001b[0m \u001b[0;34m<=\u001b[0m \u001b[0mcode\u001b[0m \u001b[0;34m<\u001b[0m \u001b[0;36m300\u001b[0m\u001b[0;34m)\u001b[0m\u001b[0;34m:\u001b[0m\u001b[0;34m\u001b[0m\u001b[0m\n\u001b[1;32m    547\u001b[0m             response = self.parent.error(\n\u001b[0;32m--> 548\u001b[0;31m                 'http', request, response, code, msg, hdrs)\n\u001b[0m\u001b[1;32m    549\u001b[0m \u001b[0;34m\u001b[0m\u001b[0m\n\u001b[1;32m    550\u001b[0m         \u001b[0;32mreturn\u001b[0m \u001b[0mresponse\u001b[0m\u001b[0;34m\u001b[0m\u001b[0m\n",
      "\u001b[0;32m/Users/GretarAtli/anaconda/lib/python2.7/urllib2.pyc\u001b[0m in \u001b[0;36merror\u001b[0;34m(self, proto, *args)\u001b[0m\n\u001b[1;32m    471\u001b[0m         \u001b[0;32mif\u001b[0m \u001b[0mhttp_err\u001b[0m\u001b[0;34m:\u001b[0m\u001b[0;34m\u001b[0m\u001b[0m\n\u001b[1;32m    472\u001b[0m             \u001b[0margs\u001b[0m \u001b[0;34m=\u001b[0m \u001b[0;34m(\u001b[0m\u001b[0mdict\u001b[0m\u001b[0;34m,\u001b[0m \u001b[0;34m'default'\u001b[0m\u001b[0;34m,\u001b[0m \u001b[0;34m'http_error_default'\u001b[0m\u001b[0;34m)\u001b[0m \u001b[0;34m+\u001b[0m \u001b[0morig_args\u001b[0m\u001b[0;34m\u001b[0m\u001b[0m\n\u001b[0;32m--> 473\u001b[0;31m             \u001b[0;32mreturn\u001b[0m \u001b[0mself\u001b[0m\u001b[0;34m.\u001b[0m\u001b[0m_call_chain\u001b[0m\u001b[0;34m(\u001b[0m\u001b[0;34m*\u001b[0m\u001b[0margs\u001b[0m\u001b[0;34m)\u001b[0m\u001b[0;34m\u001b[0m\u001b[0m\n\u001b[0m\u001b[1;32m    474\u001b[0m \u001b[0;34m\u001b[0m\u001b[0m\n\u001b[1;32m    475\u001b[0m \u001b[0;31m# XXX probably also want an abstract factory that knows when it makes\u001b[0m\u001b[0;34m\u001b[0m\u001b[0;34m\u001b[0m\u001b[0m\n",
      "\u001b[0;32m/Users/GretarAtli/anaconda/lib/python2.7/urllib2.pyc\u001b[0m in \u001b[0;36m_call_chain\u001b[0;34m(self, chain, kind, meth_name, *args)\u001b[0m\n\u001b[1;32m    405\u001b[0m             \u001b[0mfunc\u001b[0m \u001b[0;34m=\u001b[0m \u001b[0mgetattr\u001b[0m\u001b[0;34m(\u001b[0m\u001b[0mhandler\u001b[0m\u001b[0;34m,\u001b[0m \u001b[0mmeth_name\u001b[0m\u001b[0;34m)\u001b[0m\u001b[0;34m\u001b[0m\u001b[0m\n\u001b[1;32m    406\u001b[0m \u001b[0;34m\u001b[0m\u001b[0m\n\u001b[0;32m--> 407\u001b[0;31m             \u001b[0mresult\u001b[0m \u001b[0;34m=\u001b[0m \u001b[0mfunc\u001b[0m\u001b[0;34m(\u001b[0m\u001b[0;34m*\u001b[0m\u001b[0margs\u001b[0m\u001b[0;34m)\u001b[0m\u001b[0;34m\u001b[0m\u001b[0m\n\u001b[0m\u001b[1;32m    408\u001b[0m             \u001b[0;32mif\u001b[0m \u001b[0mresult\u001b[0m \u001b[0;32mis\u001b[0m \u001b[0;32mnot\u001b[0m \u001b[0mNone\u001b[0m\u001b[0;34m:\u001b[0m\u001b[0;34m\u001b[0m\u001b[0m\n\u001b[1;32m    409\u001b[0m                 \u001b[0;32mreturn\u001b[0m \u001b[0mresult\u001b[0m\u001b[0;34m\u001b[0m\u001b[0m\n",
      "\u001b[0;32m/Users/GretarAtli/anaconda/lib/python2.7/urllib2.pyc\u001b[0m in \u001b[0;36mhttp_error_default\u001b[0;34m(self, req, fp, code, msg, hdrs)\u001b[0m\n\u001b[1;32m    554\u001b[0m \u001b[0;32mclass\u001b[0m \u001b[0mHTTPDefaultErrorHandler\u001b[0m\u001b[0;34m(\u001b[0m\u001b[0mBaseHandler\u001b[0m\u001b[0;34m)\u001b[0m\u001b[0;34m:\u001b[0m\u001b[0;34m\u001b[0m\u001b[0m\n\u001b[1;32m    555\u001b[0m     \u001b[0;32mdef\u001b[0m \u001b[0mhttp_error_default\u001b[0m\u001b[0;34m(\u001b[0m\u001b[0mself\u001b[0m\u001b[0;34m,\u001b[0m \u001b[0mreq\u001b[0m\u001b[0;34m,\u001b[0m \u001b[0mfp\u001b[0m\u001b[0;34m,\u001b[0m \u001b[0mcode\u001b[0m\u001b[0;34m,\u001b[0m \u001b[0mmsg\u001b[0m\u001b[0;34m,\u001b[0m \u001b[0mhdrs\u001b[0m\u001b[0;34m)\u001b[0m\u001b[0;34m:\u001b[0m\u001b[0;34m\u001b[0m\u001b[0m\n\u001b[0;32m--> 556\u001b[0;31m         \u001b[0;32mraise\u001b[0m \u001b[0mHTTPError\u001b[0m\u001b[0;34m(\u001b[0m\u001b[0mreq\u001b[0m\u001b[0;34m.\u001b[0m\u001b[0mget_full_url\u001b[0m\u001b[0;34m(\u001b[0m\u001b[0;34m)\u001b[0m\u001b[0;34m,\u001b[0m \u001b[0mcode\u001b[0m\u001b[0;34m,\u001b[0m \u001b[0mmsg\u001b[0m\u001b[0;34m,\u001b[0m \u001b[0mhdrs\u001b[0m\u001b[0;34m,\u001b[0m \u001b[0mfp\u001b[0m\u001b[0;34m)\u001b[0m\u001b[0;34m\u001b[0m\u001b[0m\n\u001b[0m\u001b[1;32m    557\u001b[0m \u001b[0;34m\u001b[0m\u001b[0m\n\u001b[1;32m    558\u001b[0m \u001b[0;32mclass\u001b[0m \u001b[0mHTTPRedirectHandler\u001b[0m\u001b[0;34m(\u001b[0m\u001b[0mBaseHandler\u001b[0m\u001b[0;34m)\u001b[0m\u001b[0;34m:\u001b[0m\u001b[0;34m\u001b[0m\u001b[0m\n",
      "\u001b[0;31mHTTPError\u001b[0m: HTTP Error 404: Not Found"
     ]
    }
   ],
   "source": [
    "# Go through the list of philosophers and replace \" \" for \"_\"\n",
    "all_philo = [name.replace(\" \",\"_\") for name in set(all_philo)]\n",
    "    \n",
    "wikiresponse = urllib2.urlopen(query)\n",
    "wikisource = wikiresponse.read()\n",
    "\n",
    "#f = io.open('text-wiki.txt', 'w', encoding='utf-8')\n",
    "#f.write(unicode(json.dumps(wikijson)))"
   ]
  },
  {
   "cell_type": "code",
   "execution_count": 275,
   "metadata": {
    "collapsed": false
   },
   "outputs": [
    {
     "data": {
      "text/plain": [
       "1052"
      ]
     },
     "execution_count": 275,
     "metadata": {},
     "output_type": "execute_result"
    }
   ],
   "source": []
  },
  {
   "cell_type": "code",
   "execution_count": 146,
   "metadata": {
    "collapsed": true
   },
   "outputs": [],
   "source": []
  },
  {
   "cell_type": "code",
   "execution_count": null,
   "metadata": {
    "collapsed": false
   },
   "outputs": [],
   "source": []
  },
  {
   "cell_type": "code",
   "execution_count": null,
   "metadata": {
    "collapsed": true
   },
   "outputs": [],
   "source": []
  }
 ],
 "metadata": {
  "anaconda-cloud": {},
  "kernelspec": {
   "display_name": "Python [conda root]",
   "language": "python",
   "name": "conda-root-py"
  },
  "language_info": {
   "codemirror_mode": {
    "name": "ipython",
    "version": 2
   },
   "file_extension": ".py",
   "mimetype": "text/x-python",
   "name": "python",
   "nbconvert_exporter": "python",
   "pygments_lexer": "ipython2",
   "version": "2.7.12"
  }
 },
 "nbformat": 4,
 "nbformat_minor": 1
}
