{
 "cells": [
  {
   "cell_type": "markdown",
   "metadata": {
    "collapsed": true
   },
   "source": [
    "# Week two"
   ]
  },
  {
   "cell_type": "markdown",
   "metadata": {},
   "source": [
    "# Notes\n",
    "\n",
    "- A node with a uneven number of links has to be either a starting or a end-point. So in a graph that contains more than two notes with uneven number of links then Each node cannot be visited without using, at least, one link more than once."
   ]
  },
  {
   "cell_type": "markdown",
   "metadata": {},
   "source": [
    "## Part 1\n",
    "\n",
    "#### Chapter 1\n",
    "\n",
    " - **List three different real networks and state the nodes and links for each of them.**\n",
    "    - A cellular network where the nodes are the sendistöð and the links are the wire connecting them together\n",
    "    - Power grid where the generators and the end user are the nodes and the tranmission lines are the links connecting them together\n",
    "    - Trade network where the nodes are the sellers and consumers and the links are the transmission system connecting them together\n",
    "    - The www where the nodes are web documents and the links URLs guaranteed by computer algorithms\n",
    "    - metabolic network where the notes are tiny molecules and the links are chemical reactions governed by the laws of chemistry and quantum mechanics\n",
    " - ** Tell us of the network you are personally most interested in. Address the following questions:**\n",
    "    - What are its nodes and links?\n",
    "    - How large is it?\n",
    "    - Can be mapped out?\n",
    "    - Why do you care about it?\n",
    "        - the neuroscience: mapping the brain. The human brain consists of hundreds of billions of interlinked neurons and it is one of the least understood networks. We lack maps telling us which neurons are linked together. Detailed maps of mammalian brains could lead to a revolution in brain science, allowing the understanding and curing of numerous neurological and brain diseases. We do not know exactly how big the network would be and right know it cannot be mapped out. We care about it because a breakthrough in this area could lead to understanding and curing of numerous neurological and brain diseases. The nodes are neurons and the links are the neurotransmitters that the neurons use to connect to each other\n",
    " - **In your view what would be the area where network science could have the biggest impact in the next decade? Explain your answer - and base it on the text in the book.**\n",
    "     - The impact of a new research field is measured both by its intellectual achievements as well as by its societal impact, idicated by the reach and the potential of its applications\n",
    "         - Security: Fighting Terrorism page 13\n",
    "         - Neurosience: Mapping the brain -> this is the shit"
   ]
  },
  {
   "cell_type": "markdown",
   "metadata": {},
   "source": [
    "#### Chapter 2"
   ]
  },
  {
   "cell_type": "markdown",
   "metadata": {},
   "source": [
    "** Section 2.5 states that real networks are sparse. Can you think of a real network where each node has many connections? Is that network still sparse? If yes, can you explain why? ** \n",
    "\n",
    "Sparse def: thinly scattered or distributed. Not thick or dense; thin\n",
    "\n",
    " - We call a network sparse if L << L_max where L is the number of links and L_max = N/2 =  N(N-1)/2.  \n",
    " - **Ath svarið við þessarri spurningu :)**"
   ]
  },
  {
   "cell_type": "markdown",
   "metadata": {},
   "source": [
    "## Part 2"
   ]
  },
  {
   "cell_type": "markdown",
   "metadata": {},
   "source": [
    "### Tutorial\n",
    "\n",
    "link to networkX tutorial can be found [here](http://networkx.readthedocs.io/en/stable/tutorial/tutorial.html)"
   ]
  },
  {
   "cell_type": "code",
   "execution_count": 29,
   "metadata": {
    "collapsed": true
   },
   "outputs": [],
   "source": [
    "# CREATING AN EMPTY GRAPH\n",
    "\n",
    "import networkx as nx\n",
    "G =  nx.Graph()\n",
    "\n",
    "# By definition a graph is a collection of nodes(vertices) \n",
    "#   along with identified pairs of nodes (called edges, links, etc)\n",
    "# In NetworkX, nodes can be any hashable object e.g. \n",
    "#   a text string, an image, an XML object, another Graph, a customized node object\n",
    "\n",
    "# ADDING A NOTE\n",
    "\n",
    "# A single node\n",
    "G.add_node(1)\n",
    "# Add list of nodes\n",
    "G.add_nodes_from([2,3])\n",
    "\n",
    "# nbunch of nodes. An nbunch is any iterable container of nodes that is not itself \n",
    "#   a node in the graph. (e.g a list, set, graph, file, etc)\n",
    "\n",
    "H = nx.path_graph(10)\n",
    "G.add_nodes_from(H)\n",
    "\n",
    "# Note that G now contains the nodes of H as nodes of G. \n",
    "#   In contrast, you could use the graph H as a node in G.\n",
    "\n",
    "G.add_node(H)\n",
    "\n",
    "# ADDING EDGES\n",
    "\n",
    "G.add_edge(1,2)\n",
    "e=(2,3)\n",
    "G.add_edge(*e) # unpack edge tuple, taka svigan í burtu\n",
    "\n",
    "# A tuple is a comma-separated sequence of values\n",
    "\n",
    "# Adding a list of edges\n",
    "G.add_edges_from([(1,2),(1,3)])\n",
    "\n",
    "# Adding any ebunch of edges\n",
    "G.add_edges_from(H.edges())\n",
    "\n",
    "# Remove edges\n",
    "G.remove_node(H)\n",
    "G.clear()\n",
    "\n",
    "# if we add already existing nodes or edges Network X quielty ignores any that are already present\n",
    "G.add_edges_from([(1,2),(1,3)])\n",
    "G.add_node(1)\n",
    "G.add_edge(1,2)\n",
    "G.add_node(\"spam\")       # adds node \"spam\"\n",
    "G.add_nodes_from(\"spam\") # adds 4 nodes: 's', 'p', 'a', 'm'\n",
    "\n",
    "# Finding the number of edges and notes\n",
    "G.number_of_nodes()\n",
    "G.number_of_edges()\n",
    "\n",
    "# Examine the notes\n",
    "G.nodes()\n",
    "G.edges()\n",
    "G.neighbors(1)\n",
    "\n",
    "# Removing nodes or edges has similar syntax to adding:\n",
    "G.remove_nodes_from(\"spam\")\n",
    "G.nodes() #[1, 2, 3, 'spam']\n",
    "G.remove_edge(1,3)\n",
    "\n",
    "# When creating a graph structure bu instantiating one of the graph classes you can \n",
    "#   specify data in several formats\n",
    "\n",
    "H=nx.DiGraph(G)   # create a DiGraph using the connections from G\n",
    "H.edges()\n",
    "#[(1, 2), (2, 1)]\n",
    "edgelist=[(0,1),(1,2),(2,3)]\n",
    "H=nx.Graph(edgelist)\n",
    "\n",
    "# You can safely set the attributes of an edge using subscript notation \n",
    "#  if the edge already exists\n",
    "\n",
    "G.add_edge(1,3)\n",
    "G[1][3]['color']='blue'\n",
    "\n",
    "\n"
   ]
  },
  {
   "cell_type": "markdown",
   "metadata": {},
   "source": [
    "#### Fast examination"
   ]
  },
  {
   "cell_type": "code",
   "execution_count": 38,
   "metadata": {
    "collapsed": false
   },
   "outputs": [
    {
     "name": "stdout",
     "output_type": "stream",
     "text": [
      "(1, 2, 0.125)\n",
      "(2, 1, 0.125)\n",
      "(3, 4, 0.375)\n",
      "(4, 3, 0.375)\n",
      "\n",
      "(4, 3, 0.125)\n",
      "(4, 3, 0.375)\n"
     ]
    }
   ],
   "source": [
    "# FAST EXAMINATION\n",
    "\n",
    "#Fast examination of all edges is achieved using adjacency iterators. \n",
    "#  Note that for undirected graphs this actually looks at each edge twice.\n",
    "\n",
    "FG=nx.Graph()\n",
    "FG.add_weighted_edges_from([(1,2,0.125),(1,3,0.75),(2,4,1.2),(3,4,0.375)])\n",
    "for n,nbrs in FG.adjacency_iter():\n",
    "    for nbr,eattr in nbrs.items():\n",
    "        data=eattr['weight']\n",
    "        if data<0.5: print('(%d, %d, %.3f)' % (n,nbr,data))\n",
    "            \n",
    "print          \n",
    "        \n",
    "# Convenient access to all edges is achieved with the edges method\n",
    "for (u,v,d) in FG.edges(data='weight'):\n",
    "     if d<0.5: print('(%d, %d, %.3f)'%(n,nbr,d))\n",
    "# (1, 2, 0.125)\n",
    "# (3, 4, 0.375)"
   ]
  },
  {
   "cell_type": "markdown",
   "metadata": {},
   "source": [
    "#### Adding attributes to graphs, nodes and edges"
   ]
  },
  {
   "cell_type": "code",
   "execution_count": 51,
   "metadata": {
    "collapsed": false
   },
   "outputs": [],
   "source": [
    "# ADDING ATTRIBUTES TO GRAPHS, NODES, AND EDGES\n",
    "\n",
    "# Attributes such as weights, labels, colors, or whatever Python object you like, \n",
    "#   can be attached to graphs, nodes, or edges.\n",
    "\n",
    "# Each graph, node, and edge can hold key/value attribute pairs in an associated attribute \n",
    "#   dictionary (the keys must be hashable). By default these are empty, \n",
    "#   but attributes can be added or changed using add_edge,\n",
    "#   add_node or direct manipulation of the attribute dictionaries named G.graph, \n",
    "#   G.node and G.edge for a graph G.\n",
    "\n",
    "# GRAPH ATTRIBUTE\n",
    "# Assign graph attributes when creating a new graph\n",
    "G = nx.Graph(day=\"Friday\")\n",
    "G.graph\n",
    "\n",
    "# Or you can modify attributes later\n",
    "G.graph['day']='Monday'\n",
    "G.graph\n",
    "\n",
    "# NOTE ATTRIBUTE\n",
    "G.add_node(1, time='5pm')\n",
    "G.add_nodes_from([3], time='2pm')\n",
    "G.node[1]\n",
    "# {'time': '5pm'}\n",
    "G.node[1]['room'] = 714\n",
    "G.nodes(data=True)\n",
    "#[(1, {'room': 714, 'time': '5pm'}), (3, {'time': '2pm'})]\n",
    "\n",
    "# EDGE ATTRIBUTES\n",
    "# Add edge attributes using add_edge(), add_edges_from(), subscript notation, or G.edge.\n",
    "\n",
    "G.add_edge(1, 2, weight=4.7 )\n",
    "G.add_edges_from([(3,4),(4,5)], color='red')\n",
    "G.add_edges_from([(1,2,{'color':'blue'}), (2,3,{'weight':8})])\n",
    "G[1][2]['weight'] = 4.7\n",
    "G.edge[1][2]['weight'] = 4\n",
    "\n",
    "# The special attribute ‘weight’ should be numeric and \n",
    "#   holds values used by algorithms requiring weighted edges"
   ]
  },
  {
   "cell_type": "markdown",
   "metadata": {},
   "source": [
    "#### Directed graphs"
   ]
  },
  {
   "cell_type": "code",
   "execution_count": 53,
   "metadata": {
    "collapsed": false
   },
   "outputs": [],
   "source": [
    "# To allow algorithms to work with both classes easily, \n",
    "#   the directed versions of neighbors() and degree() \n",
    "#   are equivalent to successors() and the sum of in_degree() \n",
    "#  and out_degree() respectively even though that may feel inconsistent at times.\n",
    "\n",
    "DG=nx.DiGraph()\n",
    "DG.add_weighted_edges_from([(1,2,0.5), (3,1,0.75)])\n",
    "DG.out_degree(1,weight='weight')\n",
    "#0.5\n",
    "DG.degree(1,weight='weight')\n",
    "#1.25\n",
    "DG.successors(1)\n",
    "#[2]\n",
    "DG.neighbors(1)\n",
    "\n",
    "# Convert a directed graph to undirected graph\n",
    "H = nx.Graph(G) # convert G to undirected graph\n"
   ]
  },
  {
   "cell_type": "markdown",
   "metadata": {},
   "source": [
    "#### Multigraphs"
   ]
  },
  {
   "cell_type": "code",
   "execution_count": 56,
   "metadata": {
    "collapsed": false
   },
   "outputs": [
    {
     "name": "stdout",
     "output_type": "stream",
     "text": [
      "[(2, {0: {'weight': 0.5}, 1: {'weight': 0.75}})]\n",
      "[(1, {0: {'weight': 0.5}, 1: {'weight': 0.75}}), (3, {0: {'weight': 0.5}})]\n",
      "[(1, {0: {'weight': 0.5}, 1: {'weight': 0.75}}), (3, {0: {'weight': 0.5}})]\n",
      "[(2, {0: {'weight': 0.5}})]\n"
     ]
    },
    {
     "data": {
      "text/plain": [
       "[1, 2, 3]"
      ]
     },
     "execution_count": 56,
     "metadata": {},
     "output_type": "execute_result"
    }
   ],
   "source": [
    "# NetworkX provides classes for graphs which allow multiple edges between any pair of nodes.\n",
    "#   The MultiGraph and MultiDiGraph classes allow you to add the same edge twice, \n",
    "#   possibly with different edge data\n",
    "\n",
    "MG=nx.MultiGraph()\n",
    "MG.add_weighted_edges_from([(1,2,.5), (1,2,.75), (2,3,.5)])\n",
    "MG.degree(weight='weight')\n",
    "# {1: 1.25, 2: 1.75, 3: 0.5}\n",
    "GG=nx.Graph()\n",
    "for n,nbrs in MG.adjacency_iter():\n",
    "    for nbr,edict in nbrs.items():\n",
    "        print nbrs.items()\n",
    "        minvalue=min([d['weight'] for d in edict.values()])\n",
    "        GG.add_edge(n,nbr, weight = minvalue)\n",
    "\n",
    "nx.shortest_path(GG,1,3)\n",
    "#[1, 2, 3]"
   ]
  },
  {
   "cell_type": "markdown",
   "metadata": {},
   "source": [
    "#### Analysing graphs"
   ]
  },
  {
   "cell_type": "code",
   "execution_count": 58,
   "metadata": {
    "collapsed": false
   },
   "outputs": [
    {
     "data": {
      "text/plain": [
       "<generator object connected_components at 0x10d4e85a0>"
      ]
     },
     "execution_count": 58,
     "metadata": {},
     "output_type": "execute_result"
    }
   ],
   "source": [
    "G=nx.Graph()\n",
    "G.add_edges_from([(1,2),(1,3)])\n",
    "G.add_node(\"spam\")       # adds node \"spam\"\n",
    "\n",
    "nx.connected_components(G)\n",
    "# [[1, 2, 3], ['spam']]\n",
    "\n",
    "sorted(nx.degree(G).values())\n",
    "# [0, 1, 1, 2]\n",
    "\n",
    "nx.clustering(G)\n",
    "# {1: 0.0, 2: 0.0, 3: 0.0, 'spam': 0.0}\n",
    "\n",
    "# Functions that return node properties return dictionaries keyed by node label.\n",
    " nx.degree(G) # {1: 2, 2: 1, 3: 1, 'spam': 0}\n",
    "    \n",
    "# For values of specific nodes, you can provide a single node or an nbunch of nodes as argument. \n",
    "# If a single node is specified, then a single value is returned. \n",
    "# If an nbunch is specified, then the function will return a dictionary.  \n",
    "\n",
    "nx.degree(G,1)\n",
    "# 2\n",
    "G.degree(1)\n",
    "#2\n",
    "G.degree([1,2])\n",
    "#{1: 2, 2: 1}\n",
    "sorted(G.degree([1,2]).values())\n",
    "#[1, 2]\n",
    "sorted(G.degree().values())\n",
    "#[0, 1, 1, 2]\n"
   ]
  },
  {
   "cell_type": "markdown",
   "metadata": {},
   "source": [
    "#### Drawing graphs"
   ]
  },
  {
   "cell_type": "code",
   "execution_count": 66,
   "metadata": {
    "collapsed": false
   },
   "outputs": [
    {
     "data": {
      "image/png": "[encoded data removed]",
      "text/plain": [
       "<matplotlib.figure.Figure at 0x10e696110>"
      ]
     },
     "metadata": {},
     "output_type": "display_data"
    }
   ],
   "source": [
    "import matplotlib.pyplot as plt\n",
    "\n",
    "nx.draw(G)\n",
    "# nx.draw(G)\n",
    "# nx.draw_random(G)\n",
    "# nx.draw_circular(G)\n",
    "\n",
    "plt.show()\n",
    "\n",
    "# Save drawing to a file\n",
    "\n",
    "nx.draw(G)\n",
    "plt.savefig(\"path.png\")\n",
    "\n",
    "\n",
    "# writes to the file “path.png” in the local directory. \n",
    "# If Graphviz and PyGraphviz, or pydotplus, are available on your system, you can also use\n",
    "from networkx.drawing.nx_pydot import write_dot\n",
    "nx.draw_graphviz(G)\n",
    "write_dot(G,'file.dot')"
   ]
  },
  {
   "cell_type": "markdown",
   "metadata": {},
   "source": [
    "### NS Section 2.12: Homework\n",
    "\n",
    "#### Exercise 2.1\n",
    " - A) is possible because it has only two notes with odd number of edges/links\n",
    " - B) is not possible\n",
    " - C) is possible\n",
    " - D) is possible\n"
   ]
  },
  {
   "cell_type": "markdown",
   "metadata": {},
   "source": [
    "#### Exercise 2.3\n",
    "\n",
    "- **e)**: That you have a isolated cluster of one note in the network (note 5)\n",
    "- **f)**: in a) it is one but n b) there is no path of length 3 from 1 to 3"
   ]
  },
  {
   "cell_type": "code",
   "execution_count": 89,
   "metadata": {
    "collapsed": false
   },
   "outputs": [
    {
     "name": "stdout",
     "output_type": "stream",
     "text": [
      "G1 adjency matrix: \n",
      "\n",
      "[[0 1 1 1 0 1]\n",
      " [1 0 1 1 0 0]\n",
      " [1 1 0 0 0 1]\n",
      " [1 1 0 0 0 0]\n",
      " [0 0 0 0 0 0]\n",
      " [1 0 1 0 0 0]]\n",
      "\n",
      " G1 link list: \n",
      "\n",
      "[(1, 2), (1, 3), (1, 4), (1, 6), (2, 3), (2, 4), (3, 6)]\n",
      "\n",
      " G1 average clustering coefficient: \n",
      "\n",
      "0.638888888889\n"
     ]
    },
    {
     "data": {
      "image/png": "[encoded data removed]",
      "text/plain": [
       "<matplotlib.figure.Figure at 0x1131b93d0>"
      ]
     },
     "metadata": {},
     "output_type": "display_data"
    }
   ],
   "source": [
    "# A B C) First graph\n",
    "import networkx as nx\n",
    "import matplotlib.pyplot as plt\n",
    "import scipy as sp\n",
    "\n",
    "G1.clear()\n",
    "\n",
    "G1 = nx.Graph()\n",
    "G1.add_nodes_from([1,2,3,4,5,6])\n",
    "G1.add_edges_from([(1,2),(1,3),(2,3),(1,6),(6,3),(2,4),(1,4)])\n",
    "G1.node[1][\"nr\"] = 1\n",
    "G1.node[2][\"nr\"] = 2\n",
    "G1.node[3][\"nr\"] = 3\n",
    "G1.node[4][\"nr\"] = 4\n",
    "G1.node[5][\"nr\"] = 5\n",
    "G1.node[6][\"nr\"] = 6\n",
    "\n",
    "# Print adjency matrix\n",
    "A1 = nx.adjacency_matrix(G1)\n",
    "print \"G1 adjency matrix: \\n\"\n",
    "print(A1.todense())\n",
    "\n",
    "print \"\\n G1 link list: \\n\"\n",
    "print G1.edges()\n",
    "\n",
    "print \"\\n G1 average clustering coefficient: \\n\"\n",
    "print nx.average_clustering(G1)\n",
    "\n",
    "\n",
    "\n",
    "nx.draw_circular(G1,with_labels=True)\n",
    "plt.show()"
   ]
  },
  {
   "cell_type": "code",
   "execution_count": 94,
   "metadata": {
    "collapsed": false
   },
   "outputs": [
    {
     "name": "stdout",
     "output_type": "stream",
     "text": [
      "G2 adjency matrix: \n",
      "\n",
      "[[0 1 0 0 0 0]\n",
      " [0 0 1 1 0 0]\n",
      " [1 1 0 0 0 0]\n",
      " [1 0 0 0 0 0]\n",
      " [0 0 0 0 0 0]\n",
      " [1 0 1 0 0 0]]\n",
      "\n",
      " G2 link list: \n",
      "\n",
      "[(1, 2), (2, 3), (2, 4), (3, 1), (3, 2), (4, 1), (6, 1), (6, 3)]\n"
     ]
    },
    {
     "data": {
      "image/png": "[encoded data removed]",
      "text/plain": [
       "<matplotlib.figure.Figure at 0x112865690>"
      ]
     },
     "metadata": {},
     "output_type": "display_data"
    }
   ],
   "source": [
    "# A B C) Second graph\n",
    "\n",
    "import networkx as nx\n",
    "import matplotlib.pyplot as plt\n",
    "import scipy as sp\n",
    "\n",
    "G2.clear()\n",
    "\n",
    "G2 = nx.DiGraph()\n",
    "G2.add_nodes_from([1,2,3,4,5,6])\n",
    "G2.add_edges_from([(1,2),(2,3),(2,4),(3,1),(3,2),(4,1),(6,3),(6,1)])\n",
    "G2.node[1][\"nr\"] = 1\n",
    "G2.node[2][\"nr\"] = 2\n",
    "G2.node[3][\"nr\"] = 3\n",
    "G2.node[4][\"nr\"] = 4\n",
    "G2.node[5][\"nr\"] = 5\n",
    "G2.node[6][\"nr\"] = 6\n",
    "\n",
    "# Print adjency matrix\n",
    "A2 = nx.adjacency_matrix(G2)\n",
    "print \"G2 adjency matrix: \\n\"\n",
    "print(A2.todense())\n",
    "\n",
    "print \"\\n G2 link list: \\n\"\n",
    "print G2.edges()\n",
    "\n",
    "\n",
    "nx.draw_circular(G2,with_labels=True)\n",
    "plt.show()\n"
   ]
  },
  {
   "cell_type": "markdown",
   "metadata": {},
   "source": [
    "#### Exercise 2.5"
   ]
  },
  {
   "cell_type": "code",
   "execution_count": 109,
   "metadata": {
    "collapsed": false
   },
   "outputs": [
    {
     "data": {
      "image/png": "[encoded data removed]",
      "text/plain": [
       "<matplotlib.figure.Figure at 0x111a3b410>"
      ]
     },
     "metadata": {},
     "output_type": "display_data"
    },
    {
     "name": "stdout",
     "output_type": "stream",
     "text": [
      "G2 adjency matrix: \n",
      "\n",
      "[[0 1 0 0 0 0]\n",
      " [0 0 1 1 0 0]\n",
      " [1 1 0 0 0 0]\n",
      " [1 0 0 0 0 0]\n",
      " [0 0 0 0 0 0]\n",
      " [1 0 1 0 0 0]]\n"
     ]
    }
   ],
   "source": [
    "import networkx as nx\n",
    "import matplotlib.pyplot as plt\n",
    "import scipy as sp\n",
    "\n",
    "G = nx.Graph()\n",
    "G.add_nodes_from([1,2,3,4,5,6,7,8,9,10,11])\n",
    "G.add_edges_from([\n",
    "        (1,7),\n",
    "        (2,9),\n",
    "        (3,7),\n",
    "        (3,8),\n",
    "        (3,9),\n",
    "        (4,9),\n",
    "        (4,10),\n",
    "        (5,9),\n",
    "        (5,11),\n",
    "        (6,11)\n",
    "    ])\n",
    "\n",
    "nx.draw(G,with_labels=True)\n",
    "plt.show()\n",
    "\n",
    "A2 = nx.adjacency_matrix(G2)\n",
    "print \"G2 adjency matrix: \\n\"\n",
    "print(A2.todense())\n"
   ]
  },
  {
   "cell_type": "code",
   "execution_count": 103,
   "metadata": {
    "collapsed": false
   },
   "outputs": [
    {
     "data": {
      "text/plain": [
       "list"
      ]
     },
     "execution_count": 103,
     "metadata": {},
     "output_type": "execute_result"
    }
   ],
   "source": []
  }
 ],
 "metadata": {
  "anaconda-cloud": {},
  "kernelspec": {
   "display_name": "Python [conda root]",
   "language": "python",
   "name": "conda-root-py"
  },
  "language_info": {
   "codemirror_mode": {
    "name": "ipython",
    "version": 2
   },
   "file_extension": ".py",
   "mimetype": "text/x-python",
   "name": "python",
   "nbconvert_exporter": "python",
   "pygments_lexer": "ipython2",
   "version": "2.7.12"
  }
 },
 "nbformat": 4,
 "nbformat_minor": 1
}
