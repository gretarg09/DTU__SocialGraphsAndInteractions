{
 "cells": [
  {
   "cell_type": "markdown",
   "metadata": {},
   "source": [
    "# Assignment 2"
   ]
  },
  {
   "cell_type": "markdown",
   "metadata": {},
   "source": [
    "### Import"
   ]
  },
  {
   "cell_type": "code",
   "execution_count": 12,
   "metadata": {
    "collapsed": false
   },
   "outputs": [],
   "source": [
    "import urllib2\n",
    "import json\n",
    "import re\n",
    "import networkx as nx\n",
    "import numpy as np\n",
    "import matplotlib.pyplot as plt\n",
    "import collections\n",
    "import numpy as np\n",
    "from collections import Counter\n",
    "from __future__ import division"
   ]
  },
  {
   "cell_type": "markdown",
   "metadata": {},
   "source": [
    "# Part I: Comunity Structure"
   ]
  },
  {
   "cell_type": "markdown",
   "metadata": {},
   "source": [
    "** Explain the concept of modularity in your own words. ** \n",
    "\n",
    "**Modularity** is a concept that measures systematic deviations from a random configuration of a network. This helps us indentifying gorups that are embeded in a network, and finding nodes that interact more frequantly than in a random network. \n",
    "\n",
    "\n",
    "Equation 9.12\n",
    "\n",
    "$$  $$\n",
    "\n",
    "\n",
    "WIKIPEDIA :Networks with high modularity have dense connections between the nodes within modules but sparse connections between nodes in different modules"
   ]
  },
  {
   "cell_type": "code",
   "execution_count": 10,
   "metadata": {
    "collapsed": true
   },
   "outputs": [],
   "source": [
    "philosophers = {\n",
    "    \"aestheticians\":{ \"title\":\"title=List_of_aestheticians\", \"names\":\"\"},\n",
    "    \"epistemologists\":{ \"title\":\"title=List_of_epistemologists\", \"names\":\"\"},\n",
    "    \"ethicists\":{ \"title\":\"title=List_of_ethicists\", \"names\":\"\" },\n",
    "    \"logicians\":{ \"title\":\"title=List_of_logicians\", \"names\":\"\" },\n",
    "    \"metaphysicians\":{ \"title\":\"title=List_of_metaphysicians\", \"names\":\"\" },\n",
    "    \"social and political philosophers\":{ \"title\":\"title=Index_of_sociopolitical_thinkers\", \"names\":\"\"}\n",
    "}"
   ]
  },
  {
   "cell_type": "code",
   "execution_count": 11,
   "metadata": {
    "collapsed": false
   },
   "outputs": [],
   "source": [
    "# set the parameters (explained in detail here https://www.mediawiki.org/wiki/API:Tutorial)\n",
    "baseurl = \"https://en.wikipedia.org/w/index.php?\"\n",
    "title = \"\"\n",
    "action = \"action=edit\"\n",
    "\n",
    "for i in philosophers:\n",
    "    # construct the query\n",
    "    query = \"{}{}&{}\".format(\n",
    "        baseurl,\n",
    "        philosophers[i][\"title\"],\n",
    "        action\n",
    "    )\n",
    "    \n",
    "    # use urllib and regex to get the list of philosophers\n",
    "    wikiresponse = urllib2.urlopen(query)\n",
    "    wikisource = wikiresponse.read()\n",
    "    philosophers[i][\"names\"] = re.findall(r'\\*.*?\\[\\[(.*?)[\\]\\|]', wikisource)\n",
    "\n",
    "# Because the last 4 elements of the ethicists list and social and political philosophers are not philosophers\n",
    "# they are left out\n",
    "philosophers[\"ethicists\"][\"names\"] = philosophers[\"ethicists\"][\"names\"][:-4]\n",
    "philosophers[\"social and political philosophers\"][\"names\"] = philosophers[\"social and political philosophers\"][\"names\"][:-4] "
   ]
  },
  {
   "cell_type": "code",
   "execution_count": 8,
   "metadata": {
    "collapsed": false
   },
   "outputs": [],
   "source": [
    "G = nx.DiGraph()\n",
    "\n",
    "# First of all get all the philosophers\n",
    "all_philophers = []\n",
    "for i in philosophers:\n",
    "    all_philophers = all_philophers + philosophers[i][\"names\"]\n",
    "\n",
    "all_philosophers_uniq = set(all_philophers)\n",
    "    \n",
    "counter = 0\n",
    "# Iterate over all the philosophers, We use set to erase duplicates\n",
    "for philo in all_philosophers_uniq:\n",
    "    \n",
    "    # Add the philosopher to the graph\n",
    "    G.add_node(philo)\n",
    "    \n",
    "    # Create the uri for the file in the os file system\n",
    "    fileUri = \"/Users/GretarAtli/Dropbox/Dtu/Social_graphs_and_interactions/Philosophers/{}.txt\".format(philo.replace(\" \",\"_\"))\n",
    "\n",
    "    # Open the file and get the content \n",
    "    file = open(fileUri) \n",
    "    theArticle = file.read()\n",
    "\n",
    "    # use regex and the set.intersection function to find all philosophers that are linked from the \n",
    "    # wikipage of each philosopher\n",
    "    linkedPhilosophers = set(re.findall(r'.*?\\[\\[(.*?)[\\]\\|]', theArticle)).intersection(all_philosophers_uniq)\n",
    "\n",
    "    # Go through all the linked philosophers and add directed edge for each one\n",
    "    for linkedPhilosopher in linkedPhilosophers:\n",
    "        G.add_edge(philo,linkedPhilosopher)"
   ]
  },
  {
   "cell_type": "code",
   "execution_count": 9,
   "metadata": {
    "collapsed": false
   },
   "outputs": [
    {
     "data": {
      "text/plain": [
       "'The modularity is 0.360423942155'"
      ]
     },
     "execution_count": 9,
     "metadata": {},
     "output_type": "execute_result"
    }
   ],
   "source": [
    "# Create a undirected graph for the network\n",
    "ud_G =  G.to_undirected()\n",
    "\n",
    "# Find all philosophers that appear in more than one list\n",
    "philo_counted = collections.Counter(all_philophers)\n",
    "overlapping_philo =[philo for philo,value in philo_counted.items() if value > 1]\n",
    "\n",
    "# create the communities for the philosophers\n",
    "philosophers_communities = {\n",
    "    \"aestheticians\" : [],\n",
    "    \"epistemologists\" : [],\n",
    "    \"ethicists\" : [],\n",
    "    \"logicians\" : [],\n",
    "    \"metaphysicians\" : [],\n",
    "    \"social and political philosophers\" : []\n",
    "}\n",
    "\n",
    "# Now we create a list of tuple pairs (name,community) that contain all philosophers that only appear in one list\n",
    "philo_community_list = []\n",
    "for community in philosophers.items():\n",
    "    for name in community[1][\"names\"]:\n",
    "        # add the philosopher if he is not overlapping \n",
    "        if name not in overlapping_philo:\n",
    "            philo_community_list.append((name,community[0]))\n",
    "\n",
    "# know we go through the list of overlapping philosophers and add them to the list with a correct community\n",
    "for philo in overlapping_philo:\n",
    "    neighbors = [neighbor for neighbor in philo_community_list if neighbor[0] in ud_G.neighbors(philo)]\n",
    "    community = \"\"\n",
    "    if neighbors: # check if neighbors is not an empty list\n",
    "        # find the most common community\n",
    "        community = max(Counter(neighbor_tuple[1] for neighbor_tuple in neighbors))\n",
    "    else:\n",
    "        # in case of no neighbor we choose the community by random\n",
    "        community = np.random.choice([\"aestheticians\",\"epistemologists\",\"ethicists\",\"logicians\",\"metaphysicians\",\"social and political philosophers\"])\n",
    "    # add the phylosopher to the philo_community_list\n",
    "    philo_community_list.append((philo,community))\n",
    "    \n",
    "# Now the fun starts, finally we can calculate the modularity of these communities \n",
    "# We need the following informations:\n",
    "# L : total number of links in the network\n",
    "# lc = number of links in each community (6 numbers in total)\n",
    "# kc = total degree of the nodes\n",
    "\n",
    "# We start by adding the philosophers into their communities in a dictionary\n",
    "\n",
    "for philo in philo_community_list:\n",
    "    philosophers_communities[philo[1]].append(philo[0])\n",
    "\n",
    "# Then we loop throught the communities and calculate the modularity (Mc) for each community\n",
    "modularity = []\n",
    "L = len(ud_G.edges()) # L : total number of links in the network\n",
    "for community in philosophers_communities.values():\n",
    "    Lc = sum([len(ud_G.edges(philo)) for philo in community]) # total number of edges in the community\n",
    "    kc = sum([ud_G.degree(philo) for philo in community]) # total degree of the community\n",
    "    M = (Lc/L)*(kc/(2*L))**2 # calculate the modularity for the community with equation 9.12\n",
    "    modularity.append(M)\n",
    "\n",
    "\"The modularity is {}\".format(sum(modularity))"
   ]
  }
 ],
 "metadata": {
  "anaconda-cloud": {},
  "kernelspec": {
   "display_name": "Python [conda root]",
   "language": "python",
   "name": "conda-root-py"
  },
  "language_info": {
   "codemirror_mode": {
    "name": "ipython",
    "version": 2
   },
   "file_extension": ".py",
   "mimetype": "text/x-python",
   "name": "python",
   "nbconvert_exporter": "python",
   "pygments_lexer": "ipython2",
   "version": "2.7.12"
  }
 },
 "nbformat": 4,
 "nbformat_minor": 1
}
