{
 "cells": [
  {
   "cell_type": "markdown",
   "metadata": {},
   "source": [
    "# Assignment 2"
   ]
  },
  {
   "cell_type": "markdown",
   "metadata": {},
   "source": [
    "### Import"
   ]
  },
  {
   "cell_type": "code",
   "execution_count": 63,
   "metadata": {
    "collapsed": false
   },
   "outputs": [],
   "source": [
    "import urllib2\n",
    "import json\n",
    "import re\n",
    "import networkx as nx\n",
    "import numpy as np\n",
    "import matplotlib.pyplot as plt\n",
    "import collections\n",
    "import numpy as np\n",
    "from collections import Counter\n",
    "from __future__ import division\n",
    "import io"
   ]
  },
  {
   "cell_type": "markdown",
   "metadata": {},
   "source": [
    "# Part I: Comunity Structure"
   ]
  },
  {
   "cell_type": "markdown",
   "metadata": {},
   "source": [
    "** Explain the concept of modularity in your own words. ** \n",
    "\n",
    "**Modularity** is a measurement that allows us to quantify the goodness of a partition of a network into communities, where partition is a division of a network into an arbitrary number of groups such that each node belongs to one and only one group. More specifically, Modularity is a concept that measures systematic deviations from a random configuration of a network. This helps us indentifying groups that are embedded in a network, and finding nodes that interact more frequantly with each other than in a random network. Therefore modularity is simply a measurement of the systematic deviations from a random configuration. Networks with high modularity have dense connections between the nodes within modules but sparse connections between nodes in different modules\n",
    "\n",
    "The modularity of a network can be calculated with the following equation\n",
    "\n",
    "Equation 9.12\n",
    "\n",
    "$$ M_c = \\sum_{c=1}^{n_c}[ \\dfrac{L_c}{L} - (\\dfrac{k_c}{2L}) ] $$\n",
    "\n",
    "where:\n",
    "\n",
    "    * L : total number of links in the network\n",
    "    * Lc = number of links in each community \n",
    "    * kc = total degree of the nodes\n",
    "\n"
   ]
  },
  {
   "cell_type": "markdown",
   "metadata": {},
   "source": [
    "** Now, calculate the modularity of the branches reported by the Wikipedia editors **"
   ]
  },
  {
   "cell_type": "markdown",
   "metadata": {},
   "source": [
    "We start by creating a dictionary that contains the names of all philosophers in the each branch of philosophy"
   ]
  },
  {
   "cell_type": "code",
   "execution_count": 139,
   "metadata": {
    "collapsed": true
   },
   "outputs": [],
   "source": [
    "philosophers = {\n",
    "    \"aestheticians\":{ \"title\":\"title=List_of_aestheticians\", \"names\":\"\"},\n",
    "    \"epistemologists\":{ \"title\":\"title=List_of_epistemologists\", \"names\":\"\"},\n",
    "    \"ethicists\":{ \"title\":\"title=List_of_ethicists\", \"names\":\"\" },\n",
    "    \"logicians\":{ \"title\":\"title=List_of_logicians\", \"names\":\"\" },\n",
    "    \"metaphysicians\":{ \"title\":\"title=List_of_metaphysicians\", \"names\":\"\" },\n",
    "    \"social and political philosophers\":{ \"title\":\"title=Index_of_sociopolitical_thinkers\", \"names\":\"\"}\n",
    "}"
   ]
  },
  {
   "cell_type": "markdown",
   "metadata": {},
   "source": [
    "We then loop through each branch's wikipage and collect the names of the philosophers"
   ]
  },
  {
   "cell_type": "code",
   "execution_count": 146,
   "metadata": {
    "collapsed": false
   },
   "outputs": [],
   "source": [
    "# set the parameters (explained in detail here https://www.mediawiki.org/wiki/API:Tutorial)\n",
    "baseurl = \"https://en.wikipedia.org/w/index.php?\"\n",
    "title = \"\"\n",
    "action = \"action=edit\"\n",
    "\n",
    "for i in philosophers:\n",
    "    # construct the query\n",
    "    query = \"{}{}&{}\".format(\n",
    "        baseurl,\n",
    "        philosophers[i][\"title\"],\n",
    "        action\n",
    "    )\n",
    "    \n",
    "    # use urllib and regex to get the list of philosophers\n",
    "    wikiresponse = urllib2.urlopen(query)\n",
    "    wikisource = wikiresponse.read()\n",
    "    philosophers[i][\"names\"] = re.findall(r'\\*.*?\\[\\[(.*?)[\\]\\|]', wikisource)\n",
    "\n",
    "# Because the last 4 elements of the ethicists list and social and political philosophers are not philosophers\n",
    "# they are left out\n",
    "philosophers[\"ethicists\"][\"names\"] = philosophers[\"ethicists\"][\"names\"][:-4]\n",
    "philosophers[\"social and political philosophers\"][\"names\"] = philosophers[\"social and political philosophers\"][\"names\"][:-4] "
   ]
  },
  {
   "cell_type": "markdown",
   "metadata": {},
   "source": [
    "Then we loop through each philosopher's wikipage and in each page we find the links to other philosophers. From that information we create the undirected graph"
   ]
  },
  {
   "cell_type": "code",
   "execution_count": 147,
   "metadata": {
    "collapsed": false
   },
   "outputs": [],
   "source": [
    "G = nx.Graph() # Create a undirected graph\n",
    "\n",
    "# First of all get all the philosophers\n",
    "all_philophers = []\n",
    "for i in philosophers:\n",
    "    all_philophers = all_philophers + philosophers[i][\"names\"]\n",
    "\n",
    "all_philosophers_uniq = set(all_philophers)\n",
    "    \n",
    "counter = 0\n",
    "\n",
    "# set the parameters for the query (explained in detail here https://www.mediawiki.org/wiki/API:Tutorial)\n",
    "baseurl = \"https://en.wikipedia.org/w/api.php?\"\n",
    "actions = \"action=query\"\n",
    "title = \"titles=\"\n",
    "content = \"prop=revisions&rvprop=content\"\n",
    "dataformat = \"format=json\"\n",
    "\n",
    "# iterate through the philosophers and for each philosphers download his wikipedia page\n",
    "# The list comprehension goes through the list of philosophers and replaces \" \" for \"_\"\n",
    "for philo in all_philosophers_uniq:\n",
    "    query = \"{}{}&{}{}&{}&{}\".format(\n",
    "        baseurl,\n",
    "        actions,\n",
    "        title,\n",
    "        philo.replace(\" \",\"_\"),\n",
    "        content,\n",
    "        dataformat\n",
    "    )\n",
    "    #print(philo)\n",
    "    #print(query)\n",
    "    \n",
    "    wikiresponse = urllib2.urlopen(query)\n",
    "    theArticle = wikiresponse.read()\n",
    "    \n",
    "    # Add the philosopher to the graph\n",
    "    G.add_node(philo)\n",
    "\n",
    "    # use regex and the set.intersection function to find all philosophers that are linked from the \n",
    "    # wikipage of each philosopher\n",
    "    linkedPhilosophers = set(re.findall(r'.*?\\[\\[(.*?)[\\]\\|]', theArticle)).intersection(all_philosophers_uniq)\n",
    "\n",
    "    # Go through all the linked philosophers and add directed edge for each one\n",
    "    for linkedPhilosopher in linkedPhilosophers:\n",
    "        G.add_edge(philo,linkedPhilosopher)"
   ]
  },
  {
   "cell_type": "markdown",
   "metadata": {},
   "source": [
    " ** Algorithm procedure: **\n",
    " \n",
    " - Our network has more than one component, So we need to get the giant connected component (GCC) of our network. We call it giant_G. \n",
    " - Then we find the all of the philosophers in that network that are part of more than one branch (the overlapping_philo variable).\n",
    " - If the philosopher is not in two branches we add him to a list of tuple pairs (name,community), we call this list philo_community_list. Therefore at this time in the program this list contains all philosophers that are only associated with one community\n",
    " - The next step in our algorithm is to find a community for the philosophers that are in more than two branches (overlapping philosophers). The way we did it is that for each overlapping philosopher, we found all neighbours of that philosopher that are only in one branch (non overlapping neighbours). We then simply assigned the philosopher to the branch that most of his non overlapping neighbours are in, in other words we assigned the philosopher to the branch that he has most connections to. If the philosopher is not connected to any non overlapping philosopher then we simply chose a brand at random. **Note** We decided to only consider the non overlapping neighbor of the overlapping philosopher because it does not make sens to consider a neighbor that has not yet been assigned to a new branch by the rules of our algorithm  \n",
    " - Now philo_community_list contains all of the philosophers in the G_giant graph and each philosopher has been assigned to a branch\n",
    " - Then we simply changed the philo_community_list into a dictionary and calculated the modularity of the community division.\n",
    "\n"
   ]
  },
  {
   "cell_type": "code",
   "execution_count": 209,
   "metadata": {
    "collapsed": false
   },
   "outputs": [],
   "source": [
    "# Get the Giant connected component (GCC)\n",
    "giant_G = max(nx.connected_component_subgraphs(G), key=len)\n",
    "\n",
    "# Get all philosophers in the giant connected component\n",
    "giant_all_philosophers = giant_G.nodes()\n",
    "\n",
    "giant_philosophers_counted = []\n",
    "\n",
    "# Find all philosophers that appear in more than one list\n",
    "for branch in philosophers.keys():\n",
    "    for philo in philosophers[branch][\"names\"]:\n",
    "        if philo in giant_all_philosophers:\n",
    "            giant_philosophers_counted.append(philo)\n",
    "            \n",
    "giant_philosohers_counted = Counter(giant_philosophers_counted)\n",
    "\n",
    "# The next step is to find all of the philosophers that are part of more than one branch\n",
    "overlapping_philo =[philo for philo,value in giant_philosohers_counted.items() if value > 1]\n",
    "\n",
    "# create the communities dictionary for the philosophers\n",
    "philosophers_communities = {\n",
    "    \"aestheticians\" : [],\n",
    "    \"epistemologists\" : [],\n",
    "    \"ethicists\" : [],\n",
    "    \"logicians\" : [],\n",
    "    \"metaphysicians\" : [],\n",
    "    \"social and political philosophers\" : []\n",
    "}\n",
    "\n",
    "# Now we create a list of tuple pairs (name,community) that contain all philosophers that only appear in one list\n",
    "philo_community_list = []\n",
    "for community in philosophers_communities.keys():\n",
    "    for name in philosophers[community][\"names\"]:\n",
    "        # Add the philosopher if he is not overlapping \n",
    "        if name in giant_all_philosophers:\n",
    "            if name not in overlapping_philo:\n",
    "                philo_community_list.append((name,community))\n",
    "                \n",
    "\n",
    "# Now we go through the list of overlapping philosophers and add them to the list with a assigned community\n",
    "philo_community_list_overlapping = [] # temp list that contains the added overlapping philos\n",
    "for philo in overlapping_philo:\n",
    "    # next we find the non overlapping neighbours of each overlapping philo.  \n",
    "    neighbors = [neighbor for neighbor in philo_community_list if neighbor[0] in giant_G.neighbors(philo)]\n",
    "    community = \"\"\n",
    "    if neighbors: # check if neighbours is not an empty list\n",
    "        # find the most common community\n",
    "        community = max(Counter(neighbor_tuple[1] for neighbor_tuple in neighbors))\n",
    "    else:\n",
    "        # in case of no neighbour we choose the community by random\n",
    "        community = np.random.choice([\"aestheticians\",\"epistemologists\",\"ethicists\",\"logicians\",\"metaphysicians\",\"social and political philosophers\"])\n",
    "    \n",
    "    # Add the phylosopher to the philo_community_list\n",
    "    philo_community_list_overlapping.append((philo,community))\n",
    "\n",
    "# Add the newly assingd overlapping philosophers to the philo_community_list\n",
    "philo_community_list = philo_community_list + philo_community_list_overlapping"
   ]
  },
  {
   "cell_type": "markdown",
   "metadata": {},
   "source": [
    "Now every philosopher in the giant component of our graph has been assigned to a branch. Therefore the division of the philosophers into a communities is done and we can calculate the modularity."
   ]
  },
  {
   "cell_type": "code",
   "execution_count": 210,
   "metadata": {
    "collapsed": false
   },
   "outputs": [
    {
     "data": {
      "text/plain": [
       "'The modularity is:    0.372618949196'"
      ]
     },
     "execution_count": 210,
     "metadata": {},
     "output_type": "execute_result"
    }
   ],
   "source": [
    "# We start by adding the philosophers into their communities in a dictionary\n",
    "for philo in philo_community_list:\n",
    "    philosophers_communities[philo[1]].append(philo[0])\n",
    "\n",
    "# Then we loop throught the communities and calculate the modularity (Mc) for each community\n",
    "modularity = []\n",
    "L = len(giant_G.edges()) # L : total number of links in the network\n",
    "for community in philosophers_communities.keys():\n",
    "    sub_graph = giant_G.subgraph(philosophers_communities[community]) # Create a subgraph for the community\n",
    "    Lc = len(sub_graph.edges()) # Total number of edges in the community\n",
    "    kc = sum(sub_graph.degree().values()) # Total degree of the community\n",
    "    M = (Lc/L)-((kc/(2*L))**2) # calculate the modularity for the community with equation 9.12\n",
    "    modularity.append(M)\n",
    "\n",
    "\"The modularity is:    {}\".format(sum(modularity))"
   ]
  },
  {
   "cell_type": "markdown",
   "metadata": {},
   "source": [
    "** Comment on your value of $M$ for the branches. Are the branches good communities? **"
   ]
  },
  {
   "cell_type": "markdown",
   "metadata": {},
   "source": [
    "We got the value of modularity as ~0.3726. As stated in Network Science in Chapter 9 there are several key properties to modularity. You can have a negative value of modularity as well as a modularity of zero, that is done by taking the whole network as a single community. Modularity can not go above 1 but the higher it is for a specific partition of the network, the better is the corresponding community structure. There are examples of optimal and suboptimal partitions in the book for a specific network. There the optimal modularity is 0.41 but the sup optimal modularity has the value 0.22. This gives us an idea of how good our partitioning is but to fully understand it we need to find the modularity of the optimal partitioning of the G_giant graph"
   ]
  },
  {
   "cell_type": "markdown",
   "metadata": {},
   "source": [
    "**Now, let us use the Python Louvain-algorithm implementation to find communities in the full philosopher network **\n",
    "\n",
    "**Note** We did not think that it mate sens to calculate the optimal partitioning of the full network because our algorithm is only calculating the modularity of the giant component of the full network. Therefore we calculated both things but we will onlu comment on the result for the Giant component network"
   ]
  },
  {
   "cell_type": "code",
   "execution_count": 212,
   "metadata": {
    "collapsed": false
   },
   "outputs": [
    {
     "name": "stdout",
     "output_type": "stream",
     "text": [
      "The full philosophy network is split up to 210 communities\n",
      "The modularity of this community division is 0.454005049928\n",
      "\n",
      "The giant component of the philosophy network is split up to 12 communities\n",
      "The modularity of this community division is 0.455676160125\n"
     ]
    }
   ],
   "source": [
    "import community\n",
    "import networkx as nx\n",
    "import matplotlib.pyplot as plt\n",
    "\n",
    "\n",
    "# First compute the best partition\n",
    "partition_giant = community.best_partition(giant_G)\n",
    "partition_full = community.best_partition(G)\n",
    "\n",
    "# Find how many communities there are in the partition \n",
    "communities_giant = Counter([value for key,value in partition_giant.items()])\n",
    "communities_full = Counter([value for key,value in partition_full.items()])\n",
    "\n",
    "print \"The full philosophy network is split up to {} communities\".format(len(communities_full))\n",
    "print \"The modularity of this community division is {}\".format(\n",
    "    community.modularity(partition_full,G)\n",
    ")\n",
    "\n",
    "print \"\" \n",
    "\n",
    "print \"The giant component of the philosophy network is split up to {} communities\".format(len(communities))\n",
    "print \"The modularity of this community division is {}\".format(\n",
    "    community.modularity(partition_giant,giant_G)\n",
    ")\n"
   ]
  },
  {
   "cell_type": "markdown",
   "metadata": {},
   "source": [
    "__Report the value of modularity found by the algorithm. Is it higher or lower than what you found above for the branches as communities? What does this comparison reveal about the branches?\n",
    "__"
   ]
  },
  {
   "cell_type": "markdown",
   "metadata": {},
   "source": [
    "The full network is not a complete graph. The giant component of that graph contains 838 nodes but the full network contains 1047 nodes. Therfore there are 209 notes of the full network that are not in the "
   ]
  },
  {
   "cell_type": "code",
   "execution_count": 213,
   "metadata": {
    "collapsed": false
   },
   "outputs": [
    {
     "data": {
      "text/plain": [
       "209"
      ]
     },
     "execution_count": 213,
     "metadata": {},
     "output_type": "execute_result"
    }
   ],
   "source": [
    "1047 - 838"
   ]
  }
 ],
 "metadata": {
  "anaconda-cloud": {},
  "kernelspec": {
   "display_name": "Python [conda root]",
   "language": "python",
   "name": "conda-root-py"
  },
  "language_info": {
   "codemirror_mode": {
    "name": "ipython",
    "version": 2
   },
   "file_extension": ".py",
   "mimetype": "text/x-python",
   "name": "python",
   "nbconvert_exporter": "python",
   "pygments_lexer": "ipython2",
   "version": "2.7.12"
  }
 },
 "nbformat": 4,
 "nbformat_minor": 1
}
