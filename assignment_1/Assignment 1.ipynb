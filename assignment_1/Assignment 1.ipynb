{
 "cells": [
  {
   "cell_type": "markdown",
   "metadata": {},
   "source": [
    "# Part One: Network Models\n",
    "\n",
    "###  Watts-Strogatz Networks\n",
    "\n",
    " - Use nx.watts_strogatz_graph to generate 3 graphs with 500 nodes each, average degree = 4, and rewiring probablity $p = 0, 0.1, \\textrm{and} 1$. Calculate the average shortest path length $\\langle d \\rangle$ for each one. Describe what happens to the network when $p = 1$.\n",
    " - Let's understand the behavior of the WS model as we increase p in more detail.. Generate 50 networks with $N = 500$, $\\langle k \\rangle = 4$, for each of $p = \\{0, 0.01, 0.03, 0.05, 0.1, 0.2\\}$. Calculate the average of $\\langle d \\rangle$ as well as the standard deviation over the 50 networks, to create a plot that shows how the path length decreases very quickly with only a little fraction of re-wiring. Use the standard deviation to add errorbars to the plot. My version of the plot is below (since a picture's worth 1000 words).\n"
   ]
  },
  {
   "cell_type": "code",
   "execution_count": 4,
   "metadata": {
    "collapsed": false
   },
   "outputs": [
    {
     "name": "stdout",
     "output_type": "stream",
     "text": [
      "The average shortest path length with rewiring probability of 0 is 62.875751503\n",
      "The average shortest path length with rewiring probability of 0.1 is 7.85149498998\n",
      "The average shortest path length with rewiring probability of 0.5 is 4.97444488978\n",
      "The average shortest path length with rewiring probability of 1 is 4.73953507014\n",
      "The average shortest path length with rewiring probability of 2 is 4.73953507014\n"
     ]
    }
   ],
   "source": [
    "# let´s create the graph\n",
    "import networkx as nx\n",
    "import matplotlib.pyplot as plt\n",
    "from __future__ import division\n",
    "\n",
    "n = 500\n",
    "k = 4\n",
    "\n",
    "G_nx1 = nx.watts_strogatz_graph(n,k,0)\n",
    "G_nx2 = nx.watts_strogatz_graph(n,k,0.1)\n",
    "G_nx3 = nx.watts_strogatz_graph(n,k,0.5)\n",
    "G_nx4 = nx.watts_strogatz_graph(n,k,1)\n",
    "G_nx5 = nx.watts_strogatz_graph(n,k,2)\n",
    "\n",
    "G_random = nx.erdos_renyi_graph(500,1)\n",
    "\n",
    "print(\"The average shortest path length with rewiring probability of {} is {}\".format(0,nx.average_shortest_path_length(G_nx1)))\n",
    "print(\"The average shortest path length with rewiring probability of {} is {}\".format(0.1,nx.average_shortest_path_length(G_nx2)))\n",
    "print(\"The average shortest path length with rewiring probability of {} is {}\".format(0.5,nx.average_shortest_path_length(G_nx3)))\n",
    "print(\"The average shortest path length with rewiring probability of {} is {}\".format(1,nx.average_shortest_path_length(G_nx4)))\n",
    "print(\"The average shortest path length with rewiring probability of {} is {}\".format(2,nx.average_shortest_path_length(G_nx4)))"
   ]
  },
  {
   "cell_type": "markdown",
   "metadata": {},
   "source": [
    "**Describe what happens to the network when p=1.**\n",
    "    - One of the characteristic of a random network model is that it contains low average path lenght, meaning that there tends to be a path between a pair of nodes that involves only a few edges. This is called the small world problem and the average distance in such a network can be described by the following formula <d> = ln(N)/ln(k), where k is the average degree of the network and N is the number of nodes in the network. In a Watts storgatz p stands for the probability that an edge is rewired, meaning that the edge is disconnected from one of its nodes and randomly connected to another node anywhere in the network. Each edge is chosen to be rewired independent with probability p. \n",
    "    \n",
    "    So when the probability is low then most connections are still in the original form, therefore they connect to the original local connections, they connect nodes that are nearby in the lattice. But some of the rewired edges might turn into long distance connections that connects nodes that are far away from each other, therefore lowering the average path length. These paths are called shortcuts and they lower the overall average path lenght of the network, so when P increases more and more rewiring happens. When P = 1 then all of the edges are rewired and we end up with a random network. Like we have mentioned earlier one of the characteristic of randum network is that the average path length can be described with this formula <d> = ln(N)/ln<k>. Calculating this for our network of N = 500 and k = 4 gives the average distance of 4.483. Like you can see here above the average shortest path decreases with increasing p and when p = 1 then the average distance is quite close to the theoretical value for a random network.\n",
    "    \n",
    "    info taken from this website [here](http://mathinsight.org/small_world_network)"
   ]
  },
  {
   "cell_type": "markdown",
   "metadata": {},
   "source": [
    "### The behavior investigation\n",
    "\n",
    "Let's investigate this behavior in detail. Generate 50 networks with N=500N=500, ⟨k⟩=4, for each of p={0,0.01,0.03,0.05,0.1,0.2}p={0,0.01,0.03,0.05,0.1,0.2}. Calculate the average of ⟨d⟩as well as the standard deviation over the 50 networks, to create a plot that shows how the path length decreases very quickly with only a little fraction of re-wiring. Use the standard deviation to add errorbars to the plot. My version of the plot is below (since a picture's worth 1000 words)."
   ]
  },
  {
   "cell_type": "code",
   "execution_count": null,
   "metadata": {
    "collapsed": false
   },
   "outputs": [],
   "source": [
    "import collections\n",
    "import networkx as nx\n",
    "import matplotlib.pyplot as plt\n",
    "import numpy as np\n",
    "\n",
    "N = 500\n",
    "k = 4\n",
    "p_values = [0,0.01,0.03,0.05,0.1,0.2]\n",
    "\n",
    "networks = collections.defaultdict(list)\n",
    "avgs = collections.defaultdict(float)\n",
    "stds = collections.defaultdict(float)\n",
    "\n",
    "# creating a list that contains 50 networks for each p\n",
    "# calculating the average distance for each network\n",
    "# calculatin the std of the average distance \n",
    "for i,p in enumerate(p_values):\n",
    "    # Use list comprehension to create 50 instances of the network\n",
    "    networks[i] = [nx.watts_strogatz_graph(n,k,p) for j in range(50)]\n",
    "    average_d = [nx.average_shortest_path_length(network) for network in networks[i]]\n",
    "    avgs[i] = np.mean(average_d) \n",
    "    stds[i] = np.std(average_d)"
   ]
  },
  {
   "cell_type": "code",
   "execution_count": null,
   "metadata": {
    "collapsed": true
   },
   "outputs": [],
   "source": []
  }
 ],
 "metadata": {
  "anaconda-cloud": {},
  "kernelspec": {
   "display_name": "Python [default]",
   "language": "python",
   "name": "python2"
  },
  "language_info": {
   "codemirror_mode": {
    "name": "ipython",
    "version": 2
   },
   "file_extension": ".py",
   "mimetype": "text/x-python",
   "name": "python",
   "nbconvert_exporter": "python",
   "pygments_lexer": "ipython2",
   "version": "2.7.12"
  }
 },
 "nbformat": 4,
 "nbformat_minor": 1
}
