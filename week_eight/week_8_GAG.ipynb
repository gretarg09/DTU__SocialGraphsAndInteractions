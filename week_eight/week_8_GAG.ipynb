{
 "cells": [
  {
   "cell_type": "code",
   "execution_count": 166,
   "metadata": {
    "collapsed": true
   },
   "outputs": [],
   "source": [
    "import io\n",
    "import networkx as nx\n",
    "from collections import defaultdict\n",
    "from collections import Counter\n",
    "from __future__ import division\n",
    "import numpy as np\n",
    "import matplotlib.pyplot as plt\n",
    "import sys\n",
    "import operator\n",
    "from math import log10, floor\n",
    "from nltk.tokenize import RegexpTokenizer\n",
    "from nltk.corpus import stopwords\n",
    "import timeit\n",
    "from scipy import spatial\n",
    "from sklearn.feature_extraction.text import TfidfVectorizer\n",
    "import os\n",
    "\n",
    "# Function used to round numbers to n significant numbers\n",
    "def round_sig(x, sig=2):\n",
    "    return round(x, sig-int(floor(log10(abs(x))))-1)"
   ]
  },
  {
   "cell_type": "markdown",
   "metadata": {
    "collapsed": true
   },
   "source": [
    "# Path lengths\n",
    "\n",
    "The first thing we want to take a look at is path lengths. NetworkX allows us to calculate the shortest path between any pair of articles. We begin by comparing the length of human and shortests paths."
   ]
  },
  {
   "cell_type": "markdown",
   "metadata": {},
   "source": [
    "### Exercise\n",
    "\n",
    "** For each source/target pair in the list of human navigation paths, calculate the shortest path using NetworkX. Plot the distribution of path lengths**\n",
    "\n",
    "\n",
    "We decided to use undirected graph. We start of by creating a undirected graph from the links.tsv file. We simply run through the file line by line. For each line (except the first 12 lines which only contain information about the dataset) we add an edge to the graph."
   ]
  },
  {
   "cell_type": "code",
   "execution_count": 60,
   "metadata": {
    "collapsed": false
   },
   "outputs": [
    {
     "name": "stdout",
     "output_type": "stream",
     "text": [
      "number of nodes: 4592\n",
      "number of edges: 106647\n"
     ]
    }
   ],
   "source": [
    "# Read in the links.tsv file\n",
    "file_path = '/Users/GretarAtli/Dropbox/Dtu/Social_graphs_and_interactions/wikispeedia_paths-and-graph/links.tsv'\n",
    "\n",
    "G = nx.Graph()\n",
    "\n",
    "with open(file_path, encoding=\"utf-8\") as f:\n",
    "    lines = f.readlines()\n",
    "    lines = lines[12:]\n",
    "    for line in lines:\n",
    "            line = line.split()\n",
    "            G.add_edge(line[0],line[1])            \n",
    "print(\"number of nodes: {}\".format(len(G.nodes())))\n",
    "print(\"number of edges: {}\".format(len(G.edges())))"
   ]
  },
  {
   "cell_type": "markdown",
   "metadata": {},
   "source": [
    "The next step is to go through the finished paths and get the each source target pair"
   ]
  },
  {
   "cell_type": "code",
   "execution_count": 41,
   "metadata": {
    "collapsed": false
   },
   "outputs": [],
   "source": [
    "# container that contain the tuple pairs (source, target, length of path)\n",
    "human_navigation_paths = []\n",
    "\n",
    "# Read in the links.tsv file\n",
    "file_path = '/Users/GretarAtli/Dropbox/Dtu/Social_graphs_and_interactions/wikispeedia_paths-and-graph/paths_finished.tsv'\n",
    "\n",
    "G_humanpaths = nx.Graph()\n",
    "paths = [] # container for all the completed human paths\n",
    "\n",
    "with open(file_path, encoding=\"utf-8\") as f:\n",
    "    lines = f.readlines()\n",
    "    lines = lines[16:] # Take out the lines that are not links\n",
    "    for line in lines:\n",
    "        line = line.split()[3] # Get the path from the line\n",
    "        line = line.replace(\";<\",\"\") # Back clicks are represented as \"<\", here we delete them from the path\n",
    "        line = line.split(\";\") # split the path on ; to get an array of websites\n",
    "        G_humanpaths.add_path(line) # add the path to the human path graph\n",
    "        paths.append(line)\n",
    "        source = line[0] # find the source website\n",
    "        target = line[-1] # find the target website\n",
    "        \n",
    "        human_navigation_paths.append((source,target,len(line))) # add the tuple (source, target, length of path)          "
   ]
  },
  {
   "cell_type": "markdown",
   "metadata": {},
   "source": [
    "Now everything is ready to calculate the shortest path between each source target pair. The reason for the try and catch block is that the node \"Wikipedia_Text_of_the_GNU_Free_Documentation_License\" is not part of the links list and therefore it is not in our graph. This is most likely just a minor error in the dataset"
   ]
  },
  {
   "cell_type": "code",
   "execution_count": 42,
   "metadata": {
    "collapsed": false
   },
   "outputs": [
    {
     "name": "stdout",
     "output_type": "stream",
     "text": [
      "Unexpected error: <class 'networkx.exception.NetworkXError'>\n",
      "target : Wikipedia_Text_of_the_GNU_Free_Documentation_License\n",
      "source : Bird\n"
     ]
    }
   ],
   "source": [
    "# Container for the shortest path for each source/target pair. Contains the tuple (source, target, shortest path length)\n",
    "shortest_paths = []    \n",
    "\n",
    "for source,target,_ in human_navigation_paths:\n",
    "    try:\n",
    "        shortest_paths.append( \n",
    "            (\n",
    "                source,\n",
    "                target,\n",
    "                nx.shortest_path_length(G,source=source,target=target)\n",
    "            )\n",
    "        )\n",
    "    except:\n",
    "        print (\"Unexpected error:\", sys.exc_info()[0])\n",
    "        print(\"target : {}\".format(target))\n",
    "        print(\"source : {}\".format(source))\n",
    "            "
   ]
  },
  {
   "cell_type": "markdown",
   "metadata": {},
   "source": [
    "Finally everything is ready to plot up the distribution of path lengths."
   ]
  },
  {
   "cell_type": "code",
   "execution_count": 43,
   "metadata": {
    "collapsed": false
   },
   "outputs": [
    {
     "data": {
      "image/png": "[encoded data removed]",
      "text/plain": [
       "<matplotlib.figure.Figure at 0x111765d68>"
      ]
     },
     "metadata": {},
     "output_type": "display_data"
    }
   ],
   "source": [
    "# Get the length of the shortest paths\n",
    "shortest_path_lengths = [length for source, target, length in shortest_paths]\n",
    "\n",
    "# plot the distribution\n",
    "plt.figure(figsize=(10,4))\n",
    "plt.plot(list(Counter(shortest_path_lengths).keys()), list(Counter(shortest_path_lengths).values()), color=\"green\")\n",
    "plt.xlim((1, 4))\n",
    "plt.ylim(0,max(list(Counter(shortest_path_lengths).values()))*1.2)\n",
    "plt.title(\"Navigation shortest path length\")\n",
    "plt.xlabel(\"path length\")\n",
    "plt.ylabel(\"number of paths\")\n",
    "plt.legend([\"shortest path\"])\n",
    "plt.show()"
   ]
  },
  {
   "cell_type": "markdown",
   "metadata": {
    "collapsed": false
   },
   "source": [
    "** For each source/target pair, calculate the length of the human path. The dataset contains information on people who regret a navigation step and hit the \"back\" button in their web-browser. It's up to you how to incorporate that information in the path. Justify your choice. Plot the distribution of human path lengths**"
   ]
  },
  {
   "cell_type": "code",
   "execution_count": 258,
   "metadata": {
    "collapsed": false,
    "scrolled": false
   },
   "outputs": [
    {
     "data": {
      "text/plain": [
       "<matplotlib.figure.Figure at 0x13cee10b8>"
      ]
     },
     "metadata": {},
     "output_type": "display_data"
    },
    {
     "data": {
      "text/plain": [
       "<matplotlib.figure.Figure at 0x13d97c438>"
      ]
     },
     "metadata": {},
     "output_type": "display_data"
    },
    {
     "data": {
      "image/png": "[encoded data removed]",
      "text/plain": [
       "<matplotlib.figure.Figure at 0x13c076c18>"
      ]
     },
     "metadata": {},
     "output_type": "display_data"
    }
   ],
   "source": [
    "keys, values = zip(*sorted(Counter([length for target,source,length in human_navigation_paths]).items(), \n",
    "                              key = operator.itemgetter(0)))\n",
    "\n",
    "plt.figure(figsize=(10,4))\n",
    "plt.plot(keys, values)\n",
    "plt.xscale(\"log\")\n",
    "plt.yscale(\"log\")\n",
    "plt.title(\"number of paths vs path length\")\n",
    "plt.xlabel(\"path length\")\n",
    "plt.ylabel(\"number of paths\")\n",
    "plt.legend([\"human_paths\"])\n",
    "plt.show()"
   ]
  },
  {
   "cell_type": "code",
   "execution_count": null,
   "metadata": {
    "collapsed": false
   },
   "outputs": [],
   "source": []
  },
  {
   "cell_type": "markdown",
   "metadata": {
    "collapsed": false
   },
   "source": [
    "** How much longer are the human paths on average? **"
   ]
  },
  {
   "cell_type": "code",
   "execution_count": 45,
   "metadata": {
    "collapsed": false
   },
   "outputs": [
    {
     "name": "stdout",
     "output_type": "stream",
     "text": [
      "The human paths average is           6.357\n",
      "The shorest paths average is         2.365\n",
      "-------------------------------------------\n",
      "The difference is                    3.992\n"
     ]
    }
   ],
   "source": [
    "human_path_avg = np.mean([length for target,source,length in human_navigation_paths])\n",
    "shortest_path_avg = np.mean([length for source, target, length in shortest_paths])\n",
    "\n",
    "print(\"The human paths average is           {}\".format(round_sig(human_path_avg,4) ))\n",
    "print(\"The shorest paths average is         {}\".format(round_sig(shortest_path_avg,4) ))\n",
    "print(\"-------------------------------------------\")\n",
    "print(\"The difference is                    {}\".format(round_sig(human_path_avg - shortest_path_avg,4)))\n",
    "\n"
   ]
  },
  {
   "cell_type": "markdown",
   "metadata": {},
   "source": [
    "** Create scatter plot where each point is a source/target pair, and you have human path lengths on the x-axis and shortests paths on the y-axis. **"
   ]
  },
  {
   "cell_type": "markdown",
   "metadata": {},
   "source": [
    "We start of by creating two dictionaries. One that contains the shortest path length of every source/target pair. And another that contains every human path length for each source/target pair"
   ]
  },
  {
   "cell_type": "code",
   "execution_count": 46,
   "metadata": {
    "collapsed": false
   },
   "outputs": [],
   "source": [
    "shortest_path_dict = defaultdict(set)\n",
    "human_navigation_path_dict = defaultdict(list)\n",
    "\n",
    "# get values into the shortest path dictionary\n",
    "for source, target, length in shortest_paths:\n",
    "    shortest_path_dict[(source, target)].add(length)\n",
    "\n",
    "# get values into the human path dictionary\n",
    "for source, target, length in human_navigation_paths:\n",
    "    human_navigation_path_dict[(source, target)].append(length)\n",
    "    \n",
    "# create a list of tuples of the form (shortest path, human path)\n",
    "shortest_vs_human = []\n",
    "for source, target in shortest_path_dict.keys():\n",
    "    for human_length in human_navigation_path_dict[(source, target)]:\n",
    "        shortest_vs_human.append(( list(shortest_path_dict[(source,target)])[0], human_length))"
   ]
  },
  {
   "cell_type": "markdown",
   "metadata": {},
   "source": [
    "Know we have all of the information we need to plot each human path lenght source/target pair point against the shortest path value for that specific source/target pair"
   ]
  },
  {
   "cell_type": "code",
   "execution_count": 47,
   "metadata": {
    "collapsed": false
   },
   "outputs": [
    {
     "data": {
      "image/png": "[encoded data removed]",
      "text/plain": [
       "<matplotlib.figure.Figure at 0x10cce7e80>"
      ]
     },
     "metadata": {},
     "output_type": "display_data"
    }
   ],
   "source": [
    "# Create the plot\n",
    "\n",
    "# We start by reverse ziping the shortest_vs_human tuples array\n",
    "y,x = zip(*shortest_vs_human)\n",
    "\n",
    "# The we plot the result\n",
    "plt.figure(figsize=(10,4))\n",
    "plt.plot(x, y, \"o\")\n",
    "plt.xlim(-10, max(x)+10)\n",
    "plt.ylim(-1, max(y)+1)\n",
    "plt.title(\"Human path lengths vs Shortest path lengths\")\n",
    "plt.xlabel(\"Human path lengths\")\n",
    "plt.ylabel(\"Shortest path lengths\")\n",
    "plt.show()"
   ]
  },
  {
   "cell_type": "markdown",
   "metadata": {},
   "source": [
    "** Is there a correlation between human/shortest path-lengths? What is the correlation. **\n",
    "\n",
    "You can clearly see on the figure here above that there is no correlation between human/shortest path-lengths. This can investigated further by using the numpy module to calculate the correlation between x and y. The code to accomplish this can be seen here below. The result was that the correlation between x and y is 0.20678837 which supporst the hypothesis that the human/shortest path-lengths are not correlated."
   ]
  },
  {
   "cell_type": "code",
   "execution_count": 380,
   "metadata": {
    "collapsed": false
   },
   "outputs": [
    {
     "data": {
      "text/plain": [
       "array([[ 1.        ,  0.20678837],\n",
       "       [ 0.20678837,  1.        ]])"
      ]
     },
     "execution_count": 380,
     "metadata": {},
     "output_type": "execute_result"
    }
   ],
   "source": [
    "np.corrcoef(x,y)"
   ]
  },
  {
   "cell_type": "markdown",
   "metadata": {},
   "source": [
    "# Betweenness\n",
    "\n",
    "** Navigation centrality :** Navigation centrality of node i is the fraction of all naviagtion paths that pass through i. We exclude the source and target from the count. If a node has not been visited by a search, the navigation centrality of that node is defined to be zero."
   ]
  },
  {
   "cell_type": "markdown",
   "metadata": {},
   "source": [
    "## Exercise\n",
    "\n",
    "** Begin by calculating the betweenness centrality and navigation centrality of all nodes in the wikispedia dataset. Note that calculating the betweenness centrality can take quite a long time, so you might start it running in a separate notebook while first estimating it based on the existing human path.**"
   ]
  },
  {
   "cell_type": "markdown",
   "metadata": {},
   "source": [
    "** First, list the 5 pages with highest navigation centrality.**"
   ]
  },
  {
   "cell_type": "code",
   "execution_count": 48,
   "metadata": {
    "collapsed": false
   },
   "outputs": [],
   "source": [
    "navigation = defaultdict(float) # contains the navigation score for each website\n",
    "nr_of_paths = len(paths) \n",
    "\n",
    "# For each website we go through every path in the paths_finished file\n",
    "# and we count how many times the website is in a path (not source nor target)\n",
    "for website in G.nodes():\n",
    "    freq = 0\n",
    "    for path in paths:\n",
    "        path = path[1:-1] # Deleting the source and the target from the path \n",
    "        if website in path:\n",
    "            freq += 1\n",
    "    navigation[website] = freq/nr_of_paths"
   ]
  },
  {
   "cell_type": "code",
   "execution_count": 50,
   "metadata": {
    "collapsed": false
   },
   "outputs": [
    {
     "name": "stdout",
     "output_type": "stream",
     "text": [
      "United_States              0.16766       \n",
      "Europe                     0.083012      \n",
      "United_Kingdom             0.073327      \n",
      "Earth                      0.060525      \n",
      "England                    0.059472      \n",
      "Africa                     0.051347      \n",
      "World_War_II               0.042695      \n",
      "North_America              0.034705      \n",
      "Germany                    0.032055      \n",
      "Animal                     0.031412      \n"
     ]
    }
   ],
   "source": [
    "navigation_sorted = sorted(navigation.items(), key=operator.itemgetter(1), reverse=True)\n",
    "\n",
    "# print out the list of the 5 pages that have the highest centrality :)\n",
    "for page, centrality in navigation_sorted[:10]:\n",
    "    print (\"{webpage_s: <26} {centrality_d: <14}\".format(\n",
    "            webpage_s = page, centrality_d = round_sig(centrality,5)\n",
    "        ))"
   ]
  },
  {
   "cell_type": "markdown",
   "metadata": {},
   "source": [
    "** Second, list the 5 pages with highest betweenness centrality. **"
   ]
  },
  {
   "cell_type": "code",
   "execution_count": 61,
   "metadata": {
    "collapsed": true
   },
   "outputs": [],
   "source": [
    "betweenness = nx.betweenness_centrality(G)"
   ]
  },
  {
   "cell_type": "code",
   "execution_count": 448,
   "metadata": {
    "collapsed": false
   },
   "outputs": [
    {
     "name": "stdout",
     "output_type": "stream",
     "text": [
      "United_States              0.12522       \n",
      "United_Kingdom             0.047387      \n",
      "Europe                     0.044658      \n",
      "France                     0.036809      \n",
      "England                    0.033597      \n",
      "World_War_II               0.025565      \n",
      "Germany                    0.023128      \n",
      "English_language           0.020216      \n",
      "Africa                     0.019848      \n",
      "London                     0.019006      \n"
     ]
    }
   ],
   "source": [
    "betweenness_sorted = sorted(betweenness.items(), key=operator.itemgetter(1), reverse=True)\n",
    "\n",
    "# print out the list of the 5 pages that have the highest centrality :)\n",
    "for page, centrality in betweenness_sorted[:10]:\n",
    "    print (\"{webpage_s: <26} {centrality_d: <14}\".format(\n",
    "            webpage_s = page, centrality_d = round_sig(centrality,5)\n",
    "        ))"
   ]
  },
  {
   "cell_type": "markdown",
   "metadata": {
    "collapsed": false
   },
   "source": [
    "** Compare the two lists. Explain the differences between the two lists in your own words. **\n",
    "\n",
    "**TODO Tala um the differences herna**"
   ]
  },
  {
   "cell_type": "code",
   "execution_count": 220,
   "metadata": {
    "collapsed": false
   },
   "outputs": [
    {
     "name": "stdout",
     "output_type": "stream",
     "text": [
      "The intersection between the two centralities for the top 10 items are:\n",
      "---------------------------------------------------------------------\n",
      "United_States\n",
      "Europe\n",
      "United_Kingdom\n",
      "England\n",
      "Africa\n",
      "World_War_II\n",
      "Germany\n",
      "\n",
      "The distinctive items in the navigation centrality for the top 10 items are\n",
      "----------------------------------------------------------------------\n",
      "Earth\n",
      "North_America\n",
      "Animal\n",
      "\n",
      "The distinctive items in the betweenness centrality for the top 10 items are\n",
      "----------------------------------------------------------------------\n",
      "France\n",
      "English_language\n",
      "London\n"
     ]
    },
    {
     "data": {
      "image/png": "[encoded data removed]",
      "text/plain": [
       "<matplotlib.figure.Figure at 0x119c4c6a0>"
      ]
     },
     "metadata": {},
     "output_type": "display_data"
    }
   ],
   "source": [
    "# We will compare the two lists by finding how many item are the same in both lists\n",
    "# the function prints out how many items are common in each list,\n",
    "# it also prints out the common websites and the websites that are different in for each centrality\n",
    "\n",
    "def compareCentralities(navigation_C, betweenness_C, n, p):\n",
    "    navigation_subset = [website for website,_ in navigation_C[:n]]\n",
    "    betweenness_subset = [website for website,_ in betweenness_C[:n]]\n",
    "    \n",
    "    intersection = [website for website in navigation_subset if website in betweenness_subset]\n",
    "    \n",
    "    if p == True:\n",
    "        print (\"The intersection between the two centralities for the top {} items are:\".format(n))\n",
    "        print (\"---------------------------------------------------------------------\")\n",
    "        for i in intersection:\n",
    "            print(i)\n",
    "        \n",
    "        print (\"\\nThe distinctive items in the navigation centrality for the top {} items are\".format(n))\n",
    "        print (\"----------------------------------------------------------------------\")\n",
    "        for i in [website for website in navigation_subset if website not in intersection]:\n",
    "            print(i)\n",
    "            \n",
    "        print (\"\\nThe distinctive items in the betweenness centrality for the top {} items are\".format(n))\n",
    "        print (\"----------------------------------------------------------------------\")\n",
    "        for i in [website for website in betweenness_subset if website not in intersection]:\n",
    "            print(i)\n",
    "        \n",
    "    # returns the fraction of intersection items between the two centralities\n",
    "    return len(intersection)/n\n",
    "\n",
    "# let´s visualize the difference between these two centralities\n",
    "compareCentralities(navigation_sorted, betweenness_sorted, 10, True)\n",
    "\n",
    "intersection_fraction = [compareCentralities(navigation_sorted, betweenness_sorted, n, False) for n in range(3,100)]\n",
    "\n",
    "# next we plot up the intersection fraction for running n, in the range n=2 up to n=100\n",
    "\n",
    "plt.figure(figsize=(10,4))\n",
    "plt.plot(range(3,100),intersection_fraction)\n",
    "plt.xlim(3,100)\n",
    "plt.ylim(0,1)\n",
    "plt.title(\"The fraction of intersections between betweenness and navigation centrality mean={}\"\n",
    "          .format(round_sig(np.mean(intersection_fraction),3)))\n",
    "plt.xlabel(\"n = the subset size\")\n",
    "plt.ylabel(\"Intersection fraction\")\n",
    "plt.show()"
   ]
  },
  {
   "cell_type": "markdown",
   "metadata": {},
   "source": [
    "** Create a scatterplot of betweenness centrality vs. navigation centrality.**\n",
    "\n",
    "Here remember that A vs. B means that A = y axis, B = x axis"
   ]
  },
  {
   "cell_type": "code",
   "execution_count": 259,
   "metadata": {
    "collapsed": false
   },
   "outputs": [
    {
     "data": {
      "image/png": "[encoded data removed]",
      "text/plain": [
       "<matplotlib.figure.Figure at 0x11aca91d0>"
      ]
     },
     "metadata": {},
     "output_type": "display_data"
    },
    {
     "data": {
      "image/png": "[encoded data removed]",
      "text/plain": [
       "<matplotlib.figure.Figure at 0x11b0cdc50>"
      ]
     },
     "metadata": {},
     "output_type": "display_data"
    }
   ],
   "source": [
    "x = range(0,len(betweenness_sorted))\n",
    "betweenness_values = [value for website,value in betweenness_sorted]\n",
    "navigation_values = [navigation[website] for website,_ in betweenness_sorted]\n",
    "\n",
    "plt.figure(figsize=(10,4))\n",
    "plt.plot(navigation_values, betweenness_values, \"o\", color=\"darkgreen\")\n",
    "plt.title(\"Betweenness centrality Vs Navigation centrality\")\n",
    "plt.xlabel(\"navigation centrality\")\n",
    "plt.ylabel(\"betweenness centrality\")\n",
    "plt.show()\n",
    "\n",
    "# We decided to also plot a scatter plot of the top 100 websited for both centralities \n",
    "n= 100\n",
    "x = range(0,len(betweenness_sorted[0:n]))\n",
    "betweenness_values = [value for website,value in betweenness_sorted[0:n]]\n",
    "navigation_values = [navigation[website] for website,_ in betweenness_sorted[0:n]]\n",
    "\n",
    "plt.figure(figsize=(10,4))\n",
    "plt.scatter(x, betweenness_values, color=\"black\")\n",
    "plt.scatter(x, navigation_values, color=\"orange\")\n",
    "plt.title(\"Both centrality values for top 100 websited\")\n",
    "plt.xlabel(\"Website ranking\")\n",
    "plt.ylabel(\"Centrality value\")\n",
    "plt.legend([\"Betweenness centrality\", \"Navigation centrality\"])\n",
    "plt.show()\n",
    "\n"
   ]
  },
  {
   "cell_type": "markdown",
   "metadata": {},
   "source": [
    "**Let's explore the pages that have navigation centrality equal to zero.**\n",
    "\n",
    "    - How many pages have zero navigation centrality?\n",
    "    - What is the the page with zero navigation centrality and highest betweenness centrality? Can you explain why no human navigated to this page? Can you explain why the page is central in the actual link network? (For example, you can take a look at the degree of the node).\n",
    "    - Plot the distribution of betweenness centrality for the pages with zero navigation centrality. My plot on log-log scale:"
   ]
  },
  {
   "cell_type": "markdown",
   "metadata": {},
   "source": [
    "** How many pages have zero navigation centrality **"
   ]
  },
  {
   "cell_type": "code",
   "execution_count": 72,
   "metadata": {
    "collapsed": false
   },
   "outputs": [
    {
     "name": "stdout",
     "output_type": "stream",
     "text": [
      "There are 1187 pages that have zero navigation centrality\n",
      " -> that is 25.8 percent of all websites (4592 in total) in the dataset\n"
     ]
    }
   ],
   "source": [
    "# Find all pages with zero navigation centrality\n",
    "zero_navigation_centrality = [website for website,value in navigation_sorted if value == 0]\n",
    "\n",
    "print(\"There are {} pages that have zero navigation centrality\".format(len(zero_navigation_centrality)))\n",
    "print(\" -> that is {} percent of all websites ({} in total) in the dataset\".format(\n",
    "        round_sig((len(zero_navigation_centrality)/len(navigation_sorted))*100,3), len(navigation_sorted)\n",
    "    ))"
   ]
  },
  {
   "cell_type": "markdown",
   "metadata": {},
   "source": [
    "** What is the page with zero navigation centrality and highest betweenness centrality? Can you explain why no human navigated to this page? Can you explain why the page is central in the actual link network? (For example, you can take a look at the degree of the node). **\n",
    "\n",
    "The page is *[List of lakes](https://en.wikipedia.org/wiki/List_of_lakes)* which has the betweenness centrality value of 0.0009143. The degree of the page's corresponding link in the graphs is 109, which is interesting when you considere that the average degree in the graphs is 46.449. Initially this came as an surprise but after furter investigation it all started to make sens. The *[List of lakes](https://en.wikipedia.org/wiki/List_of_lakes)* contains a list of lakes by country and therefore can be considered as a some sort of an gateway to wiki pages of the countries. In our earlier work we found out that countries have really high centrality value for both betweenness centrality and navigation centrality. A wikipage of a country is, in most cases, huge page which contain waiste amount of information and links in it. Therefore each country's wikipedia page can be cosidered as a gateway to many different things conserning that country and it is therefore a great decision in the game to click on those pages. A lot of people that finished the game figured this out which can be seen by inspecting the navigation centrality values. However no one figured out that the list of lakes page was a good way to access the countries wikipedia pages which is understandable, at least initially I did not considere it to be a good strategy to click on this page.  "
   ]
  },
  {
   "cell_type": "code",
   "execution_count": 73,
   "metadata": {
    "collapsed": false
   },
   "outputs": [
    {
     "name": "stdout",
     "output_type": "stream",
     "text": [
      "The page with zero navigation centrality and highest betweenness centrality is: \n",
      "  'List_of_lakes'\n",
      "  -> with betweenness centrality value of: 0.0009143\n",
      "\n",
      "The degree of the node 'List_of_lakes' in the graph is: 109 and the average degree in the graph is 46.449\n"
     ]
    }
   ],
   "source": [
    "# Find the betweenness centrality value for the pages that have 0 navigation centrality\n",
    "navigationZero_betweenness = [(website, betweenness[website]) for website in zero_navigation_centrality]\n",
    "\n",
    "website, betweenness_value = max(navigationZero_betweenness,key=operator.itemgetter(1))\n",
    "\n",
    "# Find the page with the highest betweenness centrality\n",
    "print (\"The page with zero navigation centrality and highest betweenness centrality is: \\n  '{}'\".format(\n",
    "    website\n",
    "))\n",
    "print (\"  -> with betweenness centrality value of: {}\".format(\n",
    "    round_sig(betweenness_value,4)\n",
    "))\n",
    "\n",
    "print (\"\\nThe degree of the node '{}' in the graph is: {} and the average degree in the graph is {}\".format(\n",
    "        website,\n",
    "        G.degree(website),\n",
    "        round_sig(np.mean(list(G.degree().values())),6)\n",
    "    ))"
   ]
  },
  {
   "cell_type": "code",
   "execution_count": null,
   "metadata": {
    "collapsed": false
   },
   "outputs": [],
   "source": []
  },
  {
   "cell_type": "markdown",
   "metadata": {},
   "source": [
    "** Plot the distribution of betweenness centrality for the pages with zero navigation centrality. My plot on log-log scale ** \n",
    "\n",
    "** TODO ath þetta **"
   ]
  },
  {
   "cell_type": "code",
   "execution_count": 275,
   "metadata": {
    "collapsed": false
   },
   "outputs": [
    {
     "data": {
      "image/png": "[encoded data removed]",
      "text/plain": [
       "<matplotlib.figure.Figure at 0x139f0abe0>"
      ]
     },
     "metadata": {},
     "output_type": "display_data"
    }
   ],
   "source": [
    "navigationZero_betweenness_values = [value for webpage,value in navigationZero_betweenness]\n",
    "\n",
    "bins = 600\n",
    "x,y = np.histogram(navigationZero_betweenness_values, bins)\n",
    "\n",
    "plt.figure(figsize=(10,4))\n",
    "plt.plot(y[:-1],x)\n",
    "plt.xscale(\"log\")\n",
    "plt.yscale(\"log\")\n",
    "plt.xlabel(\"betweenness centrality\")\n",
    "plt.ylabel(\"count\")\n",
    "plt.legend([\"betweenness of zero navigation pages\"])\n",
    "plt.show()\n",
    "\n"
   ]
  },
  {
   "cell_type": "code",
   "execution_count": 278,
   "metadata": {
    "collapsed": false
   },
   "outputs": [
    {
     "data": {
      "text/plain": [
       "[('Eurasian_Collared_Dove', 1.865698170137571e-05),\n",
       " ('Trapdoor_spider', 3.261983024147281e-06),\n",
       " ('Maiasaura', 1.2304383683932744e-06),\n",
       " ('Akrotiri_and_Dhekelia', 1.1355715792964254e-06),\n",
       " ('Aksumite_currency', 1.0903917564413575e-05),\n",
       " ('All_You_Need_Is_Love_%28The_JAMs_song%29', 3.5425843305798206e-05),\n",
       " ('Charles_Etienne_Brasseur_de_Bourbourg', 3.275780966888784e-05),\n",
       " ('Great_Moravia', 7.360930676036271e-06),\n",
       " ('Alliterative_verse', 4.9847714300302315e-06),\n",
       " ('Jacob_Riis', 2.376602391073413e-06),\n",
       " ('Sino-German_cooperation_%281911-1941%29', 1.5184564693310596e-05),\n",
       " ('Costume_design', 1.0840684140356545e-05),\n",
       " ('Elias_Ashmole', 1.544422965019973e-05),\n",
       " ('Euston_Manifesto', 4.549088974279946e-05),\n",
       " ('Gliese_876_c', 1.8443227131564567e-06),\n",
       " ('Boyle_Roche', 5.795746312610576e-08),\n",
       " ('Nanomedicine', 3.7768265639304046e-08),\n",
       " ('Bahamas', 9.660996054429817e-06),\n",
       " ('The_Cantos', 0.00048505863860724956),\n",
       " ('Music_of_the_Lesser_Antilles', 9.217565059462525e-06),\n",
       " ('Fieldfare', 2.4132500086791922e-05),\n",
       " ('History_of_merit_badges_%28Boy_Scouts_of_America%29',\n",
       "  3.675827577239306e-05),\n",
       " ('The_Importance_of_Being_Earnest', 7.619605740659363e-08),\n",
       " ('Box_jellyfish', 1.1490919360307001e-05),\n",
       " ('Henry_Wood_%28conductor%29', 4.951730948704861e-06),\n",
       " ('Galah', 5.705297850902364e-06),\n",
       " ('Nephron', 2.282676860322276e-06),\n",
       " ('Sylvanus_Morley', 2.118144557416337e-05),\n",
       " ('Ateneo_de_Manila_University', 1.8943560460974957e-05),\n",
       " ('Blackpool', 7.067933694564348e-06),\n",
       " ('PRR_GG1', 2.000019026487969e-05),\n",
       " ('Banjul', 4.7665966723579545e-06),\n",
       " ('Political_integration_of_India', 1.415306099826893e-05),\n",
       " ('Matthew_Brettingham', 3.4075889135360386e-06),\n",
       " ('Split_infinitive', 5.7415245786184255e-06),\n",
       " ('Gremlins', 2.310044509935984e-05),\n",
       " ('Music_of_Antigua_and_Barbuda', 3.2241133472605613e-06),\n",
       " ('Uffington_White_Horse', 1.9961754488498247e-06),\n",
       " ('Lilongwe', 7.907032167108893e-07),\n",
       " ('Mark_Twain_House', 3.377549545775343e-07),\n",
       " ('History_of_Greenland', 5.5400028090012336e-05),\n",
       " ('Crab_Nebula', 6.363809216435071e-06),\n",
       " ('Rhodium%28III%29_chloride', 1.404560640281613e-07),\n",
       " ('Tacitean_studies', 6.122302701059183e-06),\n",
       " ('July_2006_Java_earthquake', 2.3929323852981044e-06),\n",
       " ('Monarda_didyma', 7.881225629792227e-06),\n",
       " ('Llywelyn_the_Great', 4.593232913656029e-06),\n",
       " ('Franklin_B._Gowen', 1.228340566278202e-06),\n",
       " ('Worm', 9.723758636665317e-06),\n",
       " ('Crimean_Karaites', 4.677848882169479e-06),\n",
       " ('Basset_Hound', 1.260678190007286e-05),\n",
       " ('Evan_Rachel_Wood', 5.855799330580898e-07),\n",
       " ('Multiple_sequence_alignment', 1.1809673982401047e-06),\n",
       " ('Flag_of_Australia', 3.648566117481338e-06),\n",
       " ('Sustainable_forestry', 6.415304877990923e-08),\n",
       " ('William_Pitt_the_Younger', 2.302927260539165e-05),\n",
       " ('Coupling_%28railway%29', 6.303581401927918e-05),\n",
       " ('AC_DC', 6.0658562977070006e-05),\n",
       " ('Haji_Mohammad_Suharto', 1.2952135329904522e-05),\n",
       " ('Rio_Tinto_Group', 1.3214715221203735e-05),\n",
       " ('Haemophilia', 5.179805126828619e-07),\n",
       " ('African_Grey_Hornbill', 1.4699854132112877e-06),\n",
       " ('Cane_Toad', 4.6372644072874186e-05),\n",
       " ('Giant_Hogweed', 4.192793594866863e-06),\n",
       " ('Empires__Dawn_of_the_Modern_World', 0.00011923804635468192),\n",
       " ('Michael_Ramsey', 2.7499219431762568e-06),\n",
       " ('Kargil_War', 1.155655838667409e-05),\n",
       " ('Sydney_Riot_of_1879', 3.69682746875491e-07),\n",
       " ('Chadian-Sudanese_conflict', 8.468435197656266e-06),\n",
       " ('Yagan', 1.3313701461580805e-05),\n",
       " ('Music_of_Martinique_and_Guadeloupe', 2.557240800028504e-05),\n",
       " ('Schuttern_Gospels', 8.684105856962254e-07),\n",
       " ('GNU_Linux_naming_controversy', 3.4361008344688483e-06),\n",
       " ('Comma_Johanneum', 8.076809684864829e-06),\n",
       " ('D%C3%A1l_Riata', 2.686323715578785e-05),\n",
       " ('Tropical_Storm_Larry_%282003%29', 1.3830405192041034e-06),\n",
       " ('Storm_of_October_1804', 4.257150983845642e-07),\n",
       " ('Llandudno', 1.2698729232988386e-05),\n",
       " ('Hero_of_Ukraine', 1.741216972282508e-06),\n",
       " ('Meteor_shower', 6.744035993509804e-07),\n",
       " ('Giant%27s_Causeway', 3.91740691998846e-06),\n",
       " ('Lerwick', 7.182044895233844e-06),\n",
       " ('Geology_of_Dorset', 2.836341726371365e-05),\n",
       " ('Hurricane_Lenny', 1.1388273174291717e-05),\n",
       " ('Fair_Isle', 4.615342650613537e-06),\n",
       " ('One_Flew_Over_the_Cuckoo%27s_Nest_%28novel%29', 3.109777850151778e-06),\n",
       " ('Dik-dik', 4.586471150168937e-06),\n",
       " ('Terik', 0.0),\n",
       " ('Moldovans', 2.0379608448277812e-06),\n",
       " ('Khan_Wali_Khan', 1.0196639260537797e-05),\n",
       " ('Crossbill', 7.551640362137836e-06),\n",
       " ('Autostereogram', 5.25840665102536e-06),\n",
       " ('Breaker_Morant', 4.668531899399712e-06),\n",
       " ('16_Cygni', 2.4293726286221707e-07),\n",
       " ('Wood_fuel', 1.6830915755538433e-05),\n",
       " ('Alamosaurus', 8.884744693143886e-06),\n",
       " ('Kaffir_lime', 2.9222003663752297e-06),\n",
       " ('Hampstead_Heath', 8.985124619343177e-07),\n",
       " ('Monoclonius', 2.1958160686578083e-05),\n",
       " ('Forth_Bridge_%28railway%29', 8.878532705163625e-06),\n",
       " ('Fanny_Blankers-Koen', 3.123166612764642e-05),\n",
       " ('Basel', 4.122425232963909e-05),\n",
       " ('Material_properties_of_diamond', 4.507122235574881e-05),\n",
       " ('Henry_Rollins', 6.111669111026557e-08),\n",
       " ('Phenylketonuria', 1.6078228727454344e-06),\n",
       " ('Gowanus_Canal', 1.9330337768356402e-05),\n",
       " ('Eilmer_of_Malmesbury', 1.0517806023617722e-06),\n",
       " ('Vernon_Kell', 9.36135196248398e-08),\n",
       " ('Battle_of_Rennell_Island', 3.035465912524425e-06),\n",
       " ('HD_217107', 4.592297326089603e-06),\n",
       " ('List_of_European_Union_member_states_by_accession', 9.823665817273867e-05),\n",
       " ('Johann_Pachelbel', 7.584587018968579e-05),\n",
       " ('The_King%27s_Regiment_%28Liverpool%29', 2.8696170017383057e-05),\n",
       " ('Rose-ringed_Parakeet', 7.460360968380196e-05),\n",
       " ('Dundee_United_F.C.', 3.4151919633340796e-06),\n",
       " ('Stourbridge_Lion', 4.399857644510738e-06),\n",
       " ('The_Oz_books', 3.538301822946119e-06),\n",
       " ('Gallery_of_the_Kings_and_Queens_of_England', 8.272761569336826e-06),\n",
       " ('Whooping_Crane', 1.8614349682307416e-06),\n",
       " ('Music_of_Hungary', 2.1289355600418153e-05),\n",
       " ('Aleksandr_Vasilevsky', 1.0972802735761215e-06),\n",
       " ('Spix%27s_Macaw', 1.2644901444740072e-06),\n",
       " ('Roan_Antelope', 1.2581464575996364e-06),\n",
       " ('Giant_Panda', 0.00015336865329840496),\n",
       " ('Makuria', 1.802743300321888e-05),\n",
       " ('Eurasian_Jay', 1.201854803255272e-05),\n",
       " ('Mahmoud_Abbas', 6.6327966525410825e-06),\n",
       " ('Catherine_Cranston', 1.9789112759895087e-06),\n",
       " ('Endoscopic_foreign_body_retrieval', 2.954300948880907e-07),\n",
       " ('List_of_Oceanian_countries', 2.8432512580295278e-05),\n",
       " ('Santamar%C3%ADa_%28volcano%29', 2.7875878171053586e-06),\n",
       " ('Jiaogulan', 1.9809005050166336e-06),\n",
       " ('Andrew_Gonzalez', 2.5853733593359916e-06),\n",
       " ('Dakota%2C_Minnesota_and_Eastern_Railroad', 5.385243922438617e-06),\n",
       " ('Stornoway', 1.5494982650005044e-05),\n",
       " ('M%2AA%2AS%2AH_%28TV_series%29', 5.835741840897308e-06),\n",
       " ('Great_Yarmouth', 7.181363362735882e-05),\n",
       " ('Marcel_Lefebvre', 5.296361735326288e-06),\n",
       " ('Ireland_King_of_Arms', 1.1602559667307369e-06),\n",
       " ('Riyadh', 4.697835226799883e-06),\n",
       " ('Fauna_of_Australia', 0.0004437337614158123),\n",
       " ('Virtuti_Militari', 3.785049975533326e-05),\n",
       " ('William_Gladstone', 4.686843326823872e-05),\n",
       " ('Basilica_of_Santa_Maria_degli_Angeli', 3.109674718673439e-08),\n",
       " ('RER', 8.470847233981474e-09),\n",
       " ('Ivory-billed_Woodpecker', 2.9812434535815857e-05),\n",
       " ('History_of_Northwest_Territories_capital_cities', 5.491571583179685e-07),\n",
       " ('Simca_Vedette', 2.512263252311168e-08),\n",
       " ('Grape_seed_oil', 1.3938891434440212e-05),\n",
       " ('Iceland_hotspot', 2.0110365329524198e-06),\n",
       " ('Great_Bustard', 9.970351892219004e-06),\n",
       " ('The_Dandy', 1.5719354641999154e-05),\n",
       " ('Krakatoa', 2.2761234925938194e-05),\n",
       " ('Eurasian_Bullfinch', 1.1602731474003893e-06),\n",
       " ('J%C3%B3zef_Pi%C5%82sudski', 4.762087441184385e-05),\n",
       " ('Upsilon_Andromedae_b', 3.7567386952444103e-06),\n",
       " ('Carl_G._Fisher', 2.3919986076395546e-06),\n",
       " ('Btrieve', 0.0),\n",
       " ('Sandur', 6.541263502971813e-06),\n",
       " ('List_of_minerals', 5.527016360487325e-06),\n",
       " ('Battle_of_Grunwald', 1.0607171497022038e-05),\n",
       " ('Myers-Briggs_Type_Indicator', 4.17910403335751e-06),\n",
       " ('Gustavus_Franklin_Swift', 6.184011280220989e-05),\n",
       " ('Battle_of_Vaslui', 1.443640180002912e-07),\n",
       " ('Marginated_Tortoise', 4.3858622516941085e-05),\n",
       " ('Aggregator', 6.621377350785358e-06),\n",
       " ('Helicobacter_pylori', 2.3461362902857248e-05),\n",
       " ('Crime_in_Mexico', 7.55970174540111e-07),\n",
       " ('Constantine_II_of_Scotland', 2.077695943247972e-06),\n",
       " ('Military_history_of_France', 0.00022819021311414506),\n",
       " ('Kigali', 5.841334657996118e-06),\n",
       " ('United_States_Numbered_Highways', 1.312631876940534e-06),\n",
       " ('Bongo_%28antelope%29', 6.100778080646507e-06),\n",
       " ('Fort_de_Chartres', 2.526169625156531e-07),\n",
       " ('History_of_the_Royal_Australian_Navy', 0.00011275364158990978),\n",
       " ('Great_Crested_Grebe', 2.4710154590465096e-05),\n",
       " ('History_of_Cape_Colony_from_1870_to_1899', 1.821072233952691e-05),\n",
       " ('Amaranth_oil', 1.3996995503727831e-07),\n",
       " ('X-Men__The_Last_Stand', 2.852370640292992e-05),\n",
       " ('History_of_saffron', 0.00012951094386330915),\n",
       " ('Soil_moisture', 3.242357619738139e-07),\n",
       " ('Edmonton', 1.0251591163050902e-05),\n",
       " ('Karachi', 4.7169309262276787e-05),\n",
       " ('Iowa_class_battleship', 1.6600464661038994e-07),\n",
       " ('Bruce_Lee', 3.075436070723434e-05),\n",
       " ('Weyauwega_derailment', 2.026278589653571e-06),\n",
       " ('Opuntia_imbricata', 1.5927198093474211e-06),\n",
       " ('Gliese_876_b', 3.859363402940982e-06),\n",
       " ('Convention_on_the_International_Trade_in_Endangered_Species_of_Wild_Flora_and_Fauna',\n",
       "  2.349771940898788e-06),\n",
       " ('Southern_Pacific_4449', 1.074771449856043e-07),\n",
       " ('Francis_Petre', 1.3305422147185234e-05),\n",
       " ('Jordanhill_railway_station', 1.7225472278992173e-06),\n",
       " ('Yarralumla%2C_Australian_Capital_Territory', 8.090640551921135e-05),\n",
       " ('Luxembourg_%28city%29', 5.356106748255277e-06),\n",
       " ('Three_Laws_of_Robotics', 1.0817598520292697e-05),\n",
       " ('Pachycephalosaurus', 2.7032332149551895e-06),\n",
       " ('Yungay%2C_Peru', 7.682533560318722e-08),\n",
       " ('Roche_limit', 1.0501932941701531e-05),\n",
       " ('Winston_Tunnel', 7.0074794385213e-07),\n",
       " ('Dartmoor', 3.85119868765476e-06),\n",
       " ('African_Jacana', 4.667563439146253e-06),\n",
       " ('Ganges_shark', 7.825216156376395e-06),\n",
       " ('Olaudah_Equiano', 1.5296296676218343e-06),\n",
       " ('Hopman_Cup', 3.571327714617482e-05),\n",
       " ('Jerry_Fodor', 2.6141526094973462e-05),\n",
       " ('African_American_literature', 2.2351923001022275e-05),\n",
       " ('Pat_Cash', 2.916259489650123e-05),\n",
       " ('Darling_River', 1.1733855707322926e-06),\n",
       " ('Thrasybulus', 6.727803247949212e-07),\n",
       " ('Stag_beetle', 3.297054213890054e-05),\n",
       " ('San_Diegan', 1.894122947397647e-05),\n",
       " ('Agamemnon', 1.4109937964465937e-05),\n",
       " ('Baden-Powell_House', 1.5133098644658435e-06),\n",
       " ('2-8-0', 7.753104886079135e-06),\n",
       " ('Jacobite_rising', 2.261360085057834e-05),\n",
       " ('Angelica', 3.881810191152835e-06),\n",
       " ('Snowy_Owl', 6.289762709194097e-05),\n",
       " ('Grease_%28film%29', 2.797837468655695e-06),\n",
       " ('Edmund_Burke', 0.00011524491196920935),\n",
       " ('Roman_Vishniac', 0.00014855202305339284),\n",
       " ('Six-party_talks_concerning_North_Korea%27s_nuclear_program',\n",
       "  2.9802389493931455e-07),\n",
       " ('Tree_Sparrow', 3.8128242049061084e-05),\n",
       " ('Cape_Porcupine', 7.649000317975261e-07),\n",
       " ('England_expects_that_every_man_will_do_his_duty', 4.39064635671796e-06),\n",
       " ('Georg_Forster', 6.491170416604155e-05),\n",
       " ('Quatermass_and_the_Pit', 6.557573532178756e-05),\n",
       " ('Yes_Minister', 3.675810979730475e-05),\n",
       " ('Sponsorship_Directdebit', 0.0),\n",
       " ('Ukulele', 1.5822701936224168e-05),\n",
       " ('Merseburg_Incantations', 1.0966182708751754e-06),\n",
       " ('The_Relapse', 3.4728274061351413e-06),\n",
       " ('Short-beaked_Echidna', 5.080213177379582e-06),\n",
       " ('Geography_of_India', 0.00014213063326563304),\n",
       " ('Bamako', 1.1931819375182043e-05),\n",
       " ('Andr%C3%A9s_Nocioni', 2.315971205475488e-07),\n",
       " ('Western_painting', 0.0003112753253864665),\n",
       " ('Aye-aye', 3.920038400536269e-06),\n",
       " ('The_Fairy-Queen', 7.562030384298801e-06),\n",
       " ('McFly_%28band%29', 2.3140365366596055e-06),\n",
       " ('Whitethroat', 2.6932015921301303e-06),\n",
       " ('Work_%28thermodynamics%29', 1.6562550599971302e-06),\n",
       " ('Adi_Shankara', 3.6779297853951675e-06),\n",
       " ('Captain_Marvel_%28DC_Comics%29', 9.201716023157756e-05),\n",
       " ('A._E._J._Collins', 1.4780965089681696e-06),\n",
       " ('Layla', 1.4198112065715155e-06),\n",
       " ('Great_Tit', 8.929505828320678e-06),\n",
       " ('Zhang_Qian', 8.65336331930742e-06),\n",
       " ('Selena', 7.156478396646281e-07),\n",
       " ('47_Ursae_Majoris_c', 1.3684974663157846e-07),\n",
       " ('Polish%E2%80%93Muscovite_War_%281605%E2%80%931618%29',\n",
       "  1.0114093338266722e-05),\n",
       " ('Newmarket', 2.5056936583679297e-05),\n",
       " ('Geology_of_the_Grand_Canyon_area', 0.00021487252171751108),\n",
       " ('Libreville', 3.201209687254122e-06),\n",
       " ('Dunstable_Downs', 2.153631930239965e-06),\n",
       " ('Pashtun_people', 0.00010277088776116992),\n",
       " ('Anton%C3%ADn_Dvo%C5%99%C3%A1k', 4.3906680625329035e-05),\n",
       " ('Stanis%C5%82aw_Koniecpolski', 5.878348188911349e-06),\n",
       " ('Timeline_of_discovery_of_solar_system_planets_and_their_natural_satellites',\n",
       "  6.871315876146903e-06),\n",
       " ('Nouakchott', 7.089686178373946e-06),\n",
       " ('Epaminondas', 9.286226512511274e-07),\n",
       " ('Henipavirus', 1.2611588420123241e-05),\n",
       " ('Mayotte', 2.9825578493518515e-06),\n",
       " ('Benjamin_of_Tudela', 4.422239455595055e-06),\n",
       " ('List_of_world%27s_largest_lakes', 5.424464419213809e-05),\n",
       " ('List_of_South_American_countries', 6.299636856684693e-06),\n",
       " ('Intel_Corporation', 6.575058869914516e-05),\n",
       " ('Ollanta_Humala', 3.1089546413344238e-06),\n",
       " ('Ascariasis', 6.43055027609817e-05),\n",
       " ('Malaspina_Glacier', 0.0),\n",
       " ('Marc_Pugh', 0.0),\n",
       " ('Joel_Brand', 2.1651898775746922e-05),\n",
       " ('The_Iron_Bridge', 5.65481068916556e-07),\n",
       " ('Mausoleum_of_Maussollos', 1.7759371324566043e-05),\n",
       " ('Linnet', 4.5078111124413354e-06),\n",
       " ('Radhanite', 2.647217698169961e-05),\n",
       " ('Battle_of_the_Little_Bighorn', 1.228579877522655e-05),\n",
       " ('Magdalena_Abakanowicz', 2.045154123256341e-05),\n",
       " ('Hepatorenal_syndrome', 3.724000805458579e-07),\n",
       " ('Sichuan_Pepper', 4.998631908448405e-05),\n",
       " ('Hugo_Wolf', 1.3662219461886297e-06),\n",
       " ('Stanis%C5%82aw_Lem', 3.106983994256869e-05),\n",
       " ('Eastern_Roman_Empire', 9.332837461889755e-08),\n",
       " ('Boston_and_Lowell_Railroad', 7.398998529631669e-06),\n",
       " ('Vole', 4.418068038549325e-05),\n",
       " ('Wigeon', 1.736702704248986e-05),\n",
       " ('Thomas_Pynchon', 0.00012015554759362892),\n",
       " ('Ramsgate', 4.526707469785616e-05),\n",
       " ('Castra', 3.4185790010989234e-06),\n",
       " ('Tropical_Storm_Chris_%282006%29', 1.2185172568451602e-05),\n",
       " ('Snowdonia_National_Park', 6.4218148419946505e-06),\n",
       " ('Milgram_experiment', 1.1512965775470322e-05),\n",
       " ('Bourbonnais_train_accident', 9.155576206244863e-08),\n",
       " ('Map_projection', 2.4069959703220525e-06),\n",
       " ('Duchenne_muscular_dystrophy', 0.0),\n",
       " ('Hey_Jude', 4.678650926277666e-06),\n",
       " ('Battle_of_the_Eastern_Solomons', 1.1047988202168491e-05),\n",
       " ('Quetzalcoatl', 9.574485889238361e-06),\n",
       " ('55_Cancri_b', 1.7076417210446198e-06),\n",
       " ('Directive_Principles_in_India', 3.5618199223730693e-06),\n",
       " ('Guqin', 0.00013980938478415196),\n",
       " ('Maputo', 4.499303603563412e-06),\n",
       " ('Tropical_Storm_Harvey_%282005%29', 1.4673312590689078e-07),\n",
       " ('Italo_disco', 1.0208831300899438e-05),\n",
       " ('Barbary_Lion', 2.323592294291222e-05),\n",
       " ('S-mine', 6.599318775404273e-07),\n",
       " ('Sakurajima', 5.138381260294991e-06),\n",
       " ('Able_Archer_83', 2.5791963769575252e-06),\n",
       " ('Ethiopian_Wolf', 1.5784127329764378e-06),\n",
       " ('Astrophysics_Data_System', 0.0003965961776786324),\n",
       " ('Turkish_Republic_of_Northern_Cyprus', 2.8849973033931067e-06),\n",
       " ('Bohor_Reedbuck', 4.829403952527301e-07),\n",
       " ('ATLAS_experiment', 2.1529001036247616e-05),\n",
       " ('All_your_base_are_belong_to_us', 0.0),\n",
       " ('Siege_of_Antioch', 1.3006856978466274e-05),\n",
       " ('Aradia%2C_or_the_Gospel_of_the_Witches', 6.280151724295113e-06),\n",
       " ('Casablanca_%28film%29', 5.2140980436811746e-05),\n",
       " ('George_Thomas_Coker', 1.087763245286883e-05),\n",
       " ('Armand_Jean_du_Plessis%2C_Cardinal_Richelieu', 5.440780623233188e-05),\n",
       " ('George_Herbert', 6.885013276422778e-06),\n",
       " ('List_of_particles', 1.359898376722981e-06),\n",
       " ('Dayuan', 3.498854741634946e-06),\n",
       " ('FairTax', 5.1376228740535015e-06),\n",
       " ('Soil_pH', 3.080781353961482e-05),\n",
       " ('47_Ursae_Majoris_b', 2.101411626640488e-06),\n",
       " ('Starling', 1.917359672966081e-05),\n",
       " ('Weasel', 8.897392145311198e-06),\n",
       " ('Spirit_of_the_American_Doughboy', 0.0),\n",
       " ('Aarhus', 1.14797064320658e-05),\n",
       " ('William_Mahone', 6.363757064914281e-06),\n",
       " ('Jehovah', 2.4034218581625643e-06),\n",
       " ('Autorack', 4.2712201970492196e-06),\n",
       " ('Tone_cluster', 0.0),\n",
       " ('Bangalore', 9.576362054906596e-05),\n",
       " ('Black_Seminoles', 3.229861072490571e-06),\n",
       " ('Keurusselk%C3%A4', 7.997104224946268e-06),\n",
       " ('Nicobar_Long-tailed_Macaque', 8.392810940522516e-06),\n",
       " ('Abbadid', 1.5712884553873406e-06),\n",
       " ('Ike_Altgens', 2.894779223663015e-06),\n",
       " ('Minmi_%28dinosaur%29', 4.826299707124211e-06),\n",
       " ('ROT13', 9.023298320820735e-05),\n",
       " ('HD_217107_b', 3.555504305000615e-06),\n",
       " ('History_of_Limerick', 2.9758498275566595e-05),\n",
       " ('Flag_of_Belarus', 4.912458218375334e-07),\n",
       " ('The_Catlins', 1.2424477380374228e-05),\n",
       " ('Troodon', 8.929846592346447e-06),\n",
       " ('Fugu', 0.00010519602325333353),\n",
       " ('Cicely', 2.396839327525998e-06),\n",
       " ('Niccol%C3%B2_dell%27Abbate', 7.1356304846626155e-09),\n",
       " ('Moorgate', 1.0165041395929926e-05),\n",
       " ('Tashkent', 4.828809343819351e-05),\n",
       " ('Ammolite', 0.00019879537810279995),\n",
       " ('Margaret_Sanger', 7.280527825458057e-06),\n",
       " ('Nadia_Com%C4%83neci', 2.6386836094053184e-06),\n",
       " ('Electronic_amplifier', 1.192451900897476e-06),\n",
       " ('Trade_and_usage_of_saffron', 8.47542373501097e-05),\n",
       " ('Weston-super-Mare', 1.6859202654835288e-05),\n",
       " ('Common_Eider', 3.2770654226550085e-06),\n",
       " ('Ibn_Battuta', 4.356670410731833e-05),\n",
       " ('Anton_Alexander_von_Werner', 3.4794956514409846e-07),\n",
       " ('Mauna_Loa', 5.221603746544247e-06),\n",
       " ('Chartism', 1.3182631330145258e-05),\n",
       " ('Red_rain_in_Kerala', 6.875881371907245e-05),\n",
       " ('Trobairitz', 0.0),\n",
       " ('Music_of_Thailand', 2.1651503701552283e-06),\n",
       " ('Cyclone_Rosita', 5.357632584372393e-07),\n",
       " ('55_Cancri_d', 6.0028103595366965e-06),\n",
       " ('Monrovia', 3.5130919899323727e-06),\n",
       " ('Pheidippides', 3.2529270462251113e-07),\n",
       " ('Photovoltaic_array', 4.838571798733663e-06),\n",
       " ('Porto-Novo', 1.4835067548076984e-05),\n",
       " ('The_Canadian', 3.4628349174789307e-06),\n",
       " ('Eurasian_Oystercatcher', 9.90781760545702e-05),\n",
       " ('Tripoli', 4.1668133634527985e-05),\n",
       " ('Davy_Jones%27_Locker', 6.670212207325967e-07),\n",
       " ('Shrine_of_Remembrance', 1.5979054835777457e-05),\n",
       " ('Ringed_Plover', 4.5357589574984997e-05),\n",
       " ('Hurricane_Vince_%282005%29', 4.1880554817061844e-08),\n",
       " ('Cyril_Clarke', 9.560577278569431e-08),\n",
       " ('Celtic_Park', 5.124917339288136e-07),\n",
       " ('Angkor', 3.876338854927698e-06),\n",
       " ('Earl_of_Shaftesbury', 5.132205915665765e-07),\n",
       " ('Plant_cell', 4.960577361110092e-08),\n",
       " ('Mary_Kingsley', 6.772497793529706e-06),\n",
       " ('London_sewerage_system', 2.4191597346301945e-06),\n",
       " ('Union_Station_%28San_Diego%29', 5.478483060289488e-06),\n",
       " ('Lake_Kivu', 1.2662058271149843e-05),\n",
       " ('Soddo_language', 3.149226528330387e-07),\n",
       " ('Klinefelter%27s_syndrome', 0.0),\n",
       " ('Lagos', 1.3065874919567448e-05),\n",
       " ('Prehistoric_man', 3.7273669390183454e-05),\n",
       " ('6-2-0', 7.7780649365108e-06),\n",
       " ('Myxobolus_cerebralis', 7.242909734044977e-05),\n",
       " ('Gentoo_penguin', 6.596068724927444e-06),\n",
       " ('Floris_and_Blancheflour', 1.0603635224611158e-07),\n",
       " ('English_monarchs_family_tree', 1.2805934470216984e-08),\n",
       " ('Draughts', 1.9568825311208666e-06),\n",
       " ('Montreal_Metro', 2.456436141731834e-06),\n",
       " ('Long-tailed_Tit', 1.3829748030024377e-06),\n",
       " ('Idit_Harel_Caperton', 6.643282734082585e-06),\n",
       " ('Praia', 2.3285545315237933e-06),\n",
       " ('La_Paz', 6.5776344529275785e-06),\n",
       " ('Michael_Woodruff', 7.332507829903248e-06),\n",
       " ('Culture_of_the_Democratic_Republic_of_the_Congo', 5.8657819137752905e-05),\n",
       " ('John_Vanbrugh', 9.010374505795079e-05),\n",
       " ('Milkshake', 9.874360595046504e-06),\n",
       " ('E._P._Wigner', 2.0124059314656416e-06),\n",
       " ('Weyto_language', 1.0105828085388068e-07),\n",
       " ('Tropical_Storm_Odette_%282003%29', 1.7653279325080605e-06),\n",
       " ('S%C3%A3o_Tom%C3%A9', 1.3180826934471283e-06),\n",
       " ('Andrew_Dickson_White', 6.101896130221832e-06),\n",
       " ('Triggerplant', 4.298030890678714e-05),\n",
       " ('Portuguese_Communist_Party', 7.366542353473357e-06),\n",
       " ('Phonograph_cylinder', 3.7678894852302437e-06),\n",
       " ('Scotch_College%2C_Perth', 5.505575075551689e-05),\n",
       " ('Belton_House', 1.5332466447307823e-05),\n",
       " ('Lemon_myrtle', 1.231412004398177e-05),\n",
       " ('Bushbuck', 4.049465457031023e-06),\n",
       " ('Frances_Oldham_Kelsey', 1.525445423111084e-07),\n",
       " ('Data_Encryption_Standard', 2.60712631839523e-05),\n",
       " ('Zion_National_Park', 0.00014688795536561865),\n",
       " ('CF7', 5.903038986219184e-06),\n",
       " ('Timken_1111', 2.366876619060188e-08),\n",
       " ('Mongol_invasion_of_Central_Asia', 4.481131196232266e-06),\n",
       " ('Grand_Forks%2C_North_Dakota', 5.203612983874622e-06),\n",
       " ('Allegory_in_the_Middle_Ages', 1.5524192673819888e-06),\n",
       " ('History_of_education', 3.060876810298688e-05),\n",
       " ('Ward_Cunningham', 3.302082026330429e-06),\n",
       " ('Canaletto', 6.000213553028626e-07),\n",
       " ('Automated_teller_machine', 0.0001610479628269081),\n",
       " ('X_Window_System_protocols_and_architecture', 8.096240066174627e-07),\n",
       " ('Troop_sleeper', 1.0723671481285393e-06),\n",
       " ('Goldfish', 0.00012474510967096553),\n",
       " ('Jackdaw', 6.991469685767364e-05),\n",
       " ('Amda_Seyon_I', 3.5265790033902768e-06),\n",
       " ('Indian_Peafowl', 8.315008211549788e-06),\n",
       " ('Rondane_National_Park', 2.2674313765360353e-05),\n",
       " ('Automatic_number_plate_recognition', 2.6397631597370024e-05),\n",
       " ('Jane_Eyre', 2.8380413883525287e-05),\n",
       " ('LANSA_Cuzco_Crash', 2.3514960876827807e-08),\n",
       " ('Caloris_Basin', 1.0174308099857139e-06),\n",
       " ('Bath_School_disaster', 4.136651653078623e-06),\n",
       " ('Indian_Institutes_of_Technology', 0.0001182248716499783),\n",
       " ('Wolf_Brother', 3.176022645774053e-07),\n",
       " ('Daniel_Ellsberg', 2.807058175994062e-06),\n",
       " ('List_of_animal_welfare_groups', 1.268294227493216e-06),\n",
       " ('Beep_%28SWBLW%29', 8.830894355277892e-07),\n",
       " ('T._D._Judah', 0.0),\n",
       " ('John_Henninger_Reagan', 1.6154452140784133e-07),\n",
       " ('Ouagadougou', 1.5717268058627896e-05),\n",
       " ('Calvin_Coolidge', 3.476234481520558e-05),\n",
       " ('Xanadu_House', 1.8660133539303555e-05),\n",
       " ('British_Indian_Ocean_Territory', 9.325347362268379e-05),\n",
       " ('Ann_Arbor%2C_Michigan', 6.098763305217565e-05),\n",
       " ('The_Absent-Minded_Beggar', 1.524759745186333e-07),\n",
       " ('Jyllands-Posten_Muhammad_cartoons_controversy', 2.1537764548466638e-05),\n",
       " ('Cyclone_Percy', 2.6465128554830478e-06),\n",
       " ('Gothenburg', 7.678718026400222e-05),\n",
       " ('Tropical_Storm_Matthew_%282004%29', 8.213751695685097e-07),\n",
       " ('Mbabane', 3.0865718278459083e-06),\n",
       " ('Milk_thistle', 1.239128459335292e-06),\n",
       " ('Arp2_3_complex', 1.829684577179406e-06),\n",
       " ('Tropical_Storm_Isabel_%281985%29', 5.244481726266951e-06),\n",
       " ('Sudanic_languages', 0.0),\n",
       " ('San_Diego_and_Arizona_Railway', 7.304775099588059e-07),\n",
       " ('Pro_Milone', 0.0),\n",
       " ('IG_Farben_Building', 2.70034064709738e-06),\n",
       " ('Common_sage', 2.990489965018321e-05),\n",
       " ('Cataract_surgery', 4.6151792447099916e-05),\n",
       " ('Black_widow_spider', 1.3305874910611765e-05),\n",
       " ('Lesothosaurus', 3.244599108638084e-06),\n",
       " ('Differential_geometry_and_topology', 6.859544735538335e-08),\n",
       " ('Arts_and_crafts', 6.565437591690138e-06),\n",
       " ('Bassoon', 9.149006781003136e-06),\n",
       " ('Typhoon_Saomai_%282006%29', 4.254934429319297e-06),\n",
       " ('Treecreeper', 6.78020280444298e-06),\n",
       " ('Annibale_Bugnini', 5.1410338728231855e-08),\n",
       " ('Styracosaurus', 8.058888554553447e-06),\n",
       " ('Sandy_Koufax', 1.0687293928535792e-05),\n",
       " ('Moringa_oleifera', 5.5229038101431545e-05),\n",
       " ('90377_Sedna', 8.685111150287685e-05),\n",
       " ('Kevin_Spacey', 9.112475362239201e-06),\n",
       " ('WTA_Tour_Championships', 6.514090976757851e-06),\n",
       " ('Snowdonia', 5.220005373328745e-06),\n",
       " ('History_of_the_Australian_Capital_Territory', 4.936105322576131e-05),\n",
       " ('El_Aai%C3%BAn', 7.12038253075937e-09),\n",
       " ('Mount_Nyiragongo', 4.4355625078928295e-06),\n",
       " ('Isan', 8.526889447891135e-05),\n",
       " ('Old_Swiss_Confederacy', 1.3821853178779986e-06),\n",
       " ('%C3%93engus_I_of_the_Picts', 2.560727434887282e-06),\n",
       " ('David_Heymann', 4.215722076901802e-07),\n",
       " ('Forensic_facial_reconstruction', 2.2297709818524627e-06),\n",
       " ('Crash_test_dummy', 2.6440505837108715e-05),\n",
       " ('Levee_failures_in_Greater_New_Orleans%2C_2005', 1.058854856408069e-06),\n",
       " ('Reed_Warbler', 6.153991606607028e-06),\n",
       " ('Husein_Grada%C5%A1%C4%8Devi%C4%87', 3.5229415152511102e-06),\n",
       " ('Nigella', 1.840107014866952e-06),\n",
       " ('Aleksey_Arakcheyev', 2.06329252058355e-06),\n",
       " ('PRR_M1', 0.0),\n",
       " ('Bicycle_Thieves', 4.163091808795391e-06),\n",
       " ('Gangtok', 3.533792288573835e-05),\n",
       " ('List_of_Archbishops_of_Canterbury', 9.455452909494834e-06),\n",
       " ('Augusta%2C_Lady_Gregory', 1.8636658854380703e-05),\n",
       " ('4-2-0', 1.0195259023686189e-05),\n",
       " ('Tin%28II%29_chloride', 4.169947564055161e-06),\n",
       " ('Tenzing_Norgay', 5.071073900802985e-07),\n",
       " ('African_Darter', 3.8034423797480686e-06),\n",
       " ('John_Pershing', 5.6912403770875635e-05),\n",
       " ('Zara_Yaqob', 3.7659752356868165e-07),\n",
       " ('Colossus_of_Rhodes', 2.7621979360902756e-06),\n",
       " ('Hickman%27s_potentilla', 1.8097519891625586e-05),\n",
       " ('2005_Hertfordshire_Oil_Storage_Terminal_fire', 8.633681201687284e-06),\n",
       " ('Common_Eland', 1.5087730986578484e-06),\n",
       " ('Abkhazia', 2.605041379422206e-05),\n",
       " ('El_Lissitzky', 9.994780248122409e-05),\n",
       " ('Financial_statements', 4.174035776817423e-06),\n",
       " ('Argan', 2.306195560945159e-06),\n",
       " ('Mixed-breed_dog', 4.019864352259592e-06),\n",
       " ('South_Ossetia', 2.772409924305179e-06),\n",
       " ('White_Wagtail', 2.7786726462943603e-06),\n",
       " ('A_Wrinkle_in_Time', 1.4593883428316378e-05),\n",
       " ('Chiltern_Hills', 1.2401915519099708e-06),\n",
       " ('Henry_Morrison_Flagler', 4.036165111176162e-06),\n",
       " ('Patna', 3.662786540985631e-05),\n",
       " ('Wren', 4.236628736335238e-06),\n",
       " ('Herbig-Haro_object', 8.461761617656568e-06),\n",
       " ('Tropical_Storm_Henri_%282003%29', 4.213658131987858e-06),\n",
       " ('Cat_Stevens', 2.3100561543823237e-05),\n",
       " ('Atlantic_herring', 1.5356991404251808e-05),\n",
       " ('Fencing', 2.445541863674779e-05),\n",
       " ('Upsilon_Andromedae_d', 3.528831292854876e-06),\n",
       " ('Where_Did_Our_Love_Go', 2.1690373745812242e-07),\n",
       " ('Hurricane_Philippe_%282005%29', 2.492274913930195e-07),\n",
       " ('Aberystwyth', 1.1968813868046849e-05),\n",
       " ('2-6-0', 1.0349839181163983e-05),\n",
       " ('Abraham_Goldfaden', 1.9982373857135316e-05),\n",
       " ('Swallow', 1.5818262088671797e-08),\n",
       " ('One_Foot_in_the_Grave', 5.5245345793620926e-08),\n",
       " ('Battle_of_Cannae', 9.353744713125443e-06),\n",
       " ('Cathedral_of_Magdeburg', 1.0149882518958618e-05),\n",
       " ('47_Ursae_Majoris', 4.3211737421222184e-06),\n",
       " ('San_Francisco_garter_snake', 7.582313527300305e-06),\n",
       " ('Black-backed_Jackal', 1.1272394363166945e-06),\n",
       " ('Refining', 3.365259119272162e-06),\n",
       " ('Civil_War_token', 2.7318087049640993e-06),\n",
       " ('Pochard', 2.5034785130893176e-05),\n",
       " ('Working_poor', 1.7206266626123833e-07),\n",
       " ('Comet_White-Ortiz-Bolelli', 3.6816412784389554e-06),\n",
       " ('Willem_Barents', 1.4052953324984636e-06),\n",
       " ('Behavioral_finance', 5.460274006269446e-07),\n",
       " ('Typhoon_Ewiniar_%282006%29', 4.483638787279438e-07),\n",
       " ('Halfbeak', 3.492897220811792e-06),\n",
       " ('Shigin', 3.180641739189001e-07),\n",
       " ('Bushpig', 6.094489335984146e-07),\n",
       " ('Yenisei_River', 5.339391296843743e-06),\n",
       " ('Actuary', 7.54824793127434e-05),\n",
       " ('Lego', 5.53653662627243e-05),\n",
       " ('Scanian_%28linguistics%29', 2.809802928806937e-06),\n",
       " ('Suburbs_of_Johannesburg', 7.17014077543668e-06),\n",
       " ('Pop_Idol', 0.0),\n",
       " ('Economy_of_Scotland', 8.81603912339054e-05),\n",
       " ('Niue', 1.1488650402476904e-05),\n",
       " ('Galerina', 0.0),\n",
       " ('Scott_Special', 2.9929863342554424e-06),\n",
       " ('Domestic_AC_power_plugs_and_sockets', 6.771585369168767e-05),\n",
       " ('15th_Marine_Expeditionary_Unit', 2.096262607869544e-05),\n",
       " ('Weakest_Link', 2.3286946905589648e-05),\n",
       " ('History_of_the_Netherlands', 6.865277619862947e-05),\n",
       " ('Autobianchi_Primula', 8.040269265264461e-07),\n",
       " ('Stephen_Trigg', 9.004220027089408e-08),\n",
       " ('Postman_Pat', 1.0648133143898486e-05),\n",
       " ('Lithium_aluminium_hydride', 6.273857312002764e-06),\n",
       " ('Yorkshire_Dales', 3.967843586957746e-06),\n",
       " ('Lake_Chad', 4.956116394785823e-06),\n",
       " ('History_of_Alaska', 0.00010436085644228596),\n",
       " ('Human_abdomen', 0.0),\n",
       " ('White%27s_Tree_Frog', 3.602453367054713e-05),\n",
       " ('Utrecht_%28city%29', 1.7110111748640886e-05),\n",
       " ('Avro_Lancaster', 2.364282267376984e-05),\n",
       " ('War_in_Somalia_%282006%E2%80%93present%29', 2.5339781847486482e-06),\n",
       " ('History_of_Louisville%2C_Kentucky', 4.5665709987454086e-05),\n",
       " ('Arthur_Ernest_Percival', 2.7916351673556543e-05),\n",
       " ('Margin_of_error', 8.373737994505073e-07),\n",
       " ('Golden_Gate_Highlands_National_Park', 3.0793219109748006e-06),\n",
       " ('Shoshone_National_Forest', 8.155168735352224e-05),\n",
       " ('Newshounds', 6.751185502581878e-06),\n",
       " ('Elizabethan_Poor_Law_%281601%29', 2.911071660878864e-07),\n",
       " ('Baby_Gender_Mentor', 3.533148055188349e-06),\n",
       " ('Miranda_Otto', 8.76086167609406e-06),\n",
       " ('Peterborough_Chronicle', 2.5825038921676928e-05),\n",
       " ('Directdebit', 0.0),\n",
       " ('History_of_Wikipedia', 4.188652935467088e-05),\n",
       " ('List_of_Asian_countries', 3.478217218758307e-05),\n",
       " ('Eifel_Aqueduct', 5.848066346915087e-06),\n",
       " ('Sunol_Water_Temple', 0.0),\n",
       " ('Order_of_Canada', 2.589515874627683e-05),\n",
       " ('Mixtape', 5.7965222167708445e-06),\n",
       " ('Bouvet_Island', 2.0482244177662107e-05),\n",
       " ('Evanton', 3.3778436274711333e-06),\n",
       " ('Carlsbad_Caverns_National_Park', 1.7981715086821743e-05),\n",
       " ('George_Fox', 1.9219037496637573e-05),\n",
       " ('Georgetown%2C_Guyana', 1.3538304372226803e-06),\n",
       " ('Primula', 9.226734027154652e-06),\n",
       " ('Garden_Gnome_Liberation_Front', 0.0),\n",
       " ('Bissau', 1.8650472916495094e-06),\n",
       " ('Criticism_of_the_War_on_Terrorism', 2.616152699999173e-05),\n",
       " ('Ariel_Sharon', 3.50731807684735e-05),\n",
       " ('SD26', 1.8528101511951945e-06),\n",
       " ('Brian_Close', 8.085095378280599e-07),\n",
       " ('Khudai_Khidmatgar', 1.12580650591241e-06),\n",
       " ('Hilda_of_Whitby', 1.1829292060827139e-05),\n",
       " ('Banksy', 5.605153720431424e-06),\n",
       " ('Barracuda', 6.6143354704172176e-06),\n",
       " ('Bass_%28fish%29', 3.039937961875096e-06),\n",
       " ('Long-billed_Vulture', 9.973029601784251e-06),\n",
       " ('55_Cancri_c', 3.331002703157815e-07),\n",
       " ('Foie_gras', 5.927736885183953e-05),\n",
       " ('Architecture_of_Windows_NT', 0.0),\n",
       " ('Pied_Avocet', 4.1346747316629654e-05),\n",
       " ('Antarctosaurus', 8.876506608796124e-06),\n",
       " ('Swedish_allotment_system', 4.67815528537096e-07),\n",
       " ('Charlotte%27s_Web', 5.488087962489287e-06),\n",
       " ('Battles_of_the_Mexican-American_War', 1.481409748105441e-06),\n",
       " ('StarCraft', 9.409590513235401e-06),\n",
       " ('Pygmy_Hippopotamus', 1.1641854590402026e-05),\n",
       " ('Peaceful_coexistence', 2.0354674973634216e-06),\n",
       " ('Menthol', 7.623588894870764e-06),\n",
       " ('Dewey_Square', 0.0),\n",
       " ('Diffuse_interstellar_band', 5.488451094003127e-06),\n",
       " ('Tiktaalik', 2.4251110336829136e-05),\n",
       " ('Peter_Grimes', 3.689271038288838e-07),\n",
       " ('Ran_%28film%29', 1.2895000503504295e-05),\n",
       " ('Bontebok', 2.0703350360526396e-06),\n",
       " ('HD_28185_b', 7.449978013588431e-07),\n",
       " ('Mahjong', 1.744715369976628e-05),\n",
       " ('Copper%28I%29_chloride', 7.687807346920808e-07),\n",
       " ('African_Brush-tailed_Porcupine', 1.6833306254423029e-06),\n",
       " ('55_Cancri_e', 3.2483883713263063e-06),\n",
       " ('Westport_Country_Playhouse', 4.375108614544614e-06),\n",
       " ('The_Catcher_in_the_Rye', 1.233163469113197e-06),\n",
       " ('Lighthouse_of_Alexandria', 6.431647874874597e-06),\n",
       " ('Rock_Bunting', 4.227865501226503e-06),\n",
       " ('Nuthatch', 3.124268646123727e-06),\n",
       " ('%C3%81ed%C3%A1n_mac_Gabr%C3%A1in', 1.4714402715910861e-06),\n",
       " ('Dixie_Mission', 1.2001656026695475e-06),\n",
       " ('Blokus', 0.0),\n",
       " ('Colley_Cibber', 2.9938352586819462e-05),\n",
       " ('Helen_Gandy', 7.72042462104009e-07),\n",
       " ('Iron_Mike', 7.573234886646602e-06),\n",
       " ('Brabantian', 7.825837862328795e-06),\n",
       " ('Titanosauridae', 0.00012460435608742702),\n",
       " ('General_Pershing_Zephyr', 9.623946834737351e-07),\n",
       " ('Harold_Macmillan', 9.074495310234799e-05),\n",
       " ('Sears_Catalog_Home', 7.242193012414323e-06),\n",
       " ('European_Kingfisher', 2.575100132084114e-06),\n",
       " ('Benjamin_Mountfort', 1.452111798121341e-05),\n",
       " ('Karikkoselk%C3%A4', 1.4818102338206113e-06),\n",
       " ('Logba_language', 3.164498503079424e-07),\n",
       " ('Lead%28II%29_nitrate', 1.4688290683734953e-05),\n",
       " ('Martello_tower', 9.480704874399306e-06),\n",
       " ('Therizinosaurus', 1.1986865018256865e-05),\n",
       " ('Stickleback', 8.622836443502068e-07),\n",
       " ('Ffestiniog_Railway', 1.2975573987157939e-05),\n",
       " ('Ursuline_Convent_Riots', 2.7872665357076525e-07),\n",
       " ('San_Diego_Electric_Railway', 1.479275545345232e-06),\n",
       " ('Driving_on_the_left_or_right', 0.0007215270186147045),\n",
       " ('Ziad_Jarrah', 1.5258100589354458e-05),\n",
       " ('Danny_Deever', 2.806365299329701e-06),\n",
       " ('Ars_moriendi', 1.7968973629380994e-06),\n",
       " ('Social_capital', 1.8468016655349371e-06),\n",
       " ('William_Edington', 4.850875913301366e-07),\n",
       " ('U.S._Navy_Marine_Mammal_Program', 2.038887838667243e-06),\n",
       " ('Forth', 4.048148183246635e-07),\n",
       " ('Fur_language', 2.416000146582661e-08),\n",
       " ('Defaka', 0.0),\n",
       " ('Lom%C3%A9', 7.763923906900763e-06),\n",
       " ('Hurricane_Gloria', 2.450379537780107e-06),\n",
       " ('Ohm', 0.0),\n",
       " ('John_Marshall', 2.574299011563716e-05),\n",
       " ('Voynich_manuscript', 0.00018750464567812014),\n",
       " ('Rudolf_Vrba', 7.999165652792664e-06),\n",
       " ('Celeriac', 3.849535792805784e-08),\n",
       " ('Jean_Charles_de_Menezes', 6.0763238427720015e-06),\n",
       " ('Joseph_and_the_Amazing_Technicolor_Dreamcoat', 7.039078901849199e-06),\n",
       " ('Tufted_Duck', 1.630702487236919e-05),\n",
       " ('Drosera_anglica', 1.7154129097567602e-05),\n",
       " ('Pennine_Way', 2.7193388461775454e-05),\n",
       " ('Jersey_Zoological_Park', 5.236631370136221e-06),\n",
       " ('Sino-Roman_relations', 2.2363215878442478e-05),\n",
       " ('Australian_Ringneck', 8.15427460808723e-07),\n",
       " ('Shabo_language', 0.0),\n",
       " ('African_Black_Oystercatcher', 7.598075275707021e-06),\n",
       " ('Disneyland_Railroad', 4.94585461872052e-06),\n",
       " ('Great_hammerhead', 6.632459378542591e-10),\n",
       " ('Johnny_Appleseed', 5.649429583830113e-06),\n",
       " ('Redwing', 2.0286120107579835e-05),\n",
       " ('Elementary_group_theory', 0.0),\n",
       " ('International_English', 0.0001067145495134659),\n",
       " ('Lovage', 1.993315408706179e-06),\n",
       " ('Hutu', 8.573078091154454e-06),\n",
       " ('Summer_Hill%2C_New_South_Wales', 4.304732770380653e-06),\n",
       " ('16_Cygni_Bb', 3.6843349780117874e-06),\n",
       " ('Garage_%28dance_music%29', 9.686431717753241e-07),\n",
       " ('Psittacosaurus', 0.00013006831654996666),\n",
       " ('Vitus_Bering', 5.316713876978323e-06),\n",
       " ('Fetal_alcohol_spectrum_disorder', 1.9188988388878643e-05),\n",
       " ('Avacha_Volcano', 2.0850907543933247e-06),\n",
       " ('Whitney_Joins_The_JAMs', 2.3442581071561897e-07),\n",
       " ('Aluminium_chloride', 1.0860227760082481e-05),\n",
       " ('Harald_Maddadsson', 4.614381437279647e-07),\n",
       " ('Plateosaurus', 5.487846062119692e-05),\n",
       " ('Tenzin_Gyatso%2C_14th_Dalai_Lama', 6.861056653582217e-05),\n",
       " ('Galeras', 3.093358965808862e-07),\n",
       " ('Katyn_massacre', 5.233508021400651e-06),\n",
       " ('Caratacus', 1.8280954166509645e-06),\n",
       " ('Hermann_Maier', 3.0284031346675327e-07),\n",
       " ('Basil_Brush', 1.7341709985254235e-06),\n",
       " ('2005_Lake_Tanganyika_earthquake', 5.332196297451039e-06),\n",
       " ('Nepenthes_rajah', 0.0002704680871942402),\n",
       " ('Separation_of_powers_under_the_United_States_Constitution',\n",
       "  2.7807969811838336e-05),\n",
       " ('Kubla_Khan', 8.638826066513134e-06),\n",
       " ('Charles_Sumner', 1.4422077930975458e-05),\n",
       " ('Iraq_and_weapons_of_mass_destruction', 3.54570359736178e-05),\n",
       " ('French_Southern_and_Antarctic_Lands', 5.805596954708186e-06),\n",
       " ('Algerian_Civil_War', 1.8084505816898214e-06),\n",
       " ('Nine_Million_Bicycles', 8.584012757831822e-07),\n",
       " ('Daley_Thompson', 1.1525411338448537e-06),\n",
       " ('To_Kill_a_Mockingbird', 9.923218743769576e-06),\n",
       " ('Hurricane_John_%282006%29', 2.2456449567296767e-06),\n",
       " ('M-10003-6', 1.9699665727194617e-07),\n",
       " ('Chepstow_Bridge', 7.300736348617754e-09),\n",
       " ('Cleopatra_VII_of_Egypt', 1.7839034125616358e-05),\n",
       " ('Boston_RFC', 1.837882130255145e-06),\n",
       " ('Compsognathus', 5.633882526992676e-05),\n",
       " ('Bj%C3%B8rn%C3%B8ya', 2.134256096121404e-05),\n",
       " ('Renormalization', 2.1216322210922516e-05),\n",
       " ('Uluru', 2.716666773444034e-06),\n",
       " ('Battle_of_Badr', 1.5099086856672563e-06),\n",
       " ('H.D.', 3.7573874614878616e-05),\n",
       " ('Tropical_Storm_Danielle_%281992%29', 4.0365927284293697e-07),\n",
       " ('HD_28185', 2.552716704438316e-06),\n",
       " ('Tropical_Storm_Leslie_%282000%29', 8.333751219371249e-07),\n",
       " ('Rock_of_Gibraltar', 8.34622757418286e-07),\n",
       " ('Mount_Unzen', 1.3263507944166074e-06),\n",
       " ('The_Curious_Incident_of_the_Dog_in_the_Night-time', 1.701029609160128e-05),\n",
       " ('Gaborone', 1.6383243625794168e-06),\n",
       " ('Kochi_%28India%29', 4.208029322012876e-05),\n",
       " ('Morris_dance', 1.2292925704916003e-05),\n",
       " ('Chinese_Rites_controversy', 3.332272153747941e-06),\n",
       " ('Mormon_Trail', 2.6319390545376005e-06),\n",
       " ('Flag_of_the_Republic_of_China', 6.976597511888201e-06),\n",
       " ('Ulawun', 0.0),\n",
       " ('Sand_shark', 7.770666645221578e-07),\n",
       " ('Island_Fox', 1.3914910835343147e-05),\n",
       " ('St_Michael%27s_Mount', 1.4858110046990195e-05),\n",
       " ('Krag-J%C3%B8rgensen', 8.75351682125443e-06),\n",
       " ('Elfin-woods_Warbler', 3.7948680256296933e-05),\n",
       " ('Andrew_Robinson', 1.0885919858213129e-05),\n",
       " ('Black_panther', 2.31307518906492e-05),\n",
       " ('Howards_End', 5.27448623669383e-05),\n",
       " ('Albrecht_Rodenbach', 0.0),\n",
       " ('Forth_Road_Bridge', 1.4715741712131457e-05),\n",
       " ('Rail_transport_in_India', 4.8680413664667084e-05),\n",
       " ('John_A.T._Robinson', 9.87058174709327e-07),\n",
       " ('Falkirk_Wheel', 2.584865092872565e-07),\n",
       " ('Cyclamen', 1.2188774356531758e-05),\n",
       " ('Toraja', 1.2324355938996074e-05),\n",
       " ('Earwax', 1.9847738219470242e-05),\n",
       " ('Lincoln_%28automobile%29', 1.4022853159419567e-05),\n",
       " ('Imagism', 1.947468543585047e-05),\n",
       " ('Marcus_Allen', 2.4285029514594037e-08),\n",
       " ('Dad%27s_Army', 1.464221819414896e-05),\n",
       " ('Australian_constitutional_law', 2.7099701548225453e-05),\n",
       " ('History_of_Burnside', 9.353371815406224e-06),\n",
       " ('Social_contract_%28Malaysia%29', 8.437284305773286e-06),\n",
       " ('Umbrella_Cockatoo', 6.113156397967993e-07),\n",
       " ('Rupee', 1.176711063034928e-05),\n",
       " ('Matsuo_Bash%C5%8D', 5.225207858414214e-07),\n",
       " ('Negros_Oriental', 5.5702559373079824e-06),\n",
       " ('Greco-Buddhism', 3.847316902022604e-05),\n",
       " ('Leo_%28constellation%29', 1.8185770441085762e-05),\n",
       " ('Spotted_Flycatcher', 2.473021301979295e-06),\n",
       " ('Napster', 4.711544519071031e-07),\n",
       " ('David_III_of_Tao', 2.58991122271504e-06),\n",
       " ('Arthur_Upfield', 5.547079195680847e-06),\n",
       " ('Hiroh_Kikai', 1.4870111964939836e-07),\n",
       " ('Crystallographic_defects_in_diamond', 4.2904704998043345e-06),\n",
       " ('Sauroposeidon', 5.996789309566817e-05),\n",
       " ('St_Buryan', 6.232338638132409e-06),\n",
       " ('Chola_dynasty', 1.8014064026381104e-05),\n",
       " ('Battle_of_Smolensk_%281943%29', 3.6846123026889675e-06),\n",
       " ('Zuid-Gelders', 0.0),\n",
       " ('History_of_the_Grand_Canyon_area', 0.00019950574485338572),\n",
       " ('Gilles_Villeneuve', 2.2794681551471798e-06),\n",
       " ('Boundary_Waters_Canoe_Area_Wilderness', 3.509319169244791e-05),\n",
       " ('Laurent_Fignon', 1.6934971880275842e-06),\n",
       " ('Moorhen', 2.939929334765824e-06),\n",
       " ('Military_history_of_Canada', 7.662655940927919e-05),\n",
       " ('List_of_lakes', 0.0009142895773614721),\n",
       " ('Wars_of_Castro', 3.518729464706673e-07),\n",
       " ('History_of_South_Carolina', 0.00014598220908100607),\n",
       " ('Monaco_Grand_Prix', 6.544431578393254e-06),\n",
       " ('Nurse_sharks', 1.955012763078574e-06),\n",
       " ('Oviraptor', 1.1731001436958171e-05),\n",
       " ('Steve_Davis', 8.339341869371436e-06),\n",
       " ('History_of_the_West_Indian_cricket_team', 1.5346022262832682e-05),\n",
       " ('Phosphorus_trichloride', 1.133138880757381e-05),\n",
       " ('R%C3%A9union', 7.744114526982513e-05),\n",
       " ('Emma_Roberts', 0.0),\n",
       " ('Button', 8.398115877157448e-05),\n",
       " ('Lavender', 2.3489708414073288e-05),\n",
       " ('Stanley%2C_Falkland_Islands', 2.483583301545758e-06),\n",
       " ('Claudius', 4.1428589579452896e-05),\n",
       " ('The_Country_Wife', 1.4700634310160205e-05),\n",
       " ('The_Quatermass_Experiment', 9.129188160695502e-06),\n",
       " ('Elizabeth_Fry', 3.3828115838352277e-06),\n",
       " ('Reza_Shah', 2.3360635111476318e-06),\n",
       " ('Rook_%28bird%29', 2.394541046601043e-05),\n",
       " ('Winfield_Scott_%28ship%29', 2.4013772554544833e-06),\n",
       " ('Asp_%28reptile%29', 9.500252188669275e-07),\n",
       " ('Witold_Pilecki', 3.3091725538042653e-06),\n",
       " ('Raising_the_Flag_on_Iwo_Jima', 5.229091409959788e-06),\n",
       " ('Templon', 4.7002711696423234e-07),\n",
       " ('Esox', 2.236744159316849e-05),\n",
       " ('Lottie_Dod', 2.6980135038506517e-06),\n",
       " ('Wyndham_Robertson', 3.739155086660254e-07),\n",
       " ('Black-footed_Cat', 3.6233842163665504e-06),\n",
       " ('Pinworm', 0.0),\n",
       " ('Gyeongju', 9.046459209800827e-06),\n",
       " ('Camarasaurus', 2.372940311365243e-05),\n",
       " ('Novelty_%28locomotive%29', 1.0193815050875565e-05),\n",
       " ('Apaochi', 0.0),\n",
       " ('Bench_language', 9.405474589389012e-06),\n",
       " ('Whipworm', 7.3786680265579745e-06),\n",
       " ('Battle_of_the_Santa_Cruz_Islands', 3.0262069493463857e-06),\n",
       " ('Kuwait_City', 3.665470770086211e-06),\n",
       " ('Common_agouti', 2.5758053112498e-07),\n",
       " ('Bernard_Hinault', 1.0273359347190279e-06),\n",
       " ('List_of_North_American_countries', 3.0183905858955984e-05),\n",
       " ('Nagorno-Karabakh_War', 2.94382153449412e-05),\n",
       " ('Heilbronn', 2.1050978248958303e-05),\n",
       " ('Star_Fox__Assault', 5.449358516592822e-06),\n",
       " ('Tropical_Storm_Vamei', 4.882597092147995e-08),\n",
       " ('Grand_Central_Station_%28Chicago%29', 1.5503539239803981e-06),\n",
       " ('Greater_Cane_Rat', 1.93482032946333e-06),\n",
       " ('Scent_of_a_Woman', 1.8749482079580517e-07),\n",
       " ('Geography_of_Africa', 9.908633526565425e-05),\n",
       " ('Project_MKULTRA', 9.20502089829399e-06),\n",
       " ('New_York_City_Subway_nomenclature', 3.900286588954955e-07),\n",
       " ('Economy_of_Pakistan', 7.010213811210476e-05),\n",
       " ('Fedora_Core', 1.3794726588170695e-05),\n",
       " ('Trabancos_River', 3.837259068523517e-05),\n",
       " ('Constitution_of_May_3%2C_1791', 1.538264602938693e-05),\n",
       " ('InterBase', 0.0),\n",
       " ('Red_Panda', 5.0205038105372324e-05),\n",
       " ('Music_of_Italy', 3.9724050464385594e-05),\n",
       " ('Order_of_St._Patrick', 8.71637675278734e-06),\n",
       " ('Earless_seal', 0.0),\n",
       " ('Aachen', 0.0002885973151258652),\n",
       " ('Mark_Webber', 4.681286751964633e-06),\n",
       " ('Howland_Island', 1.4346322087599157e-05),\n",
       " ('Soukous', 4.513174754287136e-05),\n",
       " ('Mamenchisaurus', 2.645563407463691e-05),\n",
       " ('Columba', 1.139934520477057e-05),\n",
       " ('Paul_Kane', 5.990224537780771e-05),\n",
       " ('Lincoln_Town_Car', 1.5171969940362106e-06),\n",
       " ('Warsaw_Uprising_%281794%29', 1.8489498787254448e-08),\n",
       " ('Kipchaks_in_Georgia', 5.486746294306099e-07),\n",
       " ('Elagabalus', 2.5847865425967236e-06),\n",
       " ('Kingman_Reef', 1.9551094678798824e-06),\n",
       " ('John_Seigenthaler%2C_Sr.', 7.660429234544009e-07),\n",
       " ('Carolingian_Gospel_Book_%28British_Library%2C_MS_Add._11848%29',\n",
       "  9.327088783951647e-08),\n",
       " ('European_Greenfinch', 2.401526964983156e-06),\n",
       " ('Eleocharis_dulcis', 6.801680877862281e-06),\n",
       " ('Mauthausen-Gusen_concentration_camp', 9.916085822427865e-07),\n",
       " ('Valpara%C3%ADso', 3.6057255893741662e-06),\n",
       " ('Society_of_Merchant_Venturers', 1.0127817290114847e-05),\n",
       " ('List_of_Canadian_provinces_and_territories_by_area', 0.0),\n",
       " ('Isaac_Brock', 3.030583761182562e-05),\n",
       " ('Architecture_of_the_California_missions', 2.0840722588048167e-05),\n",
       " ('The_Beano', 6.183654893648477e-06),\n",
       " ('Behistun_Inscription', 3.82519743394696e-05),\n",
       " ('Malwa_%28Madhya_Pradesh%29', 3.354269922283256e-05),\n",
       " ('Theta', 2.5031895264632583e-06),\n",
       " ('Southern_Rockhopper_Penguin', 2.6879299399526972e-05),\n",
       " ('Phosphoryl_chloride', 1.3588088287341508e-06),\n",
       " ('USS_Wisconsin_%28BB-64%29', 7.749020551811341e-05),\n",
       " ('Deconstructivism', 2.667535794849192e-06),\n",
       " ('Triathlon', 9.447268760246572e-06),\n",
       " ('Grange_Hill', 8.780455737938808e-07),\n",
       " ('Tamarind', 3.9303282633697526e-05),\n",
       " ('Weather_map', 0.0),\n",
       " ('Hurricane_Felix_%281995%29', 1.0387421891548634e-05),\n",
       " ('Madama_Butterfly', 1.8288738392476918e-06),\n",
       " ('Lucy%2C_Lady_Duff-Gordon', 7.380462459251757e-07),\n",
       " ('Borage', 5.638543492209871e-05),\n",
       " ('Mass_Rapid_Transit_%28Singapore%29', 7.568734755236908e-06),\n",
       " ('X_Window_core_protocol', 0.0),\n",
       " ('HD_217107_c', 6.601117726518287e-08),\n",
       " ('Jocelin', 1.3597568924607023e-06),\n",
       " ('Victoria%2C_Seychelles', 4.404613953832942e-05),\n",
       " ('Turner_syndrome', 3.0709650189942298e-06),\n",
       " ('Antarctic_krill', 8.503072386718224e-05),\n",
       " ('Kestrel', 1.0758565193620707e-05),\n",
       " ('Abadan', 3.7500067517354267e-06),\n",
       " ('Sicilian_Baroque', 3.838734180405897e-05),\n",
       " ('Cristero_War', 2.204759147303266e-06),\n",
       " ('Nathu_La', 6.240946305724917e-06),\n",
       " ('Adriaen_van_der_Donck', 1.648724579131281e-07),\n",
       " ('Gordon_Griffith', 5.369987920402031e-06),\n",
       " ('Jackanory', 1.2180009471110477e-06),\n",
       " ('Photosynthetic_reaction_centre', 7.316830523066726e-06),\n",
       " ('Military_history_of_the_Soviet_Union', 8.295657356349594e-05),\n",
       " ('Barbary_Macaque', 1.3107155178943493e-05),\n",
       " ('History_of_Miami%2C_Florida', 1.6735201943909692e-05),\n",
       " ('Lemon_balm', 1.3635962190006148e-05),\n",
       " ('Snaefell_Mountain_Railway', 1.2568717471103355e-06),\n",
       " ('Yotsuya_Kaidan', 0.0),\n",
       " ('Bionicle__Mask_of_Light', 1.1878574344277946e-07),\n",
       " ('Defense_of_Sihang_Warehouse', 2.9244747496081954e-06),\n",
       " ('John_Sentamu', 6.083843962471041e-06),\n",
       " ('Ladysmith_Black_Mambazo', 1.6795382348361503e-05),\n",
       " ('History_of_New_Jersey', 8.459807044660946e-05),\n",
       " ('Rebecca_Helferich_Clarke', 4.231828496733557e-05),\n",
       " ('Santiago%2C_Chile', 2.260670042834609e-05),\n",
       " ('Hypsilophodon', 1.7638998992529826e-05),\n",
       " ('Little_Women', 2.1378884991967195e-05),\n",
       " ('Government_of_France', 5.0869257764588046e-06),\n",
       " ('Stock_car_%28rail%29', 3.4650481447617506e-05),\n",
       " ('Phoenix_Zoo', 3.559510141585081e-05),\n",
       " ('Pere_Marquette_1225', 0.0),\n",
       " ('Kidnapped_%28novel%29', 2.622445327055637e-06),\n",
       " ('W._Mark_Felt', 8.472602906605445e-06),\n",
       " ('Oroonoko', 2.096601134753726e-05),\n",
       " ('Mary_Somerville', 3.785890460453121e-06),\n",
       " ('Beeching_Axe', 1.2722388487837709e-05),\n",
       " ('Newsround', 3.5488920408901184e-05),\n",
       " ('Coal_Tit', 1.5908189050407227e-05),\n",
       " ('The_Children%27s_Machine', 0.00016244178956050943),\n",
       " ('Yellowhammer', 1.709337944186577e-05),\n",
       " ('Ormulum', 3.2996439286464126e-06),\n",
       " ('Copenhagen_Fire_of_1728', 6.73487501051471e-07),\n",
       " ('Hurricane_John_%281994%29', 3.9123028721084465e-06),\n",
       " ('Hurricane_David', 9.96895691016212e-07),\n",
       " ('Morecambe_and_Wise', 3.923558024990129e-06),\n",
       " ('Sodium_sulfate', 1.202448336130217e-05),\n",
       " ('Venus_and_Adonis_%28opera%29', 4.9348303954236105e-06),\n",
       " ('Algoma_Central_Railway', 2.0991460849967788e-07),\n",
       " ('Pyongyang', 2.3937856729714006e-06),\n",
       " ('History_of_Portugal_%281777%E2%80%931834%29', 8.37576036876558e-06),\n",
       " ('Cuckmere_Haven', 1.430497718106474e-05),\n",
       " ('Scelidosaurus', 2.1258024746561868e-05),\n",
       " ('Cheers', 2.9125009389561953e-05),\n",
       " ('Military_history_of_Puerto_Rico', 6.278146315937475e-05),\n",
       " ('Albertosaurus', 5.934686247545987e-05),\n",
       " ('Turkish_literature', 2.438584589816431e-05),\n",
       " ('Polish-Muscovite_War_%281605%E2%80%931618%29', 1.0378677051214377e-05),\n",
       " ('Economy_of_the_Iroquois', 4.454405207606873e-06),\n",
       " ('HIV_AIDS_in_Africa', 8.698648771917237e-06),\n",
       " ('Rainhill_Trials', 1.6258542886528315e-06),\n",
       " ('Conakry', 1.5314898898382028e-06),\n",
       " ('Aristarchus_%28crater%29', 4.555095439728246e-06),\n",
       " ('Control_car_%28rail%29', 4.377707639438196e-06),\n",
       " ('History_of_Poland_%281945%E2%80%931989%29', 2.5981201392955647e-05),\n",
       " ('United_for_Peace_and_Justice', 4.322639675551373e-06),\n",
       " ('Third_Servile_War', 5.396505402028335e-07),\n",
       " ('Super_Chief', 1.1338111775461866e-05),\n",
       " ('David_Cameron', 9.445116559369171e-05),\n",
       " ('Chinyingi', 2.0118630795730437e-07),\n",
       " ('Margate', 7.883268800939586e-06),\n",
       " ('Aymer_de_Valence%2C_2nd_Earl_of_Pembroke', 5.655963251558417e-06),\n",
       " ('Geography_of_Ireland', 4.102514039981637e-05),\n",
       " ('Mickey_Mantle', 6.678328703436874e-06),\n",
       " ('EMD_GP30', 4.309520343449146e-06),\n",
       " ('Shrimp_farm', 0.00013476316953780427),\n",
       " ('Pandanus', 1.4799269836806867e-05),\n",
       " ('Frederick_Hamilton-Temple-Blackwood%2C_1st_Marquess_of_Dufferin_and_Ava',\n",
       "  2.7995208095047936e-05),\n",
       " ('Helmeted_Guineafowl', 3.227033578363257e-05),\n",
       " ('Alberto_Santos-Dumont', 7.09905564798445e-05),\n",
       " ('Philately', 8.742468653928777e-06),\n",
       " ('List_of_members_of_the_Commonwealth_of_Nations_by_date_joined',\n",
       "  1.6360410820823197e-05),\n",
       " ('Ununtrium', 2.5058870186825517e-05),\n",
       " ('History_of_Solidarity', 4.223568411334383e-06),\n",
       " ('Wikispecies', 0.0),\n",
       " ('Blue_Tit', 5.819438062172952e-06),\n",
       " ('White_Mountain_art', 0.0),\n",
       " ('Mountain_Gorilla', 1.1541788988264248e-05),\n",
       " ('HMS_E18', 3.335656935218278e-08),\n",
       " ('History_of_the_Panama_Canal', 1.9893077623690645e-05),\n",
       " ('Nostradamus', 7.934773271290623e-05),\n",
       " ('Colima_%28volcano%29', 2.1381901349717227e-07),\n",
       " ('Tagoi_language', 1.4551749770511262e-07),\n",
       " ('James_Callaghan', 3.118186948593967e-05),\n",
       " ('Three_Mile_Island_accident', 4.092795733491303e-06),\n",
       " ('Common_Pheasant', 2.3956313574474355e-05),\n",
       " ('The_Broads', 1.2981307619051505e-05),\n",
       " ('Knights_of_Columbus', 6.270699211371957e-05),\n",
       " ('Pink_Pigeon', 4.0451804601285784e-06),\n",
       " ('E.T._the_Extra-Terrestrial_%28Atari_2600%29', 4.3045394198047465e-06),\n",
       " ('Bat-eared_Fox', 1.421627904649214e-06),\n",
       " ('David_Blanchflower', 1.6649981292453389e-06),\n",
       " ...]"
      ]
     },
     "execution_count": 278,
     "metadata": {},
     "output_type": "execute_result"
    }
   ],
   "source": [
    "navigationZero_betweenness"
   ]
  },
  {
   "cell_type": "code",
   "execution_count": 277,
   "metadata": {
    "collapsed": false
   },
   "outputs": [
    {
     "data": {
      "text/plain": [
       "0.0"
      ]
     },
     "execution_count": 277,
     "metadata": {},
     "output_type": "execute_result"
    }
   ],
   "source": [
    "min(navigationZero_betweenness_values)"
   ]
  },
  {
   "cell_type": "markdown",
   "metadata": {},
   "source": [
    "** Now, let's throw out all pages with zero navigation centrality and compare navigation and betweenness centrality for the remaining pages.**\n",
    "\n",
    "    - What is the correlation between betweenness centrality and navigation centrality?\n",
    "    - Comment on the top 5 outliers.\n"
   ]
  },
  {
   "cell_type": "code",
   "execution_count": 377,
   "metadata": {
    "collapsed": false
   },
   "outputs": [],
   "source": [
    "# Start by throwing out all pages with zero navigation centrality\n",
    "navigationZero_betweenness_names = [webpage for webpage,value in navigationZero_betweenness]\n",
    "\n",
    "# Know we want to get the data on the form (navigation value,betweenness value) for each webpage that is not in \n",
    "# navigationZero_betweenness_names\n",
    "centrality_values = []\n",
    "\n",
    "# we loop through the keys \n",
    "for website,_ in betweenness_sorted:\n",
    "    if website not in navigationZero_betweenness_names:\n",
    "        centrality_values.append(\n",
    "            (\n",
    "                navigation[website],\n",
    "                betweenness[website]\n",
    "            )\n",
    "        )\n",
    "        \n",
    "# Add a small error handling to check if everything is behaving like it should be\n",
    "for i in navigation_reduced_values:\n",
    "    if i == 0:\n",
    "        print(\"something is wrong\")"
   ]
  },
  {
   "cell_type": "markdown",
   "metadata": {},
   "source": [
    "Now we have the data on a format which allows us to evaluate the correlation quite easily. To evaluate the correlation we will do two things\n",
    "    - plot up navigation centrality value vs betweenness centrality value for each webpage\n",
    "    - calculate the correlation between the two centrality methods using the np module"
   ]
  },
  {
   "cell_type": "code",
   "execution_count": 371,
   "metadata": {
    "collapsed": false
   },
   "outputs": [
    {
     "data": {
      "image/png": "[encoded data removed]",
      "text/plain": [
       "<matplotlib.figure.Figure at 0x11929e278>"
      ]
     },
     "metadata": {},
     "output_type": "display_data"
    }
   ],
   "source": [
    "# We start by creating the navigation centrality value vs betweenness centrality value plot\n",
    "\n",
    "x = range(0,len(betweenness_sorted))\n",
    "navigation_reduced_values, betweenness_reduced_values = zip(*centrality_values)\n",
    "\n",
    "plt.figure(figsize=(10,4))\n",
    "plt.plot(navigation_reduced_values, betweenness_reduced_values, \"o\", color=\"darkgreen\")\n",
    "plt.title(\"Betweenness Vs Navigation without zero navigation centrality\")\n",
    "plt.xlabel(\"navigation centrality\")\n",
    "plt.ylabel(\"betweenness centrality\")\n",
    "plt.show()"
   ]
  },
  {
   "cell_type": "markdown",
   "metadata": {},
   "source": [
    "know we calculate the correlation between the two two centrality methods without zero navigation centrality"
   ]
  },
  {
   "cell_type": "code",
   "execution_count": 381,
   "metadata": {
    "collapsed": false
   },
   "outputs": [
    {
     "data": {
      "text/plain": [
       "array([[ 1.        ,  0.88920305],\n",
       "       [ 0.88920305,  1.        ]])"
      ]
     },
     "execution_count": 381,
     "metadata": {},
     "output_type": "execute_result"
    }
   ],
   "source": [
    "np.corrcoef(navigation_reduced_values, betweenness_reduced_values)"
   ]
  },
  {
   "cell_type": "markdown",
   "metadata": {},
   "source": [
    "** Correlation conclusion**\n",
    "\n",
    "The correlation between betweenness centrality and navigation centrality is 0.88920302 and therefore we can concluded that the two centrality methods are highly correlated. This is also trivial to see in the Betweenness Vs Navigation plot. "
   ]
  },
  {
   "cell_type": "markdown",
   "metadata": {},
   "source": [
    "** Comment on the top 5 outliers. **\n",
    "\n",
    "\n",
    "** TODO comment on them **"
   ]
  },
  {
   "cell_type": "code",
   "execution_count": 411,
   "metadata": {
    "collapsed": false
   },
   "outputs": [
    {
     "name": "stdout",
     "output_type": "stream",
     "text": [
      "The top 5 outliers are: \n",
      " \n",
      "Webpage                    Navigation     Betweenness   \n",
      "-----------------------------------------------------\n",
      "United_States              0.16766        0.12522       \n",
      "Europe                     0.083012       0.044658      \n",
      "United_Kingdom             0.073327       0.047387      \n",
      "Earth                      0.060525       0.010079      \n",
      "England                    0.059472       0.033597      \n"
     ]
    }
   ],
   "source": [
    "# First we need to find the top 5 outliers. We do that by going through all webpages in the dataset\n",
    "# For each webpage we add together the betweenness value and the navigation value. \n",
    "# We then simply sort the result and find the 5 highest websites\n",
    "\n",
    "centrality_added = defaultdict(float)\n",
    "for webpage in betweenness:\n",
    "    centrality_added[webpage] = navigation[webpage] + navigation[webpage] \n",
    "    \n",
    "centrality_added_sorted = sorted(centrality_added.items(), key = operator.itemgetter(1), reverse=True)\n",
    "\n",
    "print (\"The top 5 outliers are: \\n \")\n",
    "\n",
    "\n",
    "print (\"{webpage_s: <26} {navigation_s: <14} {betweenness_s: <14}\".format(\n",
    "    webpage_s = \"Webpage\",navigation_s = \"Navigation\", betweenness_s = \"Betweenness\"))\n",
    "\n",
    "print (\"-----------------------------------------------------\")\n",
    "\n",
    "\n",
    "for website,_ in centrality_added_sorted[:5]:\n",
    "    print (\"{webpage_s: <26} {navigation_s: <14} {betweenness_s: <14}\".format(\n",
    "            webpage_s =  website,\n",
    "            navigation_s = round_sig(navigation[website],5), \n",
    "            betweenness_s = round_sig(betweenness[website],5)\n",
    "        ))"
   ]
  },
  {
   "cell_type": "markdown",
   "metadata": {},
   "source": [
    "# Bringing the text into the picture"
   ]
  },
  {
   "cell_type": "markdown",
   "metadata": {},
   "source": [
    "### Exercises"
   ]
  },
  {
   "cell_type": "markdown",
   "metadata": {},
   "source": [
    "First of all we start by reading through each file and create a bag of word representation of the file. In the process of doing that we initalize a dictionary which will act as a container for the TF_IDF information of each article/website"
   ]
  },
  {
   "cell_type": "markdown",
   "metadata": {},
   "source": [
    "# My own TF-IDF"
   ]
  },
  {
   "cell_type": "code",
   "execution_count": 289,
   "metadata": {
    "collapsed": false,
    "scrolled": true
   },
   "outputs": [],
   "source": [
    "folder_uri = \"/Users/GretarAtli/Dropbox/Dtu/Social_graphs_and_interactions/plaintext_articles/\"\n",
    "\n",
    "# container for the TF_IDF information\n",
    "TF_IDF = defaultdict(dict)\n",
    "\n",
    "# dictionary that contains the freq of all words in all of the documents\n",
    "wordFreq_allDocs = defaultdict(int)\n",
    "\n",
    "counter = 0\n",
    "\n",
    "t0 = timeit.timeit()\n",
    "\n",
    "run = False\n",
    "\n",
    "if run:\n",
    "    # Go through each website and create a \n",
    "    for website in G.nodes():\n",
    "\n",
    "        file_path = folder_uri + website + \".txt\"\n",
    "        #print(file_path)\n",
    "        counter += 1\n",
    "        if counter % 100 == 0:\n",
    "            print(counter)\n",
    "\n",
    "        with open(file_path, encoding=\"utf-8\") as f:\n",
    "            lines = f.readlines()\n",
    "            lines = lines[4:] # Exclude the first four lines of the txt (the article name and copyright)\n",
    "\n",
    "            # Add the article/website to the dictionary TF_IDF\n",
    "            TF_IDF[website] = {\n",
    "                \"TF\" : defaultdict(int),\n",
    "                \"IDF\" : defaultdict(float),\n",
    "                \"TF-IDF\": defaultdict(float)\n",
    "            }  \n",
    "\n",
    "            for line in lines:\n",
    "\n",
    "                # Convert the string to lowercase\n",
    "                line = line.lower()\n",
    "\n",
    "                # Tokenize the line\n",
    "                tokenizer = RegexpTokenizer(r'\\w+')  # We choose to use regularexpression tokenizer\n",
    "                tokens = tokenizer.tokenize(line) # Get all tokens with the tokenizer\n",
    "\n",
    "                # filter out the stop words and digits\n",
    "                filtered_words = [w for w in tokens if not w in stopwords.words('english') if not w.isdigit()]\n",
    "\n",
    "                if filtered_words:\n",
    "                    for word in filtered_words:\n",
    "                        TF_IDF[website][\"TF\"][word] += 1\n",
    "                        wordFreq_allDocs[word] += 1\n",
    "\n",
    "    t1 = timeit.timeit()\n",
    "\n",
    "    print (\"The execution time was {} sek\".format(t1 - t0))"
   ]
  },
  {
   "cell_type": "markdown",
   "metadata": {
    "collapsed": false
   },
   "source": [
    "Next we calculate the TF-IDF for each word in each document. "
   ]
  },
  {
   "cell_type": "code",
   "execution_count": 290,
   "metadata": {
    "collapsed": false
   },
   "outputs": [],
   "source": [
    "# For each website add zero value if the word is not in the TF dictionary\n",
    "if run:\n",
    "    for website in TF_IDF.keys():\n",
    "        for word in wordFreq_allDocs.keys():\n",
    "            try: \n",
    "                 dum_value = TF_IDF[website][\"TF\"]\n",
    "            except:\n",
    "                TF_IDF[website][\"TF\"][word] = 0\n",
    "\n",
    "\n",
    "    N =  len(TF_IDF.keys()) # The total amount of documents\n",
    "\n",
    "    for website in TF_IDF.keys():\n",
    "        for word in TF_IDF[website][\"TF\"]:\n",
    "            # Calculate the IDF for the word\n",
    "            IDF = log10( N / wordFreq_allDocs[word])\n",
    "            TF_IDF[website][\"IDF\"][word] = IDF\n",
    "            TF_IDF[website][\"TF-IDF\"][word] =  word,TF_IDF[website][\"TF\"][word] * IDF"
   ]
  },
  {
   "cell_type": "markdown",
   "metadata": {},
   "source": [
    "# Using the sci kit learn TF_IDF vectorizer"
   ]
  },
  {
   "cell_type": "code",
   "execution_count": 204,
   "metadata": {
    "collapsed": false
   },
   "outputs": [],
   "source": [
    "# Calculating the TF_IDF with the sci kit learn\n",
    "\n",
    "# Get all websites name in an sorted array\n",
    "website_names = sorted(G.nodes())\n",
    "\n",
    "# Create a dictionary representation of the array to make the lookup simpler\n",
    "website_names_dict = defaultdict(int)\n",
    "for index,website in enumerate(website_names):\n",
    "    website_names_dict[website] = index\n",
    "\n",
    "article_fileuri = \"/Users/GretarAtli/Dropbox/Dtu/Social_graphs_and_interactions/plaintext_articles/\"\n",
    "\n",
    "files= []\n",
    "\n",
    "for website in website_names:\n",
    "    files_path = folder_uri + website + \".txt\"\n",
    "    files.append(files_path)\n",
    "    #print (files_path)\n",
    "    \n",
    "        \n",
    "vectorizer = TfidfVectorizer(input = 'filename', analyzer='word', min_df = 0, stop_words = 'english')\n",
    "TF_IDF_matrix = vectorizer.fit_transform(files).todense()"
   ]
  },
  {
   "cell_type": "markdown",
   "metadata": {
    "collapsed": false
   },
   "source": [
    "**Calculate the average similarity for all human navigation paths (the source/target pairs from above). Calculate mean/variance of these average similarities.**\n",
    "\n",
    "Note that spatial.distance.cosine computes the distance, and not the similarity. So, you must subtract the value from 1 to get the similarity."
   ]
  },
  {
   "cell_type": "code",
   "execution_count": 269,
   "metadata": {
    "collapsed": false
   },
   "outputs": [],
   "source": [
    "def avg_similarity(path):\n",
    "    path_similarity = []\n",
    "    for index, website in enumerate(path):\n",
    "        TF_IDF_array1 = np.array(TF_IDF_matrix[website_names_dict[path[index]]])[0]\n",
    "        TF_IDF_array2 = np.array(TF_IDF_matrix[website_names_dict[path[index + 1]]])[0]\n",
    "\n",
    "        path_similarity.append(1 - spatial.distance.cosine(TF_IDF_array1, TF_IDF_array2)) \n",
    "\n",
    "        # break the loop when we have processed all pairs of the path\n",
    "        if index + 1 == len(path) - 1:\n",
    "            break\n",
    "                \n",
    "    return np.mean(path_similarity)\n",
    "\n",
    "human_paths_mean = []\n",
    "shortest_paths_mean = []\n",
    "# We start off by getting all of the human navigation paths (source/target) into an array\n",
    "for path in paths:\n",
    "    # if the line is just a single website then it is not a path and it is skipped\n",
    "    if len(path) > 2:\n",
    "        # calculate the human path simularity\n",
    "        human_similarity = avg_similarity(path)\n",
    "        human_paths_mean.append(human_similarity)  \n",
    "        \n",
    "        # calculate the simularity of the best path between the source and target\n",
    "        source = path[0]\n",
    "        target = path[-1]\n",
    "        shortest_path = nx.shortest_path(G,source=source, target=target)\n",
    "        shortest_similarity = avg_similarity(shortest_path)\n",
    "        shortest_paths_mean.append(shortest_similarity)\n",
    "            "
   ]
  },
  {
   "cell_type": "code",
   "execution_count": 311,
   "metadata": {
    "collapsed": false
   },
   "outputs": [
    {
     "name": "stdout",
     "output_type": "stream",
     "text": [
      "The mean of the human paths similarities is:       0.16368215414708875\n",
      "The average of the human paths similarities is:    0.005213739724191469\n"
     ]
    }
   ],
   "source": [
    "print(\"The mean of the human paths similarities is:       {}\".format(np.mean(human_paths_mean)))\n",
    "print(\"The average of the human paths similarities is:    {}\".format(np.var(human_paths_mean)))"
   ]
  },
  {
   "cell_type": "code",
   "execution_count": null,
   "metadata": {
    "collapsed": true
   },
   "outputs": [],
   "source": []
  },
  {
   "cell_type": "code",
   "execution_count": 301,
   "metadata": {
    "collapsed": false
   },
   "outputs": [
    {
     "data": {
      "text/plain": [
       "range(0, 3)"
      ]
     },
     "execution_count": 301,
     "metadata": {},
     "output_type": "execute_result"
    }
   ],
   "source": [
    "range(3)"
   ]
  },
  {
   "cell_type": "markdown",
   "metadata": {},
   "source": [
    "** Calculate the average pairwise similarity for all shortest paths between the source/target pairs (Si,j Si,j). Calculate mean/variance of the Si,j.**\n",
    "\n"
   ]
  },
  {
   "cell_type": "code",
   "execution_count": 312,
   "metadata": {
    "collapsed": false
   },
   "outputs": [
    {
     "name": "stdout",
     "output_type": "stream",
     "text": [
      "The mean of the shortest paths similarities is:       0.06925315023438593\n",
      "The average of the shortest paths similarities is:    0.002261904756726428\n"
     ]
    }
   ],
   "source": [
    "# Print out the result for shortest paths similarity means\n",
    "\n",
    "print(\"The mean of the shortest paths similarities is:       {}\".format(np.mean(shortest_paths_mean)))\n",
    "print(\"The average of the shortest paths similarities is:    {}\".format(np.var(shortest_paths_mean)))"
   ]
  },
  {
   "cell_type": "code",
   "execution_count": null,
   "metadata": {
    "collapsed": true
   },
   "outputs": [],
   "source": []
  },
  {
   "cell_type": "code",
   "execution_count": 288,
   "metadata": {
    "collapsed": false
   },
   "outputs": [
    {
     "data": {
      "image/png": "[encoded data removed]",
      "text/plain": [
       "<matplotlib.figure.Figure at 0x13d38d4a8>"
      ]
     },
     "metadata": {},
     "output_type": "display_data"
    }
   ],
   "source": [
    "\n",
    "plt.figure(figsize=(10,4))\n",
    "y,binEdges=np.histogram(human_paths_mean,bins = 100)\n",
    "plt.plot(binEdges[:-1],y, color=\"blue\")\n",
    "\n",
    "y,binEdges=np.histogram(shortest_paths_mean,bins = 100)\n",
    "plt.plot(binEdges[:-1],y, color=\"green\")\n",
    "\n",
    "plt.ylim(0, max(y)*1.3)\n",
    "plt.title(\"Paths Similarity\")\n",
    "plt.xlabel(\"average cosine similarity of tf-idf\")\n",
    "plt.ylabel(\"count\")\n",
    "plt.legend([\"human\",\"shortest\"])\n",
    "\n",
    "plt.show()\n"
   ]
  },
  {
   "cell_type": "markdown",
   "metadata": {},
   "source": [
    "**Finally, for each source/target pair, compare the human-navigation average similarity with the betweenness based average similarity, testing what fraction of the time, the average similarity is lower in the case of human navigation.**"
   ]
  },
  {
   "cell_type": "code",
   "execution_count": 298,
   "metadata": {
    "collapsed": false
   },
   "outputs": [
    {
     "name": "stdout",
     "output_type": "stream",
     "text": [
      "The human-navigation average similarity is higher in 45495 out of 50509 times, that is 90.0731% of the paths\n"
     ]
    }
   ],
   "source": [
    "# Finally let's calculate the fraction of the time, the average similarity is lower in the case of human navigation.\n",
    "\n",
    "human_higher = 0\n",
    "\n",
    "for index,_ in enumerate(human_paths_mean):\n",
    "    if human_paths_mean[index] > shortest_paths_mean[index]:\n",
    "        human_higher += 1\n",
    "    \n",
    "print(\"The human-navigation average similarity is higher in {} out of {} times, that is {}% of the paths\".format(\n",
    "    human_higher,\n",
    "    len(human_paths_mean),\n",
    "    round_sig ( human_higher / len(human_paths_mean) * 100,6)\n",
    "))"
   ]
  },
  {
   "cell_type": "code",
   "execution_count": null,
   "metadata": {
    "collapsed": false
   },
   "outputs": [],
   "source": []
  },
  {
   "cell_type": "code",
   "execution_count": null,
   "metadata": {
    "collapsed": false
   },
   "outputs": [],
   "source": []
  },
  {
   "cell_type": "code",
   "execution_count": null,
   "metadata": {
    "collapsed": false
   },
   "outputs": [],
   "source": []
  }
 ],
 "metadata": {
  "anaconda-cloud": {},
  "kernelspec": {
   "display_name": "Python [conda env:py35]",
   "language": "python",
   "name": "conda-env-py35-py"
  },
  "language_info": {
   "codemirror_mode": {
    "name": "ipython",
    "version": 3
   },
   "file_extension": ".py",
   "mimetype": "text/x-python",
   "name": "python",
   "nbconvert_exporter": "python",
   "pygments_lexer": "ipython3",
   "version": "3.5.2"
  }
 },
 "nbformat": 4,
 "nbformat_minor": 1
}
