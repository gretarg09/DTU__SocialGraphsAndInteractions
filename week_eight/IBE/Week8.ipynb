{
 "cells": [
  {
   "cell_type": "markdown",
   "metadata": {},
   "source": [
    "# Overview\n",
    "\n",
    "This week is about tying everything together. We try to combine our work on networks plus our work on language in order to understand and analyze human behavior. We'll be working on a cool dataset of humans playing a game on (a special version of) wikipedia called \"wikispeedia\".  Note that the game is now called *The Wiki Game* and can be found at http://thewikigame.com/ (... while \"http://wikispeedia.org\" is a page about GPS coordinates of speed-traps). \n",
    "\n",
    "Here's how the game worked:\n",
    "\n",
    "> In the game, users are asked to navigate from a given _source_ article (e.g. https://en.wikipedia.org/wiki/Gold_dollar) to a given _target_ article (e.g. https://en.wikipedia.org/wiki/Ronald_Reagan), **by only clicking Wikipedia links**. A condensed version of Wikipedia (4,604 articles) is used. \n",
    "\n",
    "So this dataset contains **human navigation paths** (clicking from page to page to find a target) and today we will work on this dataset to see if we can use our skills to understand how human navigation works. We will think about the following questions.\n",
    "\n",
    "* Path lengths\n",
    "* Betweenness from the human perspective\n",
    "* What characterizes human paths?\n",
    "\n",
    "Since we're putting our existing skills to use, there is very little reading today - it's all about exploring the dataset. Let's get started."
   ]
  },
  {
   "cell_type": "markdown",
   "metadata": {},
   "source": [
    "## Download the dataset\n",
    "\n",
    "The first thing we're going to do is download the dataset. Today everything related to data is nice, clean, and easy to work with (Yay). You can get the dataset [here](https://snap.stanford.edu/data/wikispeedia.html). You will need to get \n",
    "\n",
    "* The list of wiki articles\n",
    "* The network connections\n",
    "* The navigation paths\n",
    "* Plaintext of the wiki articles"
   ]
  },
  {
   "cell_type": "markdown",
   "metadata": {},
   "source": [
    "# Path lengths\n",
    "\n",
    "The first thing we want to take a look at is path lengths. NetworkX allows us to calculate the shortest path between any pair of articles. We begin by comparing the length of human and shortests paths. \n",
    "\n",
    "_Exercises_\n",
    "> * For each _source_/_target_ pair in the list of human navigation paths, calculate the shortest path using NetworkX. Plot the distribution of path lengths. Mine looks something like this (if I use an undirected graph):\n",
    "![alt text](https://raw.githubusercontent.com/suneman/socialgraphs2016/master/files/shortest-path.png)\n",
    "Nevertheless, you should still see the difference between human and shortest paths using the directed graph as well, although they might be smaller.\n",
    "\n",
    "> * For each _source_/_target_ pair, calculate the length of the human path. The dataset contains information on people who regret a navigation step and hit the \"back\" button in their web-browser. It's up to you how to incorporate that information in the path. Justify your choice. Plot the distribution of human path lengths. If I ignore back steps, I get this on log-log scale:\n",
    "![alt text](https://raw.githubusercontent.com/suneman/socialgraphs2016/master/files/human-path.png)\n",
    "\n",
    "> * How much longer are the human paths on average?\n",
    "> * Create scatter plot where each point is a _source_/_target_ pair, and you have human path lengths on the $x$-axis and shortests paths on the $y$-axis.\n",
    "> * Is there a correlation between human/shortest path-lengths? What is the correlation."
   ]
  },
  {
   "cell_type": "code",
   "execution_count": 336,
   "metadata": {
    "collapsed": true
   },
   "outputs": [],
   "source": [
    "import networkx as nx\n",
    "import matplotlib.pyplot as plt\n",
    "from collections import Counter\n",
    "import numpy as np\n",
    "from __future__  import division"
   ]
  },
  {
   "cell_type": "code",
   "execution_count": 319,
   "metadata": {
    "collapsed": true
   },
   "outputs": [],
   "source": [
    "#C:\\Users\\helga\\Documents\\SocialGraphs\\wikispeedia_paths-and-graph\\wikispeedia_paths-and-graph\n",
    "G = nx.Graph()\n",
    "sorce_target = []\n",
    "human_paths_length = {}\n",
    "id = 0\n",
    "with open(\"/Users/helga/Documents/SocialGraphs/wikispeedia_paths-and-graph/wikispeedia_paths-and-graph/paths_finished.tsv\") as f:\n",
    "    for line in f:\n",
    "        line = line.split()\n",
    "        # if we have a blank line or a line that starts with a comment, we dont use it\n",
    "        if len(line) > 0 and line[0] != \"#\":\n",
    "            path = line[3] # this is where the path is in the data file\n",
    "            nodes = path.split(\";\")\n",
    "            if \"<\" in nodes:\n",
    "                nodes = [node for node in nodes if node != \"<\"]\n",
    "            \n",
    "            G.add_path(nodes)\n",
    "            human_paths_length[id] = len(nodes) - 1\n",
    "\n",
    "            #human_paths_length.append(len(nodes) - 1) # -1 beacuse we are counting the edges\n",
    "            sorce_target.append((nodes[0], nodes[-1], id))\n",
    "            id += 1\n",
    "            \n"
   ]
  },
  {
   "cell_type": "code",
   "execution_count": 320,
   "metadata": {},
   "outputs": [
    {
     "name": "stdout",
     "output_type": "stream",
     "text": [
      "done\n"
     ]
    }
   ],
   "source": [
    "# take the data from the links documet\n",
    "sorce_target2 = []\n",
    "G2 = nx.Graph()\n",
    "with open(\"/Users/helga/Documents/SocialGraphs/wikispeedia_paths-and-graph/wikispeedia_paths-and-graph/links.tsv\") as f:\n",
    "    for line in f:\n",
    "        line = line.split()\n",
    "        # if we have a blank line or a line that starts with a comment, we dont use it\n",
    "        if len(line) > 0 and line[0] != \"#\":\n",
    "            sorce_target2.append((line[0], line[1]))\n",
    "            G2.add_path(line)\n",
    "print \"done\""
   ]
  },
  {
   "cell_type": "code",
   "execution_count": 321,
   "metadata": {},
   "outputs": [
    {
     "name": "stdout",
     "output_type": "stream",
     "text": [
      "done\n"
     ]
    }
   ],
   "source": [
    "shortest_paths = {}\n",
    "\n",
    "for pair in sorce_target:\n",
    "    try:\n",
    "        # pair 2 is the id from the human paths\n",
    "        shortest_paths[pair[2]] = nx.shortest_path_length(G2, source=pair[0], target=pair[1])\n",
    "    except:\n",
    "        pass\n",
    "print \"done\"\n"
   ]
  },
  {
   "cell_type": "code",
   "execution_count": 322,
   "metadata": {},
   "outputs": [
    {
     "data": {
      "image/png": "[encoded data removed]",
      "text/plain": [
       "<matplotlib.figure.Figure at 0x183d2978>"
      ]
     },
     "metadata": {},
     "output_type": "display_data"
    }
   ],
   "source": [
    "network_path = Counter(shortest_paths.values())\n",
    "plt.plot(network_path.keys(), network_path.values())\n",
    "plt.show()"
   ]
  },
  {
   "cell_type": "code",
   "execution_count": 323,
   "metadata": {},
   "outputs": [
    {
     "data": {
      "image/png": "[encoded data removed]",
      "text/plain": [
       "<matplotlib.figure.Figure at 0x1ffbf978>"
      ]
     },
     "metadata": {},
     "output_type": "display_data"
    }
   ],
   "source": [
    "#For each source/target pair, calculate the length of the human path. The dataset contains information on people\n",
    "#who regret a navigation step and hit the \"back\" button in their web-browser. It's up to you how to incorporate that\n",
    "#information in the path. Justify your choice. Plot the distribution of human path lengths. If I ignore back steps, \n",
    "#I get this on log-log scale:\n",
    "\n",
    "human_paths_length_bin = Counter(human_paths_length.values())\n",
    "plt.plot(human_paths_length_bin.keys(), human_paths_length_bin.values())\n",
    "plt.yscale(\"log\")\n",
    "plt.xscale(\"log\")\n",
    "plt.show()"
   ]
  },
  {
   "cell_type": "code",
   "execution_count": 324,
   "metadata": {},
   "outputs": [
    {
     "name": "stdout",
     "output_type": "stream",
     "text": [
      "human path average 5.35677540044\n",
      "network path average 2.36525907594\n",
      "The difference human - network is 2.9915163245\n"
     ]
    }
   ],
   "source": [
    "# Spyrja um backid i tima\n",
    "\n",
    "print \"human path average {}\".format(np.mean(human_paths_length.values()))\n",
    "print \"network path average {}\".format(np.mean(shortest_paths.values()))\n",
    "print \"The difference human - network is {}\".format(np.mean(human_paths_length.values()) - np.mean(shortest_paths.values()))"
   ]
  },
  {
   "cell_type": "code",
   "execution_count": 325,
   "metadata": {},
   "outputs": [
    {
     "name": "stdout",
     "output_type": "stream",
     "text": [
      "51318\n",
      "51317\n"
     ]
    }
   ],
   "source": [
    "# Scatter\n",
    "print len(human_paths_length)\n",
    "print len(shortest_paths)\n"
   ]
  },
  {
   "cell_type": "code",
   "execution_count": 326,
   "metadata": {},
   "outputs": [
    {
     "data": {
      "text/plain": [
       "419"
      ]
     },
     "execution_count": 326,
     "metadata": {},
     "output_type": "execute_result"
    }
   ],
   "source": [
    "max(human_paths)"
   ]
  },
  {
   "cell_type": "code",
   "execution_count": 327,
   "metadata": {},
   "outputs": [
    {
     "data": {
      "image/png": "[encoded data removed]",
      "text/plain": [
       "<matplotlib.figure.Figure at 0x1bff7ba8>"
      ]
     },
     "metadata": {},
     "output_type": "display_data"
    },
    {
     "name": "stdout",
     "output_type": "stream",
     "text": [
      "[[ 1.          0.20678837]\n",
      " [ 0.20678837  1.        ]]\n"
     ]
    }
   ],
   "source": [
    "human_paths = []\n",
    "best_paths = []\n",
    "for id in shortest_paths:\n",
    "    human_paths.append(human_paths_length[id])\n",
    "    best_paths.append(shortest_paths[id])\n",
    "    \n",
    "plt.plot(human_paths, best_paths, 'o', alpha = 0.4, color = 'orange')\n",
    "plt.show()\n",
    "print np.corrcoef(human_paths, best_paths)"
   ]
  },
  {
   "cell_type": "markdown",
   "metadata": {},
   "source": [
    "This shows that the human paths and the best paths are not correlated. If they were to be correlated the correlation would need to be higher than 0.7 as a general rule. However, in our case it is around 0.21. We can see that there is one dum perticapant who takes 419 clicks instead of 1."
   ]
  },
  {
   "cell_type": "markdown",
   "metadata": {},
   "source": [
    "# Betweenness\n",
    "\n",
    "An interesting definition of centrality is _betweenness centrality_ (here's a handy [link to the NetworkX documentation](http://networkx.readthedocs.io/en/stable/reference/generated/networkx.algorithms.centrality.betweenness_centrality.html)). In a traditional setting, this measure calculates all shortest paths in the network and then each node gets a score according to which fraction of all shortest paths pass through that node.\n",
    "\n",
    "\n",
    "In this part, we will create our own version of centrality, based on the _source_/_target_ pairs in our dataset. We define a nodes's **navigation centrality** as follows. \n",
    "\n",
    "> *Navigation centrality* of node $i$ is the fraction of all naviagtion paths that pass through $i$. We exclude the source and target from the count. If a node has not been visited by a search, the navigation centrality of that node is defined to be zero.\n",
    "\n",
    "In the exercises below, we investigate the relationship between navigation centrality and betweenness centrality."
   ]
  },
  {
   "cell_type": "markdown",
   "metadata": {},
   "source": [
    "*Exercises*\n",
    "\n",
    "> Begin by calculating the betweenness centrality and navigation centrality of all nodes in the wikispedia dataset.\n",
    "> Note that calculating the betweenness centrality can take quite a long time, so you might start it running in a separate notebook while first estimating it based on the existing human path.\n",
    ">\n",
    "> * First, list the 5 pages with highest navigation centrality.\n",
    "> * Second, list the 5 pages with highest betweenness centrality.\n",
    "> * Compare the two lists. Explain the differences between the two lists in your own words.\n",
    "> * Create a scatterplot of betweenness centrality vs. navigation centrality.\n",
    "> * Let's explore the pages that have navigation centrality equal to zero.\n",
    ">   * How many pages have zero navigation centrality?\n",
    ">   * What is the the page with zero navigation centrality and highest betweenness centrality? Can you explain why no human navigated to this page? Can you explain why the page is central in the actual link network? (For example, you can take a look at the degree of the node).\n",
    ">   * Plot the distribution of betweenness centrality for the pages with zero navigation centrality. My plot on log-log scale:\n",
    "![alt text](https://raw.githubusercontent.com/suneman/socialgraphs2016/master/files/betweenness.png)\n",
    "\n",
    "> * Now, let's *throw out all pages with zero navigation centrality* and compare navigation- and betweenness centrality for the remaining pages.\n",
    ">   * What is the correlation between betweenness centrality and navigation centrality?\n",
    ">   * Comment on the top 5 outliers."
   ]
  },
  {
   "cell_type": "code",
   "execution_count": 334,
   "metadata": {},
   "outputs": [
    {
     "name": "stdout",
     "output_type": "stream",
     "text": [
      "14th_century African_slave_trade\n",
      "dnoe\n"
     ]
    }
   ],
   "source": [
    "# Navigation centrality of node  ii  is the fraction of all naviagtion paths that pass through  ii .\n",
    "# We exclude the source and target from the count. If a node has not been visited by a search, the navigation centrality of\n",
    "# that node is defined to be zero.\n",
    "\n",
    "\n",
    "# Finna allar leiðir sem fara í gegnum ii og deila með öllum leiðum\n",
    "navigation_count = {}\n",
    "path_count = 0\n",
    "with open(\"/Users/helga/Documents/SocialGraphs/wikispeedia_paths-and-graph/wikispeedia_paths-and-graph/paths_finished.tsv\") as f:\n",
    "    for line in f:\n",
    "        line = line.split()\n",
    "        # if we have a blank line or a line that starts with a comment, we dont use it\n",
    "        if len(line) > 0 and line[0] != \"#\":\n",
    "            path = line[3] # this is where the path is in the data file\n",
    "            nodes = path.split(\";\")\n",
    "            if \"<\" in nodes:\n",
    "                nodes = [node for node in nodes if node != \"<\"]\n",
    "            # count how many times a node is in the path 'that is navigation'\n",
    "            for node in nodes:\n",
    "                if node != source and node != target: \n",
    "                    if node in navigation_count:\n",
    "                        navigation_count[node] += 1\n",
    "                    else:\n",
    "                        navigation_count[node] = 1\n",
    "            path_count += 1\n",
    "\n",
    "print \"dnoe\""
   ]
  },
  {
   "cell_type": "code",
   "execution_count": 340,
   "metadata": {},
   "outputs": [
    {
     "name": "stdout",
     "output_type": "stream",
     "text": [
      "[('United_States', 8896), ('Europe', 4362), ('United_Kingdom', 3904), ('England', 3332), ('Earth', 3223)]\n"
     ]
    }
   ],
   "source": [
    "# divide the navigation count with the path count to get the navigation centrality\n",
    "for key in navigation_count:\n",
    "    navigation_count[node] = navigation_count[node] / path_count\n",
    "navigation = sorted(navigation_count.items(), key=lambda x: x[1],  reverse = True)\n",
    "print navigation[:5]"
   ]
  },
  {
   "cell_type": "code",
   "execution_count": 341,
   "metadata": {},
   "outputs": [
    {
     "name": "stdout",
     "output_type": "stream",
     "text": [
      "[('United_States', 0.1252161325379494), ('United_Kingdom', 0.04738683598690359), ('Europe', 0.044657653090970265), ('France', 0.0368094045953468), ('England', 0.03359703151055264)]\n"
     ]
    }
   ],
   "source": [
    "# calculate the betweenness\n",
    "\n",
    "betweenness = nx.betweenness_centrality(G2)\n",
    "betweenness = sorted(betweenness.items(), key=lambda x: x[1],  reverse = True)\n",
    "print betweenness[:5]"
   ]
  },
  {
   "cell_type": "markdown",
   "metadata": {},
   "source": [
    " ### Compare the two lists. Explain the differences between the two lists in your own words.\n",
    " \n",
    " The betweenness calculates how many times a node is in the shortest path, while the navigation calculates how many times users used a given node while going to a certain target. The difference lies in the \"shortest path\" the user dose not need to take the shorteset path to go to a certain site, and thus dose not need to travel the same nodes. The navigation has a more human persepective where we try to predict in what way we will go fastest towards our goal, while the other one simply calculates it."
   ]
  },
  {
   "cell_type": "code",
   "execution_count": 354,
   "metadata": {},
   "outputs": [
    {
     "name": "stdout",
     "output_type": "stream",
     "text": [
      "4592\n",
      "4167\n",
      "4166\n",
      "4166\n"
     ]
    },
    {
     "data": {
      "image/png": "[encoded data removed]",
      "text/plain": [
       "<matplotlib.figure.Figure at 0xb7e3710>"
      ]
     },
     "metadata": {},
     "output_type": "display_data"
    },
    {
     "name": "stdout",
     "output_type": "stream",
     "text": [
      "[[ 1.          0.86109373]\n",
      " [ 0.86109373  1.        ]]\n"
     ]
    }
   ],
   "source": [
    "print len(betweenness)\n",
    "print len(navigation)\n",
    "navigation_centrality = dict(navigation)\n",
    "betweeness_centrality = dict(betweenness)\n",
    "nav = []\n",
    "bet = []\n",
    "for key in navigation_centrality:\n",
    "    try:\n",
    "        bet.append(betweeness_centrality[key])\n",
    "        nav.append(navigation_centrality[key])\n",
    "    except:\n",
    "        pass\n",
    "print len(nav)\n",
    "print len(bet)\n",
    "plt.plot(bet, nav, 'o', color = 'magenta', alpha = 0.6)\n",
    "plt.show()\n",
    "\n",
    "print np.corrcoef(bet, nav)"
   ]
  },
  {
   "cell_type": "code",
   "execution_count": 408,
   "metadata": {},
   "outputs": [
    {
     "name": "stdout",
     "output_type": "stream",
     "text": [
      "426\n",
      "1\n"
     ]
    }
   ],
   "source": [
    "# If a node has not been visited by a search, the navigation centrality of that node is defined to be zero.\n",
    "nav_zero = set(betweeness_centrality.keys()).difference(navigation_centrality.keys())\n",
    "nav_zero1 = set(navigation_centrality.keys()).difference(betweeness_centrality.keys())\n",
    "print len(nav_zero)\n"
   ]
  },
  {
   "cell_type": "code",
   "execution_count": 398,
   "metadata": {},
   "outputs": [
    {
     "name": "stdout",
     "output_type": "stream",
     "text": [
      "List_of_lakes 0.000914289577361\n"
     ]
    }
   ],
   "source": [
    "# What is the the page with zero navigation centrality and highest betweenness centrality?\n",
    "nav_zero_between = {}\n",
    "\n",
    "for node in nav_zero:\n",
    "    nav_zero_between[node] = betweeness_centrality[node]\n",
    "maximum = max(nav_zero_between, key=nav_zero_between.get)\n",
    "print maximum, nav_zero_between[maximum]\n"
   ]
  },
  {
   "cell_type": "code",
   "execution_count": 406,
   "metadata": {},
   "outputs": [
    {
     "name": "stdout",
     "output_type": "stream",
     "text": [
      "426\n",
      "426\n"
     ]
    }
   ],
   "source": [
    "# hér þarf maður örruglega að bina þetta sjálfur.. skoða þetta aððeins betur, hér meikar ekki mikið sens að nota\n",
    "# counterinn vegna þess að þá er maður bara að telja hversu offt hvert gildi kemur fyrir\n",
    "nav_zero_val,nav_zero_bins = np.histogram(nav_zero_between.values(),bins = 32)\n",
    "print len(nav_zero)\n",
    "print len(nav_zero_between)"
   ]
  },
  {
   "cell_type": "code",
   "execution_count": 407,
   "metadata": {},
   "outputs": [
    {
     "name": "stdout",
     "output_type": "stream",
     "text": [
      "391\n"
     ]
    },
    {
     "data": {
      "image/png": "[encoded data removed]",
      "text/plain": [
       "<matplotlib.figure.Figure at 0x16ee1438>"
      ]
     },
     "metadata": {},
     "output_type": "display_data"
    }
   ],
   "source": [
    "\n",
    "nav_zero_dist = Counter(nav_zero_between.values()) # þetta kom skrýngilega ´´ut\n",
    "#print nav_zero_dist\n",
    "print len(nav_zero_dist)\n",
    "plt.plot(nav_zero_bins[:-1], nav_zero_val)\n",
    "plt.xscale('log')\n",
    "plt.yscale('log')\n",
    "plt.show()"
   ]
  },
  {
   "cell_type": "markdown",
   "metadata": {},
   "source": [
    "##### Can you explain why no human navigated to this page? Can you explain why the page is central in the actual link network? (For example, you can take a look at the degree of the node).\n",
    "\n",
    "Já þetta er spruning"
   ]
  },
  {
   "cell_type": "markdown",
   "metadata": {},
   "source": [
    "# Bringing the text into the picture\n",
    "\n",
    "Now that we have an idea about the differences between how humans and computers search in networks, we are going to dig a little deeper using the page content to test a hypothesis to explain why the human navigation paths are longer. The general idea is that humans (who don't know about the global network structure) tend to jump between pages that have related _content_. For this reason we expect that (on average) human navigation paths have more similar content than the shortest paths in the network (which might take 'surprising' shortcuts via relatively unrelated pages). In short.\n",
    "\n",
    "> **Hypothesis H1**: Human navigation paths have more similar content than network shortest paths.\n",
    "\n",
    "The way we'll test this hypothesis is to first represent each page as a vector using a bag-of-words approach, then we can calculate a distance between pairs of pages using some vector-space difference, and finally we'll characterize each path by its average pair-wise distance. Below, I've set up that process as an exercise. "
   ]
  },
  {
   "cell_type": "markdown",
   "metadata": {},
   "source": [
    "*Exercises*\n",
    "\n",
    "> First, create a TF-IDF vector for each page. You already know all about TF-IDF from last week's exercise. The main difference is that we now _characterize **each page** by a TF-IDF vector_ and not a group of pages.\n",
    "> \n",
    "> Second, write a function that calculates the distance between a pair of vectors. There are many ways to calculate distances between a pair of vectors (try a Google search for `vector space distance measures` if you want to refresh your knowledge on this topic). You're free to choose what you want, but we recommend the [cosine similarity](https://en.wikipedia.org/wiki/Cosine_similarity).\n",
    ">\n",
    "> Now you're ready for the exercises\n",
    "> \n",
    "> * Calculate the average similarity for all human navigation paths (the _source_/_target_ pairs from above). Calculate mean/variance of these average similarities.\n",
    "> * Calculate the average similarity for all shortest paths between the _source_/_target_ pairs. Calculate mean/variance of these average similarities.\n",
    "> * Plot the distributions of average similarities for both human- and shortest paths in a single plot. If everything works well, you should see something similar to the following:\n",
    "![alt text](https://raw.githubusercontent.com/suneman/socialgraphs2016/master/files/path-similarity.png)\n",
    "\n",
    "> * Finally, for each source/target pair, compare the human-navigation average similarity with the betweenness based average similarity, testing what fraction of the time, the average similarity is lower in the case of human navigation.\n",
    "> * Comment on your findings. Is **H1** true?"
   ]
  },
  {
   "cell_type": "code",
   "execution_count": null,
   "metadata": {
    "collapsed": true
   },
   "outputs": [],
   "source": []
  }
 ],
 "metadata": {
  "anaconda-cloud": {},
  "kernelspec": {
   "display_name": "Python 2",
   "language": "python",
   "name": "python2"
  },
  "language_info": {
   "codemirror_mode": {
    "name": "ipython",
    "version": 2
   },
   "file_extension": ".py",
   "mimetype": "text/x-python",
   "name": "python",
   "nbconvert_exporter": "python",
   "pygments_lexer": "ipython2",
   "version": "2.7.13"
  }
 },
 "nbformat": 4,
 "nbformat_minor": 1
}
